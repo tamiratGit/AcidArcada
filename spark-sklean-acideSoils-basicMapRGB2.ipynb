{
 "cells": [
  {
   "cell_type": "markdown",
   "id": "a68e4521-58c5-443f-a55b-b00921aecf82",
   "metadata": {},
   "source": [
    "### Importing Libraries"
   ]
  },
  {
   "cell_type": "code",
   "execution_count": 87,
   "id": "539acbd5-06ed-4ca4-b4e8-cc3c8b651b9f",
   "metadata": {},
   "outputs": [],
   "source": [
    "#Generic Libraries\n",
    "%matplotlib inline\n",
    "import matplotlib.pyplot as plt\n",
    "import geopandas as gpd\n",
    "import seaborn as sns\n",
    "from PIL import Image\n",
    "import pandas as pd\n",
    "import numpy as np\n",
    "\n",
    "#Apache Spark Libraries\n",
    "from pyspark.sql import SparkSession, Row\n",
    "from pyspark.ml.feature import VectorAssembler\n",
    "from pyspark.ml.classification import RandomForestClassifier\n",
    "from pyspark.sql import functions as F\n",
    "from pyspark.sql import types as T\n",
    "\n",
    "\n",
    "# sklearn Libraries\n",
    "import sklearn\n",
    "from sklearn.model_selection import train_test_split"
   ]
  },
  {
   "cell_type": "code",
   "execution_count": 88,
   "id": "088c8033-8b6f-4da6-a4db-8e07dcfff091",
   "metadata": {},
   "outputs": [
    {
     "data": {
      "text/html": [
       "<div>\n",
       "<style scoped>\n",
       "    .dataframe tbody tr th:only-of-type {\n",
       "        vertical-align: middle;\n",
       "    }\n",
       "\n",
       "    .dataframe tbody tr th {\n",
       "        vertical-align: top;\n",
       "    }\n",
       "\n",
       "    .dataframe thead th {\n",
       "        text-align: right;\n",
       "    }\n",
       "</style>\n",
       "<table border=\"1\" class=\"dataframe\">\n",
       "  <thead>\n",
       "    <tr style=\"text-align: right;\">\n",
       "      <th></th>\n",
       "      <th>POINT_X</th>\n",
       "      <th>POINT_Y</th>\n",
       "      <th>CLASS</th>\n",
       "      <th>geometry</th>\n",
       "    </tr>\n",
       "  </thead>\n",
       "  <tbody>\n",
       "    <tr>\n",
       "      <th>0</th>\n",
       "      <td>441468.7125</td>\n",
       "      <td>7184281.005</td>\n",
       "      <td>ASS</td>\n",
       "      <td>None</td>\n",
       "    </tr>\n",
       "    <tr>\n",
       "      <th>1</th>\n",
       "      <td>441852.3101</td>\n",
       "      <td>7186002.327</td>\n",
       "      <td>ASS</td>\n",
       "      <td>None</td>\n",
       "    </tr>\n",
       "    <tr>\n",
       "      <th>2</th>\n",
       "      <td>442236.5012</td>\n",
       "      <td>7185249.359</td>\n",
       "      <td>ASS</td>\n",
       "      <td>None</td>\n",
       "    </tr>\n",
       "    <tr>\n",
       "      <th>3</th>\n",
       "      <td>420520.3581</td>\n",
       "      <td>7208257.978</td>\n",
       "      <td>ASS</td>\n",
       "      <td>None</td>\n",
       "    </tr>\n",
       "  </tbody>\n",
       "</table>\n",
       "</div>"
      ],
      "text/plain": [
       "       POINT_X      POINT_Y CLASS geometry\n",
       "0  441468.7125  7184281.005   ASS     None\n",
       "1  441852.3101  7186002.327   ASS     None\n",
       "2  442236.5012  7185249.359   ASS     None\n",
       "3  420520.3581  7208257.978   ASS     None"
      ]
     },
     "execution_count": 88,
     "metadata": {},
     "output_type": "execute_result"
    }
   ],
   "source": [
    "spark = SparkSession.builder.appName('AcidSoils').getOrCreate()\n",
    "source = gpd.read_file(\"data/GTK_ASsoil_obs.csv\")\n",
    "source.head(4)"
   ]
  },
  {
   "cell_type": "code",
   "execution_count": 89,
   "id": "ed615b35-b31e-4fe8-b665-eb282961dff2",
   "metadata": {},
   "outputs": [
    {
     "data": {
      "text/html": [
       "<div>\n",
       "<style scoped>\n",
       "    .dataframe tbody tr th:only-of-type {\n",
       "        vertical-align: middle;\n",
       "    }\n",
       "\n",
       "    .dataframe tbody tr th {\n",
       "        vertical-align: top;\n",
       "    }\n",
       "\n",
       "    .dataframe thead th {\n",
       "        text-align: right;\n",
       "    }\n",
       "</style>\n",
       "<table border=\"1\" class=\"dataframe\">\n",
       "  <thead>\n",
       "    <tr style=\"text-align: right;\">\n",
       "      <th></th>\n",
       "      <th>CLASS</th>\n",
       "      <th>geometry</th>\n",
       "    </tr>\n",
       "  </thead>\n",
       "  <tbody>\n",
       "    <tr>\n",
       "      <th>0</th>\n",
       "      <td>ASS</td>\n",
       "      <td>POINT (25.76894 64.77799)</td>\n",
       "    </tr>\n",
       "    <tr>\n",
       "      <th>1</th>\n",
       "      <td>ASS</td>\n",
       "      <td>POINT (25.77630 64.79350)</td>\n",
       "    </tr>\n",
       "    <tr>\n",
       "      <th>2</th>\n",
       "      <td>ASS</td>\n",
       "      <td>POINT (25.78469 64.78681)</td>\n",
       "    </tr>\n",
       "    <tr>\n",
       "      <th>3</th>\n",
       "      <td>ASS</td>\n",
       "      <td>POINT (25.31512 64.98873)</td>\n",
       "    </tr>\n",
       "  </tbody>\n",
       "</table>\n",
       "</div>"
      ],
      "text/plain": [
       "  CLASS                   geometry\n",
       "0   ASS  POINT (25.76894 64.77799)\n",
       "1   ASS  POINT (25.77630 64.79350)\n",
       "2   ASS  POINT (25.78469 64.78681)\n",
       "3   ASS  POINT (25.31512 64.98873)"
      ]
     },
     "execution_count": 89,
     "metadata": {},
     "output_type": "execute_result"
    }
   ],
   "source": [
    "geom = gpd.points_from_xy(source.POINT_X.astype(\"float\"), source.POINT_Y.astype(\"float\"))\n",
    "points = gpd.GeoDataFrame(source.CLASS, crs=\"EPSG:3067\", geometry=geom).to_crs(\"WGS84\")\n",
    "points.head(4)"
   ]
  },
  {
   "cell_type": "code",
   "execution_count": 90,
   "id": "74edc47b-aa18-486c-a821-c06f9ea189b9",
   "metadata": {},
   "outputs": [
    {
     "data": {
      "text/html": [
       "<div>\n",
       "<style scoped>\n",
       "    .dataframe tbody tr th:only-of-type {\n",
       "        vertical-align: middle;\n",
       "    }\n",
       "\n",
       "    .dataframe tbody tr th {\n",
       "        vertical-align: top;\n",
       "    }\n",
       "\n",
       "    .dataframe thead th {\n",
       "        text-align: right;\n",
       "    }\n",
       "</style>\n",
       "<table border=\"1\" class=\"dataframe\">\n",
       "  <thead>\n",
       "    <tr style=\"text-align: right;\">\n",
       "      <th></th>\n",
       "      <th>CLASS</th>\n",
       "      <th>geometry</th>\n",
       "      <th>x</th>\n",
       "      <th>y</th>\n",
       "    </tr>\n",
       "  </thead>\n",
       "  <tbody>\n",
       "    <tr>\n",
       "      <th>0</th>\n",
       "      <td>ASS</td>\n",
       "      <td>POINT (25.76894 64.77799)</td>\n",
       "      <td>25.768938</td>\n",
       "      <td>64.777988</td>\n",
       "    </tr>\n",
       "    <tr>\n",
       "      <th>1</th>\n",
       "      <td>ASS</td>\n",
       "      <td>POINT (25.77630 64.79350)</td>\n",
       "      <td>25.776304</td>\n",
       "      <td>64.793496</td>\n",
       "    </tr>\n",
       "    <tr>\n",
       "      <th>2</th>\n",
       "      <td>ASS</td>\n",
       "      <td>POINT (25.78469 64.78681)</td>\n",
       "      <td>25.784691</td>\n",
       "      <td>64.786808</td>\n",
       "    </tr>\n",
       "    <tr>\n",
       "      <th>3</th>\n",
       "      <td>ASS</td>\n",
       "      <td>POINT (25.31512 64.98873)</td>\n",
       "      <td>25.315115</td>\n",
       "      <td>64.988732</td>\n",
       "    </tr>\n",
       "  </tbody>\n",
       "</table>\n",
       "</div>"
      ],
      "text/plain": [
       "  CLASS                   geometry          x          y\n",
       "0   ASS  POINT (25.76894 64.77799)  25.768938  64.777988\n",
       "1   ASS  POINT (25.77630 64.79350)  25.776304  64.793496\n",
       "2   ASS  POINT (25.78469 64.78681)  25.784691  64.786808\n",
       "3   ASS  POINT (25.31512 64.98873)  25.315115  64.988732"
      ]
     },
     "execution_count": 90,
     "metadata": {},
     "output_type": "execute_result"
    }
   ],
   "source": [
    "points[\"x\"] = points.geometry.x\n",
    "points[\"y\"] = points.geometry.y\n",
    "\n",
    "points.head(4)"
   ]
  },
  {
   "cell_type": "code",
   "execution_count": 91,
   "id": "8d77368d-ffb3-45ad-bcfc-63cf573ef391",
   "metadata": {},
   "outputs": [
    {
     "name": "stdout",
     "output_type": "stream",
     "text": [
      "+-----+---------------------------+------------------+-----------------+\n",
      "|CLASS|geometry                   |x                 |y                |\n",
      "+-----+---------------------------+------------------+-----------------+\n",
      "|ASS  |{105553121059456, false, 2}|25.768937832725747|64.77798766173387|\n",
      "|ASS  |{105553121063584, false, 2}|25.77630416654702 |64.79349633623737|\n",
      "|ASS  |{105553121064256, false, 2}|25.784691167397362|64.7868078298281 |\n",
      "|ASS  |{105553121065216, false, 2}|25.315115332474953|64.98873249710591|\n",
      "+-----+---------------------------+------------------+-----------------+\n",
      "only showing top 4 rows\n",
      "\n"
     ]
    }
   ],
   "source": [
    "df = spark.createDataFrame(points)\n",
    "df.show(4,truncate=False)"
   ]
  },
  {
   "cell_type": "code",
   "execution_count": 92,
   "id": "3b0d9fb8-48da-467d-9f2e-382500c886f0",
   "metadata": {},
   "outputs": [
    {
     "name": "stdout",
     "output_type": "stream",
     "text": [
      "+---------------------------+------------------+-----------------+-----+\n",
      "|geometry                   |x                 |y                |class|\n",
      "+---------------------------+------------------+-----------------+-----+\n",
      "|{105553121059456, false, 2}|25.768937832725747|64.77798766173387|1    |\n",
      "|{105553121063584, false, 2}|25.77630416654702 |64.79349633623737|1    |\n",
      "|{105553121064256, false, 2}|25.784691167397362|64.7868078298281 |1    |\n",
      "|{105553121065216, false, 2}|25.315115332474953|64.98873249710591|1    |\n",
      "+---------------------------+------------------+-----------------+-----+\n",
      "only showing top 4 rows\n",
      "\n"
     ]
    }
   ],
   "source": [
    "df= (df.\n",
    "    select(\n",
    "        \"geometry\",\"x\",\"y\",\n",
    "    (F.col(\"CLASS\") == \"ASS\").astype(\"int\").alias(\"class\"),\n",
    "    )\n",
    ")\n",
    "df.show(4,truncate=False)"
   ]
  },
  {
   "cell_type": "code",
   "execution_count": 93,
   "id": "6ed25634-1671-4fde-8f12-0ccc165d05d2",
   "metadata": {},
   "outputs": [
    {
     "name": "stdout",
     "output_type": "stream",
     "text": [
      "+-----+-----+\n",
      "|class|count|\n",
      "+-----+-----+\n",
      "|    1| 3490|\n",
      "|    0| 2334|\n",
      "+-----+-----+\n",
      "\n"
     ]
    }
   ],
   "source": [
    "df.groupby('class').count().show()"
   ]
  },
  {
   "cell_type": "markdown",
   "id": "20ddd67a-2e98-4636-80c8-6f146f097d56",
   "metadata": {
    "tags": []
   },
   "source": [
    "## Add point ID"
   ]
  },
  {
   "cell_type": "code",
   "execution_count": 94,
   "id": "c37a2248-6e16-44be-8041-9546d9231db8",
   "metadata": {},
   "outputs": [],
   "source": [
    "TILE_SIZE = 256\n",
    "\n",
    "@F.udf(returnType=T.ArrayType(T.IntegerType()))\n",
    "def project_pixel(lon, lat, zoom):\n",
    "    # lon, lat = p.geometry.x, p.geometry.y\n",
    "    \n",
    "    siny = np.sin(lat * np.pi / 180)\n",
    "    siny = min(max(siny, -0.9999), 0.9999)\n",
    "    \n",
    "    x = TILE_SIZE * (0.5 + lon / 360)\n",
    "    y = TILE_SIZE * (0.5 - np.log((1 + siny) / (1 - siny)) / (4 * np.pi))\n",
    "    \n",
    "    scale = 2**zoom\n",
    "\n",
    "    tx = x * scale // TILE_SIZE\n",
    "    ty = y * scale // TILE_SIZE\n",
    "\n",
    "    px = x * scale % TILE_SIZE // 1\n",
    "    py = y * scale % TILE_SIZE // 1\n",
    "\n",
    "    return [int(px), int(py)]\n",
    "        \n",
    "@F.udf(returnType=T.ArrayType(T.IntegerType()))\n",
    "def project_tile(lon, lat, zoom):\n",
    "    \n",
    "    siny = np.sin(lat * np.pi / 180)\n",
    "    siny = min(max(siny, -0.9999), 0.9999)\n",
    "    \n",
    "    x = TILE_SIZE * (0.5 + lon / 360)\n",
    "    y = TILE_SIZE * (0.5 - np.log((1 + siny) / (1 - siny)) / (4 * np.pi))\n",
    "    \n",
    "    scale = 2**zoom\n",
    "\n",
    "    tx = x * scale // TILE_SIZE\n",
    "    ty = y * scale // TILE_SIZE\n",
    "\n",
    "    px = x * scale % TILE_SIZE // 1\n",
    "    py = y * scale % TILE_SIZE // 1\n",
    "\n",
    "    return [int(zoom), int(tx), int(ty)]"
   ]
  },
  {
   "cell_type": "code",
   "execution_count": null,
   "id": "989b24ac-31d4-46ea-9147-6c274909036e",
   "metadata": {},
   "outputs": [],
   "source": []
  },
  {
   "cell_type": "code",
   "execution_count": 95,
   "id": "2bbd4e4f-72bb-4970-adeb-e4eeb78d85d6",
   "metadata": {},
   "outputs": [
    {
     "name": "stdout",
     "output_type": "stream",
     "text": [
      "+-----+---------+------------+--------+\n",
      "|class|   pixel8|       tile8|point_id|\n",
      "+-----+---------+------------+--------+\n",
      "|    1|[83, 254]|[8, 146, 66]|       0|\n",
      "|    1|[84, 247]|[8, 146, 66]|       1|\n",
      "|    1|[85, 250]|[8, 146, 66]|       2|\n",
      "|    1| [0, 163]|[8, 146, 66]|       3|\n",
      "+-----+---------+------------+--------+\n",
      "only showing top 4 rows\n",
      "\n"
     ]
    }
   ],
   "source": [
    "#for zoom = 8\n",
    "df_points8 = (\n",
    "    df\n",
    "    .withColumn(\"pixel8\", project_pixel(df.x, df.y, F.lit(8)))\n",
    "    .withColumn(\"tile8\", project_tile(df.x, df.y,F.lit(8)))\n",
    "    .withColumn(\"point_id\", F.monotonically_increasing_id())\n",
    "    .drop(\"x\",\"y\",\"geometry\")\n",
    "    \n",
    ")\n",
    "df_points8.show(4)"
   ]
  },
  {
   "cell_type": "code",
   "execution_count": 96,
   "id": "82b379c6-918d-4657-bbca-39643fc4462b",
   "metadata": {},
   "outputs": [],
   "source": [
    "#for zoom = 8\n",
    "df_points9 = (\n",
    "    df\n",
    "    .withColumn(\"pixel9\", project_pixel(df.x, df.y, F.lit(9)))\n",
    "    .withColumn(\"tile9\", project_tile(df.x, df.y,F.lit(9)))\n",
    "    .withColumn(\"point_id\", F.monotonically_increasing_id())\n",
    "    .drop(\"x\",\"y\",\"geometry\")\n",
    ")\n",
    "#df_points9.show(4)"
   ]
  },
  {
   "cell_type": "code",
   "execution_count": 97,
   "id": "ee346c7b-8a76-4cf2-acdb-f1538afa142b",
   "metadata": {},
   "outputs": [],
   "source": [
    "#for zoom = 8\n",
    "df_points10 = (\n",
    "    df\n",
    "\n",
    "    .withColumn(\"pixel10\", project_pixel(df.x, df.y, F.lit(10)))\n",
    "    .withColumn(\"tile10\", project_tile(df.x, df.y,F.lit(10)))\n",
    "    .withColumn(\"point_id\", F.monotonically_increasing_id())\n",
    "    .drop(\"x\",\"y\",\"geometry\")\n",
    "    \n",
    ")\n",
    "\n",
    "#df_points10.show(4)\n"
   ]
  },
  {
   "cell_type": "markdown",
   "id": "2cf5c88d-574a-4f98-8b3f-cf45a92bf506",
   "metadata": {
    "tags": []
   },
   "source": [
    "## Combine output class with pixel coordinates"
   ]
  },
  {
   "cell_type": "code",
   "execution_count": 98,
   "id": "cd4139af-0496-4a69-81cf-d651ae2dec44",
   "metadata": {},
   "outputs": [],
   "source": [
    "TILES_BASIC = \"/Users/tamiratatsemegiorgis/project/MapTilesViewer/basic/{z}/{x}/{y}.png\"\n",
    "TILES_HILLSHADE =\"/Users/tamiratatsemegiorgis/project/TILES_hillshade/{z}/{x}/{y}.png\"\n",
    "\n",
    "@F.udf(returnType=T.ArrayType(T.ArrayType(T.LongType())))\n",
    "def load_image_data(tile, pixel_data, tiles):\n",
    "    \"\"\"\n",
    "    tiles: folder with tiles\n",
    "    \"\"\"\n",
    "    (z, tx, ty) = tile\n",
    "    fname = tiles.format(z=z, x=tx, y=ty)\n",
    "    im = Image.open(fname)\n",
    "    arr_img= np.array(im)\n",
    "\n",
    "    data = []\n",
    "    for i, j, pid in pixel_data:\n",
    "        if arr_img.shape[-1] == 3:\n",
    "            # color image\n",
    "            r, g, b = arr_img[i, j] # 3 dim array, ?\n",
    "            data.append([int(r), int(g), int(b), pid])\n",
    "        else:\n",
    "            # grayscale image\n",
    "            gray, alpha = arr_img[i, j]\n",
    "            data.append([int(gray), pid])\n",
    "    \n",
    "    return data\n"
   ]
  },
  {
   "cell_type": "code",
   "execution_count": 99,
   "id": "87a9359d-0c41-4121-8d85-52251d83109d",
   "metadata": {},
   "outputs": [],
   "source": [
    "### For zoom 5, TILES_HILLSHADE"
   ]
  },
  {
   "cell_type": "code",
   "execution_count": null,
   "id": "b7e4f8cd-ffca-43d7-94e4-8bbd31399801",
   "metadata": {},
   "outputs": [],
   "source": []
  },
  {
   "cell_type": "markdown",
   "id": "55c457aa-898a-40de-abb5-9f8e98ab0f11",
   "metadata": {},
   "source": [
    "### For zoom 8"
   ]
  },
  {
   "cell_type": "code",
   "execution_count": 100,
   "id": "c287c66e-fa7e-4fbf-a484-17be2daa6720",
   "metadata": {},
   "outputs": [
    {
     "name": "stdout",
     "output_type": "stream",
     "text": [
      "+--------+--------+--------+--------+-----+\n",
      "|point_id|basic_r8|basic_g8|basic_b8|CLASS|\n",
      "+--------+--------+--------+--------+-----+\n",
      "|      26|      61|      77|      48|    1|\n",
      "|      29|      87|      96|      65|    1|\n",
      "+--------+--------+--------+--------+-----+\n",
      "only showing top 2 rows\n",
      "\n"
     ]
    }
   ],
   "source": [
    "df_basic_raw8 = (\n",
    "    df_points8\n",
    "    .select(\n",
    "        \"point_id\", \"pixel8\", \"tile8\",\n",
    "    )\n",
    "    .withColumn(\"pixel_i8\", F.col(\"pixel8\")[0])\n",
    "    .withColumn(\"pixel_j8\", F.col(\"pixel8\")[1])\n",
    "    .withColumn(\"pixel_data8\", F.array(F.col(\"pixel_i8\"), F.col(\"pixel_j8\"), F.col(\"point_id\")))\n",
    "    \n",
    "    # processing\n",
    "    .groupby(\"tile8\")\n",
    "    .agg(\n",
    "        F.collect_list(\"pixel_data8\").alias(\"pixel_data_list8\"),\n",
    "    )\n",
    "    .withColumn(\"data_basic8\", load_image_data(F.col(\"tile8\"), F.col(\"pixel_data_list8\"),F.lit(TILES_BASIC)))\n",
    "    \n",
    "    .select(F.explode(\"data_basic8\").alias(\"data\"))\n",
    "    .select(\n",
    "        F.col(\"data\")[0].alias(\"basic_r8\"),F.col(\"data\")[1].alias(\"basic_g8\"),\n",
    "        F.col(\"data\")[2].alias(\"basic_b8\"),F.col(\"data\")[3].alias(\"point_id\"),     \n",
    "    )\n",
    "    \n",
    "    # put back points class\n",
    "    .join(\n",
    "        df_points8.select(\"CLASS\", \"point_id\"),     on=\"point_id\",\n",
    "    )     \n",
    ")\n",
    "df_basic_raw8.show(2)"
   ]
  },
  {
   "cell_type": "code",
   "execution_count": null,
   "id": "28a8cdcd-dbb4-47d8-a7cc-d2003ed4d665",
   "metadata": {},
   "outputs": [],
   "source": []
  },
  {
   "cell_type": "markdown",
   "id": "a86ca01b-df0e-4b46-8f59-57962f0900ae",
   "metadata": {},
   "source": [
    " ## For zoom 9"
   ]
  },
  {
   "cell_type": "code",
   "execution_count": 101,
   "id": "1908e79b-03af-4604-a1e5-af2f2998415a",
   "metadata": {},
   "outputs": [],
   "source": [
    "df_basic_raw9 = (\n",
    "    df_points9\n",
    "    .select(\n",
    "        \"point_id\", \"pixel9\", \"tile9\"\n",
    "    )\n",
    "    .withColumn(\"pixel_i9\", F.col(\"pixel9\")[0])\n",
    "    .withColumn(\"pixel_j9\", F.col(\"pixel9\")[1])\n",
    "    .withColumn(\"pixel_data9\", F.array(F.col(\"pixel_i9\"), F.col(\"pixel_j9\"), F.col(\"point_id\")))\n",
    "\n",
    "    # processing\n",
    "    .groupby(\"tile9\")\n",
    "    .agg(\n",
    "        F.collect_list(\"pixel_data9\").alias(\"pixel_data_list9\"),\n",
    "    )\n",
    "    .withColumn(\"data_basic9\", load_image_data(F.col(\"tile9\"), F.col(\"pixel_data_list9\"),F.lit(TILES_BASIC)))\n",
    "    .select(F.explode(\"data_basic9\").alias(\"data\"))\n",
    "    .select(\n",
    "        F.col(\"data\")[0].alias(\"basic_r9\"), F.col(\"data\")[1].alias(\"basic_g9\"),\n",
    "        F.col(\"data\")[2].alias(\"basic_b9\"), F.col(\"data\")[3].alias(\"point_id\"),\n",
    "    )\n",
    "    # put back points class\n",
    "    .join(\n",
    "        df_points9.select(\"CLASS\", \"point_id\"),   \n",
    "        on=\"point_id\",\n",
    "    )      \n",
    ")\n",
    "\n",
    "#df_basic_raw9.show(10)"
   ]
  },
  {
   "cell_type": "markdown",
   "id": "19ffdafd-10be-48ec-99e8-afd56d0eaa15",
   "metadata": {},
   "source": [
    " ## For zoom 10"
   ]
  },
  {
   "cell_type": "code",
   "execution_count": 102,
   "id": "ea6f7254-da95-4371-915e-38415ad69001",
   "metadata": {},
   "outputs": [],
   "source": [
    "df_basic_raw10 = (\n",
    "    df_points10\n",
    "    .select(\n",
    "        \"point_id\", \n",
    "        \"pixel10\", \n",
    "        \"tile10\",\n",
    "        \"class\",\n",
    "    )\n",
    "    .withColumn(\"pixel_i10\", F.col(\"pixel10\")[0])\n",
    "    .withColumn(\"pixel_j10\", F.col(\"pixel10\")[1])\n",
    "    .withColumn(\"pixel_data10\", F.array(F.col(\"pixel_i10\"), F.col(\"pixel_j10\"), F.col(\"point_id\")))\n",
    "\n",
    "    # processing\n",
    "    .groupby(\"tile10\")\n",
    "    .agg(\n",
    "        F.collect_list(\"pixel_data10\").alias(\"pixel_data_list10\"),\n",
    "    )\n",
    "    .withColumn(\"data_basic10\", load_image_data(F.col(\"tile10\"), F.col(\"pixel_data_list10\"),\n",
    "                                               F.lit(TILES_BASIC)))\n",
    "    .select(F.explode(\"data_basic10\").alias(\"data\"))\n",
    "    .select(\n",
    "        F.col(\"data\")[0].alias(\"basic_r10\"),\n",
    "        F.col(\"data\")[1].alias(\"basic_g10\"),\n",
    "        F.col(\"data\")[2].alias(\"basic_b10\"),\n",
    "        F.col(\"data\")[3].alias(\"point_id\"),\n",
    "        \n",
    "    )\n",
    "    # put back points class\n",
    "    .join(\n",
    "        df_points10.select(\"CLASS\", \"point_id\"),\n",
    "        \n",
    "        on=\"point_id\",\n",
    "    )  \n",
    "    \n",
    "    \n",
    ")\n",
    "\n",
    "#df_basic_raw10.show(2)"
   ]
  },
  {
   "cell_type": "markdown",
   "id": "b4a51519-25fb-4054-b97b-f736f421247c",
   "metadata": {},
   "source": []
  },
  {
   "cell_type": "code",
   "execution_count": 103,
   "id": "b90a81dc-95e8-4edc-a2ae-850d4b10f3d3",
   "metadata": {},
   "outputs": [
    {
     "name": "stderr",
     "output_type": "stream",
     "text": [
      "                                                                                \r"
     ]
    },
    {
     "name": "stdout",
     "output_type": "stream",
     "text": [
      "+--------+--------+--------+--------+--------+--------+--------+---------+---------+---------+-----+\n",
      "|point_id|basic_r8|basic_g8|basic_b8|basic_r9|basic_g9|basic_b9|basic_r10|basic_g10|basic_b10|CLASS|\n",
      "+--------+--------+--------+--------+--------+--------+--------+---------+---------+---------+-----+\n",
      "|       0|     100|     114|      78|     107|     101|      75|      106|       92|       66|    1|\n",
      "|       1|     115|     122|      88|      81|     102|      69|       70|       81|       47|    1|\n",
      "|       2|      99|     103|      70|      85|      95|      61|       80|       87|       56|    1|\n",
      "|       3|      81|      97|      61|     104|     114|      90|       60|       79|       51|    1|\n",
      "+--------+--------+--------+--------+--------+--------+--------+---------+---------+---------+-----+\n",
      "only showing top 4 rows\n",
      "\n"
     ]
    }
   ],
   "source": [
    " # Join pyspark datasets for zoom 8,9 and 10\n",
    "sp_df_data_raw_8_9_10 = (\n",
    "    df_basic_raw8.drop(\"CLASS\")\n",
    "    .join(df_basic_raw9.drop(\"CLASS\"), on=\"point_id\")\n",
    "     .join(df_basic_raw10, on=\"point_id\")\n",
    ")\n",
    "sp_df_data_raw_8_9_10.show(4)"
   ]
  },
  {
   "cell_type": "code",
   "execution_count": 104,
   "id": "652a1ece-5d4b-49d0-8f06-8326ef777a83",
   "metadata": {},
   "outputs": [
    {
     "name": "stderr",
     "output_type": "stream",
     "text": [
      "                                                                                \r"
     ]
    },
    {
     "name": "stdout",
     "output_type": "stream",
     "text": [
      "+-----+-----+\n",
      "|CLASS|count|\n",
      "+-----+-----+\n",
      "|    1| 3490|\n",
      "|    0| 2334|\n",
      "+-----+-----+\n",
      "\n"
     ]
    }
   ],
   "source": [
    "#check the CLASS column\n",
    "sp_df_data_raw_8_9_10.groupby('CLASS').count().show()"
   ]
  },
  {
   "cell_type": "code",
   "execution_count": 105,
   "id": "1f75d3e8-1d58-4255-b20e-024c185aa0b3",
   "metadata": {},
   "outputs": [
    {
     "name": "stdout",
     "output_type": "stream",
     "text": [
      "root\n",
      " |-- point_id: long (nullable = true)\n",
      " |-- basic_r8: long (nullable = true)\n",
      " |-- basic_g8: long (nullable = true)\n",
      " |-- basic_b8: long (nullable = true)\n",
      " |-- basic_r9: long (nullable = true)\n",
      " |-- basic_g9: long (nullable = true)\n",
      " |-- basic_b9: long (nullable = true)\n",
      " |-- basic_r10: long (nullable = true)\n",
      " |-- basic_g10: long (nullable = true)\n",
      " |-- basic_b10: long (nullable = true)\n",
      " |-- CLASS: integer (nullable = true)\n",
      "\n"
     ]
    }
   ],
   "source": [
    "sp_df_data_raw_8_9_10.printSchema()"
   ]
  },
  {
   "cell_type": "markdown",
   "id": "8ba0b30c-cd3d-4774-8dae-75eb015dee5c",
   "metadata": {
    "tags": []
   },
   "source": [
    "## Train a Random Forest  Model"
   ]
  },
  {
   "cell_type": "markdown",
   "id": "a7aa733a-eaba-4e01-a8a7-47ca58bd0a14",
   "metadata": {},
   "source": [
    "## Using Sk-learn"
   ]
  },
  {
   "cell_type": "code",
   "execution_count": null,
   "id": "22966c9f-792b-4c4f-930f-7432c83807c4",
   "metadata": {},
   "outputs": [],
   "source": []
  },
  {
   "cell_type": "code",
   "execution_count": 76,
   "id": "0d1d647f-6bb5-4995-918f-2e3c31ad4cfe",
   "metadata": {},
   "outputs": [
    {
     "data": {
      "text/html": [
       "<div>\n",
       "<style scoped>\n",
       "    .dataframe tbody tr th:only-of-type {\n",
       "        vertical-align: middle;\n",
       "    }\n",
       "\n",
       "    .dataframe tbody tr th {\n",
       "        vertical-align: top;\n",
       "    }\n",
       "\n",
       "    .dataframe thead th {\n",
       "        text-align: right;\n",
       "    }\n",
       "</style>\n",
       "<table border=\"1\" class=\"dataframe\">\n",
       "  <thead>\n",
       "    <tr style=\"text-align: right;\">\n",
       "      <th></th>\n",
       "      <th>basic_r8</th>\n",
       "      <th>basic_g8</th>\n",
       "      <th>basic_b8</th>\n",
       "      <th>basic_r9</th>\n",
       "      <th>basic_g9</th>\n",
       "      <th>basic_b9</th>\n",
       "      <th>basic_r10</th>\n",
       "      <th>basic_g10</th>\n",
       "      <th>basic_b10</th>\n",
       "      <th>CLASS</th>\n",
       "    </tr>\n",
       "    <tr>\n",
       "      <th>point_id</th>\n",
       "      <th></th>\n",
       "      <th></th>\n",
       "      <th></th>\n",
       "      <th></th>\n",
       "      <th></th>\n",
       "      <th></th>\n",
       "      <th></th>\n",
       "      <th></th>\n",
       "      <th></th>\n",
       "      <th></th>\n",
       "    </tr>\n",
       "  </thead>\n",
       "  <tbody>\n",
       "    <tr>\n",
       "      <th>0</th>\n",
       "      <td>100</td>\n",
       "      <td>114</td>\n",
       "      <td>78</td>\n",
       "      <td>107</td>\n",
       "      <td>101</td>\n",
       "      <td>75</td>\n",
       "      <td>106</td>\n",
       "      <td>92</td>\n",
       "      <td>66</td>\n",
       "      <td>1</td>\n",
       "    </tr>\n",
       "    <tr>\n",
       "      <th>1</th>\n",
       "      <td>115</td>\n",
       "      <td>122</td>\n",
       "      <td>88</td>\n",
       "      <td>81</td>\n",
       "      <td>102</td>\n",
       "      <td>69</td>\n",
       "      <td>70</td>\n",
       "      <td>81</td>\n",
       "      <td>47</td>\n",
       "      <td>1</td>\n",
       "    </tr>\n",
       "    <tr>\n",
       "      <th>2</th>\n",
       "      <td>99</td>\n",
       "      <td>103</td>\n",
       "      <td>70</td>\n",
       "      <td>85</td>\n",
       "      <td>95</td>\n",
       "      <td>61</td>\n",
       "      <td>80</td>\n",
       "      <td>87</td>\n",
       "      <td>56</td>\n",
       "      <td>1</td>\n",
       "    </tr>\n",
       "    <tr>\n",
       "      <th>3</th>\n",
       "      <td>81</td>\n",
       "      <td>97</td>\n",
       "      <td>61</td>\n",
       "      <td>104</td>\n",
       "      <td>114</td>\n",
       "      <td>90</td>\n",
       "      <td>60</td>\n",
       "      <td>79</td>\n",
       "      <td>51</td>\n",
       "      <td>1</td>\n",
       "    </tr>\n",
       "    <tr>\n",
       "      <th>4</th>\n",
       "      <td>131</td>\n",
       "      <td>139</td>\n",
       "      <td>102</td>\n",
       "      <td>157</td>\n",
       "      <td>165</td>\n",
       "      <td>126</td>\n",
       "      <td>56</td>\n",
       "      <td>56</td>\n",
       "      <td>30</td>\n",
       "      <td>1</td>\n",
       "    </tr>\n",
       "    <tr>\n",
       "      <th>...</th>\n",
       "      <td>...</td>\n",
       "      <td>...</td>\n",
       "      <td>...</td>\n",
       "      <td>...</td>\n",
       "      <td>...</td>\n",
       "      <td>...</td>\n",
       "      <td>...</td>\n",
       "      <td>...</td>\n",
       "      <td>...</td>\n",
       "      <td>...</td>\n",
       "    </tr>\n",
       "    <tr>\n",
       "      <th>60129542867</th>\n",
       "      <td>108</td>\n",
       "      <td>115</td>\n",
       "      <td>81</td>\n",
       "      <td>121</td>\n",
       "      <td>98</td>\n",
       "      <td>67</td>\n",
       "      <td>143</td>\n",
       "      <td>122</td>\n",
       "      <td>93</td>\n",
       "      <td>1</td>\n",
       "    </tr>\n",
       "    <tr>\n",
       "      <th>60129542868</th>\n",
       "      <td>95</td>\n",
       "      <td>111</td>\n",
       "      <td>72</td>\n",
       "      <td>109</td>\n",
       "      <td>118</td>\n",
       "      <td>87</td>\n",
       "      <td>87</td>\n",
       "      <td>98</td>\n",
       "      <td>64</td>\n",
       "      <td>0</td>\n",
       "    </tr>\n",
       "    <tr>\n",
       "      <th>60129542869</th>\n",
       "      <td>95</td>\n",
       "      <td>111</td>\n",
       "      <td>72</td>\n",
       "      <td>109</td>\n",
       "      <td>118</td>\n",
       "      <td>87</td>\n",
       "      <td>87</td>\n",
       "      <td>98</td>\n",
       "      <td>64</td>\n",
       "      <td>0</td>\n",
       "    </tr>\n",
       "    <tr>\n",
       "      <th>60129542870</th>\n",
       "      <td>156</td>\n",
       "      <td>130</td>\n",
       "      <td>97</td>\n",
       "      <td>173</td>\n",
       "      <td>187</td>\n",
       "      <td>151</td>\n",
       "      <td>178</td>\n",
       "      <td>182</td>\n",
       "      <td>145</td>\n",
       "      <td>1</td>\n",
       "    </tr>\n",
       "    <tr>\n",
       "      <th>60129542871</th>\n",
       "      <td>7</td>\n",
       "      <td>37</td>\n",
       "      <td>48</td>\n",
       "      <td>8</td>\n",
       "      <td>38</td>\n",
       "      <td>49</td>\n",
       "      <td>9</td>\n",
       "      <td>38</td>\n",
       "      <td>52</td>\n",
       "      <td>1</td>\n",
       "    </tr>\n",
       "  </tbody>\n",
       "</table>\n",
       "<p>5824 rows × 10 columns</p>\n",
       "</div>"
      ],
      "text/plain": [
       "             basic_r8  basic_g8  basic_b8  basic_r9  basic_g9  basic_b9  \\\n",
       "point_id                                                                  \n",
       "0                 100       114        78       107       101        75   \n",
       "1                 115       122        88        81       102        69   \n",
       "2                  99       103        70        85        95        61   \n",
       "3                  81        97        61       104       114        90   \n",
       "4                 131       139       102       157       165       126   \n",
       "...               ...       ...       ...       ...       ...       ...   \n",
       "60129542867       108       115        81       121        98        67   \n",
       "60129542868        95       111        72       109       118        87   \n",
       "60129542869        95       111        72       109       118        87   \n",
       "60129542870       156       130        97       173       187       151   \n",
       "60129542871         7        37        48         8        38        49   \n",
       "\n",
       "             basic_r10  basic_g10  basic_b10  CLASS  \n",
       "point_id                                             \n",
       "0                  106         92         66      1  \n",
       "1                   70         81         47      1  \n",
       "2                   80         87         56      1  \n",
       "3                   60         79         51      1  \n",
       "4                   56         56         30      1  \n",
       "...                ...        ...        ...    ...  \n",
       "60129542867        143        122         93      1  \n",
       "60129542868         87         98         64      0  \n",
       "60129542869         87         98         64      0  \n",
       "60129542870        178        182        145      1  \n",
       "60129542871          9         38         52      1  \n",
       "\n",
       "[5824 rows x 10 columns]"
      ]
     },
     "execution_count": 76,
     "metadata": {},
     "output_type": "execute_result"
    }
   ],
   "source": [
    "#convert to pandas dataframe\n",
    "df_data_raw_8_9_10=sp_df_data_raw_8_9_10.toPandas()\n",
    "df_data_raw_8_9_10.set_index('point_id')"
   ]
  },
  {
   "cell_type": "code",
   "execution_count": 77,
   "id": "b8c3eb2f-b93a-4c78-90bd-22a253eeba0d",
   "metadata": {},
   "outputs": [
    {
     "data": {
      "text/plain": [
       "CLASS\n",
       "0    2334\n",
       "1    3490\n",
       "dtype: int64"
      ]
     },
     "execution_count": 77,
     "metadata": {},
     "output_type": "execute_result"
    }
   ],
   "source": [
    "df_data_raw_8_9_10.groupby(\"CLASS\").size()\n"
   ]
  },
  {
   "cell_type": "code",
   "execution_count": 78,
   "id": "8a41eb73-3dbb-4cf7-aabf-1a8c8d10e2f8",
   "metadata": {
    "tags": []
   },
   "outputs": [
    {
     "data": {
      "text/plain": [
       "array([[100, 114,  78, ..., 106,  92,  66],\n",
       "       [115, 122,  88, ...,  70,  81,  47],\n",
       "       [ 99, 103,  70, ...,  80,  87,  56],\n",
       "       ...,\n",
       "       [ 95, 111,  72, ...,  87,  98,  64],\n",
       "       [156, 130,  97, ..., 178, 182, 145],\n",
       "       [  7,  37,  48, ...,   9,  38,  52]])"
      ]
     },
     "execution_count": 78,
     "metadata": {},
     "output_type": "execute_result"
    }
   ],
   "source": [
    "X= df_data_raw_8_9_10.iloc[:,1:10].values\n",
    "y=df_data_raw_8_9_10.iloc[:,-1].values\n",
    "X"
   ]
  },
  {
   "cell_type": "code",
   "execution_count": 79,
   "id": "441eb28c-e1fd-470a-8ae9-a27d7a50d52c",
   "metadata": {},
   "outputs": [
    {
     "data": {
      "text/plain": [
       "(3902, 9)"
      ]
     },
     "execution_count": 79,
     "metadata": {},
     "output_type": "execute_result"
    }
   ],
   "source": [
    "X_train, X_test, y_train, y_test = train_test_split(X,y, test_size=0.33,random_state=0)\n",
    "X_train.shape"
   ]
  },
  {
   "cell_type": "code",
   "execution_count": null,
   "id": "8f681b32-e235-4f5c-b4bc-52d71056c4c0",
   "metadata": {},
   "outputs": [],
   "source": []
  },
  {
   "cell_type": "markdown",
   "id": "8fb963e4-3f67-46b9-bbd1-a1bea6e3873b",
   "metadata": {
    "tags": []
   },
   "source": [
    "## Evaluate of a Random Forest Classifier "
   ]
  },
  {
   "cell_type": "code",
   "execution_count": 80,
   "id": "ee0c2520-5f38-4bae-8640-288b33491fea",
   "metadata": {},
   "outputs": [
    {
     "name": "stdout",
     "output_type": "stream",
     "text": [
      "Test set score: 0.60\n",
      "Train set score: 0.9982060481804202\n"
     ]
    }
   ],
   "source": [
    "#Naive \n",
    "from sklearn.ensemble import RandomForestClassifier \n",
    "Rand = RandomForestClassifier( n_estimators=1000,random_state=0 )\n",
    "Rand.fit(X_train, y_train)\n",
    "\n",
    "print(\"Test set score: {:.2f}\".format(Rand.score(X_test, y_test)))\n",
    "print(\"Train set score: {}\".format(Rand.score(X_train, y_train)))\n"
   ]
  },
  {
   "cell_type": "markdown",
   "id": "70544487-f7b5-459b-b19d-ae0e7e1f6f29",
   "metadata": {},
   "source": [
    "\n",
    "## Note : Overfit\n"
   ]
  },
  {
   "cell_type": "code",
   "execution_count": null,
   "id": "b45eb87b-692b-4341-badf-e94676c42a50",
   "metadata": {},
   "outputs": [],
   "source": []
  },
  {
   "cell_type": "code",
   "execution_count": 82,
   "id": "3594630f-d459-4700-a31a-de051748ad1f",
   "metadata": {},
   "outputs": [
    {
     "data": {
      "text/plain": [
       "GridSearchCV(cv=10,\n",
       "             estimator=RandomForestClassifier(n_estimators=1000,\n",
       "                                              random_state=0),\n",
       "             param_grid={'max_depth': [2, 7, 9, 15, 30],\n",
       "                         'n_estimators': [5, 10, 15, 20, 100]})"
      ]
     },
     "execution_count": 82,
     "metadata": {},
     "output_type": "execute_result"
    }
   ],
   "source": [
    "#Grid search with cross validation = 10\n",
    "# Using Grid Search\n",
    "\n",
    "param_grid = { 'n_estimators': [5, 10, 15, 20, 100],\n",
    "                 'max_depth': [2, 7, 9,15,30] }\n",
    "\n",
    "from sklearn.model_selection import GridSearchCV\n",
    "from sklearn.model_selection import cross_val_score\n",
    "\n",
    "grid_search = GridSearchCV(Rand, param_grid, cv=10)\n",
    "grid_search.fit(X_train, y_train)"
   ]
  },
  {
   "cell_type": "code",
   "execution_count": 83,
   "id": "9915c324-2bdf-476f-b50f-d5f2eae8626e",
   "metadata": {},
   "outputs": [
    {
     "name": "stdout",
     "output_type": "stream",
     "text": [
      "Test set score: 0.62\n",
      "Test set score: 0.93\n",
      "Best parameters: {'max_depth': 15, 'n_estimators': 100}\n",
      "Best cross-validation score: 0.62\n",
      "\n",
      "Best estimator:\n",
      "RandomForestClassifier(max_depth=15, random_state=0)\n"
     ]
    }
   ],
   "source": [
    "print(\"Test set score: {:.2f}\".format(grid_search.score(X_test, y_test)))\n",
    "print(\"Test set score: {:.2f}\".format(grid_search.score(X_train, y_train)))\n",
    "print(\"Best parameters: {}\".format(grid_search.best_params_))\n",
    "print(\"Best cross-validation score: {:.2f}\\n\".format(grid_search.best_score_))\n",
    "print(\"Best estimator:\\n{}\".format(grid_search.best_estimator_))"
   ]
  },
  {
   "cell_type": "code",
   "execution_count": null,
   "id": "b1bb5398-f3bf-474b-9c46-c0dd084b3e07",
   "metadata": {},
   "outputs": [],
   "source": []
  },
  {
   "cell_type": "code",
   "execution_count": 84,
   "id": "f9b8d76f-40f6-4ad2-8f75-63852dc8ab14",
   "metadata": {
    "tags": []
   },
   "outputs": [
    {
     "data": {
      "text/plain": [
       "array([1, 1, 0, ..., 1, 1, 1], dtype=int32)"
      ]
     },
     "execution_count": 84,
     "metadata": {},
     "output_type": "execute_result"
    }
   ],
   "source": [
    "#Prediction\n",
    "RF_prodction_class = grid_search.predict(X_test)\n",
    "RF_prodction_class"
   ]
  },
  {
   "cell_type": "code",
   "execution_count": null,
   "id": "ffbfe71e-9a3f-45cb-9c28-a79a67ff212b",
   "metadata": {},
   "outputs": [],
   "source": []
  },
  {
   "cell_type": "code",
   "execution_count": 85,
   "id": "bc477539-8fcb-4ed9-9c45-ef60c3d948c1",
   "metadata": {},
   "outputs": [
    {
     "data": {
      "text/plain": [
       "array([[191, 597],\n",
       "       [142, 992]])"
      ]
     },
     "execution_count": 85,
     "metadata": {},
     "output_type": "execute_result"
    }
   ],
   "source": [
    "#confusion_matrix\n",
    "from sklearn.metrics import accuracy_score, confusion_matrix, classification_report\n",
    "confusion_matrix(y_test, RF_prodction_class)"
   ]
  },
  {
   "cell_type": "code",
   "execution_count": null,
   "id": "0d9a6c70-144a-44de-a9a2-cbcfa161f604",
   "metadata": {},
   "outputs": [],
   "source": []
  },
  {
   "cell_type": "code",
   "execution_count": 86,
   "id": "557a344d-2245-448b-895e-114e71ad4492",
   "metadata": {},
   "outputs": [
    {
     "data": {
      "image/png": "[encoded data removed]",
      "text/plain": [
       "<Figure size 720x360 with 2 Axes>"
      ]
     },
     "metadata": {
      "needs_background": "light"
     },
     "output_type": "display_data"
    }
   ],
   "source": [
    "#Graph the confusion matrix data\n",
    "matrix = confusion_matrix(y_test, RF_prodction_class)\n",
    "matrix = matrix.astype('float') / matrix.sum(axis=1)[:, np.newaxis]\n",
    "\n",
    "# Build the plot\n",
    "plt.figure(figsize=(10,5))\n",
    "sns.set(font_scale=1.4)\n",
    "sns.heatmap(matrix, annot=True, annot_kws={'size':10},\n",
    "            cmap=plt.cm.Greens, linewidths=0.2)\n",
    "\n",
    "# Add labels to the plot\n",
    "class_names = ['non-ASS','ASS']\n",
    "tick_marks = np.arange(len(class_names))\n",
    "tick_marks2 = tick_marks + 0.5\n",
    "plt.xticks(tick_marks, class_names, rotation=0)\n",
    "plt.yticks(tick_marks2, class_names, rotation=0)\n",
    "plt.xlabel('Predicted label')\n",
    "plt.ylabel('True label')\n",
    "plt.title('Confusion Matrix for Random Forest Model')\n",
    "plt.show()"
   ]
  },
  {
   "cell_type": "code",
   "execution_count": null,
   "id": "1b0bd58b-31ec-4826-b571-bf43e76a9fdf",
   "metadata": {},
   "outputs": [],
   "source": []
  },
  {
   "cell_type": "markdown",
   "id": "17011fae-f8b0-4b7b-a92c-cec20df834b0",
   "metadata": {},
   "source": [
    "\n",
    "# Using scikit-elm model"
   ]
  },
  {
   "cell_type": "code",
   "execution_count": null,
   "id": "9930fd0f-9207-421a-aa69-c915e4f4975e",
   "metadata": {},
   "outputs": [],
   "source": []
  },
  {
   "cell_type": "code",
   "execution_count": 1019,
   "id": "a96518af-9b41-4348-b801-e7513f329cd1",
   "metadata": {
    "tags": []
   },
   "outputs": [],
   "source": [
    "import skelm\n",
    "from skelm import ELMRegressor"
   ]
  },
  {
   "cell_type": "code",
   "execution_count": 1020,
   "id": "89fc2162-a44b-4275-896d-067b9929bd53",
   "metadata": {},
   "outputs": [
    {
     "name": "stdout",
     "output_type": "stream",
     "text": [
      "RMSE scikit-elm: 0.49\n"
     ]
    }
   ],
   "source": [
    "model = ELMRegressor(n_neurons=10, ufunc='tanh')\n",
    "\n",
    "y_pred = model.fit(X, y).predict(X)\n",
    "rmse = np.mean((y_pred - y)**2)**0.5\n",
    "\n",
    "print(\"RMSE scikit-elm: {:.2f}\".format(rmse))"
   ]
  },
  {
   "cell_type": "code",
   "execution_count": null,
   "id": "adf05ee6-1a1c-46c7-b902-b6a5d3e75b85",
   "metadata": {},
   "outputs": [],
   "source": []
  },
  {
   "cell_type": "code",
   "execution_count": null,
   "id": "3a5881f3-00b8-4b21-bb70-65dcf87a0e0f",
   "metadata": {},
   "outputs": [],
   "source": []
  },
  {
   "cell_type": "code",
   "execution_count": null,
   "id": "f4367780-2c8b-4243-8bc5-85c399d2e694",
   "metadata": {},
   "outputs": [],
   "source": []
  },
  {
   "cell_type": "code",
   "execution_count": null,
   "id": "db179569-acc8-443d-837a-aec9de81d0ff",
   "metadata": {},
   "outputs": [],
   "source": []
  }
 ],
 "metadata": {
  "kernelspec": {
   "display_name": "Python 3 (ipykernel)",
   "language": "python",
   "name": "python3"
  },
  "language_info": {
   "codemirror_mode": {
    "name": "ipython",
    "version": 3
   },
   "file_extension": ".py",
   "mimetype": "text/x-python",
   "name": "python",
   "nbconvert_exporter": "python",
   "pygments_lexer": "ipython3",
   "version": "3.9.12"
  }
 },
 "nbformat": 4,
 "nbformat_minor": 5
}
