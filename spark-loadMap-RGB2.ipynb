{
 "cells": [
  {
   "cell_type": "code",
   "execution_count": 1,
   "id": "539acbd5-06ed-4ca4-b4e8-cc3c8b651b9f",
   "metadata": {},
   "outputs": [],
   "source": [
    "%matplotlib inline\n",
    "from pyspark.sql import SparkSession, Row\n",
    "from pyspark.sql import functions as F\n",
    "from pyspark.sql import types as T\n",
    "import matplotlib.pyplot as plt\n",
    "\n",
    "import geopandas as gpd\n",
    "import seaborn as sns\n",
    "from PIL import Image\n",
    "import pandas as pd\n",
    "import numpy as np"
   ]
  },
  {
   "cell_type": "code",
   "execution_count": 2,
   "id": "088c8033-8b6f-4da6-a4db-8e07dcfff091",
   "metadata": {},
   "outputs": [
    {
     "name": "stdout",
     "output_type": "stream",
     "text": [
      "23/01/25 19:13:20 WARN Utils: Your hostname, tamirats-MacBook-Pro.local resolves to a loopback address: 127.0.0.1; using 10.46.13.191 instead (on interface en0)\n",
      "23/01/25 19:13:20 WARN Utils: Set SPARK_LOCAL_IP if you need to bind to another address\n"
     ]
    },
    {
     "name": "stderr",
     "output_type": "stream",
     "text": [
      "Setting default log level to \"WARN\".\n",
      "To adjust logging level use sc.setLogLevel(newLevel). For SparkR, use setLogLevel(newLevel).\n"
     ]
    },
    {
     "name": "stdout",
     "output_type": "stream",
     "text": [
      "23/01/25 19:13:20 WARN NativeCodeLoader: Unable to load native-hadoop library for your platform... using builtin-java classes where applicable\n"
     ]
    }
   ],
   "source": [
    "spark = SparkSession.builder.appName('AcidSoils').getOrCreate()"
   ]
  },
  {
   "cell_type": "code",
   "execution_count": 3,
   "id": "7168c593-fb10-4d21-b188-48f24dac477f",
   "metadata": {
    "scrolled": true,
    "tags": []
   },
   "outputs": [
    {
     "data": {
      "text/html": [
       "<div>\n",
       "<style scoped>\n",
       "    .dataframe tbody tr th:only-of-type {\n",
       "        vertical-align: middle;\n",
       "    }\n",
       "\n",
       "    .dataframe tbody tr th {\n",
       "        vertical-align: top;\n",
       "    }\n",
       "\n",
       "    .dataframe thead th {\n",
       "        text-align: right;\n",
       "    }\n",
       "</style>\n",
       "<table border=\"1\" class=\"dataframe\">\n",
       "  <thead>\n",
       "    <tr style=\"text-align: right;\">\n",
       "      <th></th>\n",
       "      <th>POINT_X</th>\n",
       "      <th>POINT_Y</th>\n",
       "      <th>CLASS</th>\n",
       "      <th>geometry</th>\n",
       "    </tr>\n",
       "  </thead>\n",
       "  <tbody>\n",
       "    <tr>\n",
       "      <th>0</th>\n",
       "      <td>441468.7125</td>\n",
       "      <td>7184281.005</td>\n",
       "      <td>ASS</td>\n",
       "      <td>None</td>\n",
       "    </tr>\n",
       "    <tr>\n",
       "      <th>1</th>\n",
       "      <td>441852.3101</td>\n",
       "      <td>7186002.327</td>\n",
       "      <td>ASS</td>\n",
       "      <td>None</td>\n",
       "    </tr>\n",
       "    <tr>\n",
       "      <th>2</th>\n",
       "      <td>442236.5012</td>\n",
       "      <td>7185249.359</td>\n",
       "      <td>ASS</td>\n",
       "      <td>None</td>\n",
       "    </tr>\n",
       "    <tr>\n",
       "      <th>3</th>\n",
       "      <td>420520.3581</td>\n",
       "      <td>7208257.978</td>\n",
       "      <td>ASS</td>\n",
       "      <td>None</td>\n",
       "    </tr>\n",
       "  </tbody>\n",
       "</table>\n",
       "</div>"
      ],
      "text/plain": [
       "       POINT_X      POINT_Y CLASS geometry\n",
       "0  441468.7125  7184281.005   ASS     None\n",
       "1  441852.3101  7186002.327   ASS     None\n",
       "2  442236.5012  7185249.359   ASS     None\n",
       "3  420520.3581  7208257.978   ASS     None"
      ]
     },
     "execution_count": 3,
     "metadata": {},
     "output_type": "execute_result"
    }
   ],
   "source": [
    "source = gpd.read_file(\"data/GTK_ASsoil_obs.csv\")\n",
    "source.head(4)"
   ]
  },
  {
   "cell_type": "code",
   "execution_count": 4,
   "id": "ed615b35-b31e-4fe8-b665-eb282961dff2",
   "metadata": {},
   "outputs": [
    {
     "data": {
      "text/html": [
       "<div>\n",
       "<style scoped>\n",
       "    .dataframe tbody tr th:only-of-type {\n",
       "        vertical-align: middle;\n",
       "    }\n",
       "\n",
       "    .dataframe tbody tr th {\n",
       "        vertical-align: top;\n",
       "    }\n",
       "\n",
       "    .dataframe thead th {\n",
       "        text-align: right;\n",
       "    }\n",
       "</style>\n",
       "<table border=\"1\" class=\"dataframe\">\n",
       "  <thead>\n",
       "    <tr style=\"text-align: right;\">\n",
       "      <th></th>\n",
       "      <th>CLASS</th>\n",
       "      <th>geometry</th>\n",
       "    </tr>\n",
       "  </thead>\n",
       "  <tbody>\n",
       "    <tr>\n",
       "      <th>0</th>\n",
       "      <td>ASS</td>\n",
       "      <td>POINT (25.76894 64.77799)</td>\n",
       "    </tr>\n",
       "    <tr>\n",
       "      <th>1</th>\n",
       "      <td>ASS</td>\n",
       "      <td>POINT (25.77630 64.79350)</td>\n",
       "    </tr>\n",
       "    <tr>\n",
       "      <th>2</th>\n",
       "      <td>ASS</td>\n",
       "      <td>POINT (25.78469 64.78681)</td>\n",
       "    </tr>\n",
       "    <tr>\n",
       "      <th>3</th>\n",
       "      <td>ASS</td>\n",
       "      <td>POINT (25.31512 64.98873)</td>\n",
       "    </tr>\n",
       "  </tbody>\n",
       "</table>\n",
       "</div>"
      ],
      "text/plain": [
       "  CLASS                   geometry\n",
       "0   ASS  POINT (25.76894 64.77799)\n",
       "1   ASS  POINT (25.77630 64.79350)\n",
       "2   ASS  POINT (25.78469 64.78681)\n",
       "3   ASS  POINT (25.31512 64.98873)"
      ]
     },
     "execution_count": 4,
     "metadata": {},
     "output_type": "execute_result"
    }
   ],
   "source": [
    "geom = gpd.points_from_xy(source.POINT_X.astype(\"float\"), source.POINT_Y.astype(\"float\"))\n",
    "points = gpd.GeoDataFrame(source.CLASS, crs=\"EPSG:3067\", geometry=geom).to_crs(\"WGS84\")\n",
    "points.head(4)"
   ]
  },
  {
   "cell_type": "code",
   "execution_count": 5,
   "id": "74edc47b-aa18-486c-a821-c06f9ea189b9",
   "metadata": {},
   "outputs": [
    {
     "data": {
      "text/html": [
       "<div>\n",
       "<style scoped>\n",
       "    .dataframe tbody tr th:only-of-type {\n",
       "        vertical-align: middle;\n",
       "    }\n",
       "\n",
       "    .dataframe tbody tr th {\n",
       "        vertical-align: top;\n",
       "    }\n",
       "\n",
       "    .dataframe thead th {\n",
       "        text-align: right;\n",
       "    }\n",
       "</style>\n",
       "<table border=\"1\" class=\"dataframe\">\n",
       "  <thead>\n",
       "    <tr style=\"text-align: right;\">\n",
       "      <th></th>\n",
       "      <th>CLASS</th>\n",
       "      <th>geometry</th>\n",
       "      <th>x</th>\n",
       "      <th>y</th>\n",
       "    </tr>\n",
       "  </thead>\n",
       "  <tbody>\n",
       "    <tr>\n",
       "      <th>0</th>\n",
       "      <td>ASS</td>\n",
       "      <td>POINT (25.76894 64.77799)</td>\n",
       "      <td>25.768938</td>\n",
       "      <td>64.777988</td>\n",
       "    </tr>\n",
       "    <tr>\n",
       "      <th>1</th>\n",
       "      <td>ASS</td>\n",
       "      <td>POINT (25.77630 64.79350)</td>\n",
       "      <td>25.776304</td>\n",
       "      <td>64.793496</td>\n",
       "    </tr>\n",
       "    <tr>\n",
       "      <th>2</th>\n",
       "      <td>ASS</td>\n",
       "      <td>POINT (25.78469 64.78681)</td>\n",
       "      <td>25.784691</td>\n",
       "      <td>64.786808</td>\n",
       "    </tr>\n",
       "    <tr>\n",
       "      <th>3</th>\n",
       "      <td>ASS</td>\n",
       "      <td>POINT (25.31512 64.98873)</td>\n",
       "      <td>25.315115</td>\n",
       "      <td>64.988732</td>\n",
       "    </tr>\n",
       "  </tbody>\n",
       "</table>\n",
       "</div>"
      ],
      "text/plain": [
       "  CLASS                   geometry          x          y\n",
       "0   ASS  POINT (25.76894 64.77799)  25.768938  64.777988\n",
       "1   ASS  POINT (25.77630 64.79350)  25.776304  64.793496\n",
       "2   ASS  POINT (25.78469 64.78681)  25.784691  64.786808\n",
       "3   ASS  POINT (25.31512 64.98873)  25.315115  64.988732"
      ]
     },
     "execution_count": 5,
     "metadata": {},
     "output_type": "execute_result"
    }
   ],
   "source": [
    "points[\"x\"] = points.geometry.x\n",
    "points[\"y\"] = points.geometry.y\n",
    "points.head(4)"
   ]
  },
  {
   "cell_type": "code",
   "execution_count": 6,
   "id": "8d77368d-ffb3-45ad-bcfc-63cf573ef391",
   "metadata": {},
   "outputs": [
    {
     "name": "stderr",
     "output_type": "stream",
     "text": [
      "[Stage 0:>                                                          (0 + 1) / 1]\r"
     ]
    },
    {
     "name": "stdout",
     "output_type": "stream",
     "text": [
      "+-----+---------------------------+------------------+-----------------+\n",
      "|CLASS|geometry                   |x                 |y                |\n",
      "+-----+---------------------------+------------------+-----------------+\n",
      "|ASS  |{105553155633056, false, 2}|25.768937832725747|64.77798766173387|\n",
      "|ASS  |{105553155629024, false, 2}|25.77630416654702 |64.79349633623737|\n",
      "|ASS  |{105553155629120, false, 2}|25.784691167397362|64.7868078298281 |\n",
      "|ASS  |{105553155636416, false, 2}|25.315115332474953|64.98873249710591|\n",
      "+-----+---------------------------+------------------+-----------------+\n",
      "only showing top 4 rows\n",
      "\n"
     ]
    },
    {
     "name": "stderr",
     "output_type": "stream",
     "text": [
      "                                                                                \r"
     ]
    }
   ],
   "source": [
    "df = spark.createDataFrame(points)\n",
    "df.show(4,truncate=False)"
   ]
  },
  {
   "cell_type": "code",
   "execution_count": 7,
   "id": "6ed25634-1671-4fde-8f12-0ccc165d05d2",
   "metadata": {},
   "outputs": [
    {
     "name": "stdout",
     "output_type": "stream",
     "text": [
      "+-------+-----+\n",
      "|  CLASS|count|\n",
      "+-------+-----+\n",
      "|    ASS| 3490|\n",
      "|non-ASS| 2334|\n",
      "+-------+-----+\n",
      "\n"
     ]
    }
   ],
   "source": [
    "df.groupby('CLASS').count().show()"
   ]
  },
  {
   "cell_type": "markdown",
   "id": "20ddd67a-2e98-4636-80c8-6f146f097d56",
   "metadata": {
    "tags": []
   },
   "source": [
    "## Add point ID"
   ]
  },
  {
   "cell_type": "code",
   "execution_count": 8,
   "id": "c37a2248-6e16-44be-8041-9546d9231db8",
   "metadata": {},
   "outputs": [],
   "source": [
    "TILE_SIZE = 256\n",
    "ZOOM = 9\n",
    "\n",
    "@F.udf(returnType=T.ArrayType(T.IntegerType()))\n",
    "def project_pixel(lon, lat, zoom=ZOOM):\n",
    "    # lon, lat = p.geometry.x, p.geometry.y\n",
    "    \n",
    "    siny = np.sin(lat * np.pi / 180)\n",
    "    siny = min(max(siny, -0.9999), 0.9999)\n",
    "    \n",
    "    x = TILE_SIZE * (0.5 + lon / 360)\n",
    "    y = TILE_SIZE * (0.5 - np.log((1 + siny) / (1 - siny)) / (4 * np.pi))\n",
    "    \n",
    "    scale = 2**zoom\n",
    "\n",
    "    tx = x * scale // TILE_SIZE\n",
    "    ty = y * scale // TILE_SIZE\n",
    "\n",
    "    px = x * scale % TILE_SIZE // 1\n",
    "    py = y * scale % TILE_SIZE // 1\n",
    "\n",
    "    return [int(px), int(py)]\n",
    "    \n",
    "    \n",
    "@F.udf(returnType=T.ArrayType(T.IntegerType()))\n",
    "def project_tile(lon, lat, zoom=ZOOM):\n",
    "    # lon, lat = p.geometry.x, p.geometry.y\n",
    "    \n",
    "    siny = np.sin(lat * np.pi / 180)\n",
    "    siny = min(max(siny, -0.9999), 0.9999)\n",
    "    \n",
    "    x = TILE_SIZE * (0.5 + lon / 360)\n",
    "    y = TILE_SIZE * (0.5 - np.log((1 + siny) / (1 - siny)) / (4 * np.pi))\n",
    "    \n",
    "    scale = 2**zoom\n",
    "\n",
    "    tx = x * scale // TILE_SIZE\n",
    "    ty = y * scale // TILE_SIZE\n",
    "\n",
    "    px = x * scale % TILE_SIZE // 1\n",
    "    py = y * scale % TILE_SIZE // 1\n",
    "\n",
    "    return [int(zoom), int(tx), int(ty)]"
   ]
  },
  {
   "cell_type": "code",
   "execution_count": null,
   "id": "989b24ac-31d4-46ea-9147-6c274909036e",
   "metadata": {},
   "outputs": [],
   "source": []
  },
  {
   "cell_type": "code",
   "execution_count": 9,
   "id": "82b379c6-918d-4657-bbca-39643fc4462b",
   "metadata": {},
   "outputs": [
    {
     "name": "stderr",
     "output_type": "stream",
     "text": [
      "[Stage 4:>                                                          (0 + 1) / 1]\r"
     ]
    },
    {
     "name": "stdout",
     "output_type": "stream",
     "text": [
      "+-----+------------------+-----------------+----------+-------------+--------+\n",
      "|CLASS|                 x|                y|     pixel|         tile|point_id|\n",
      "+-----+------------------+-----------------+----------+-------------+--------+\n",
      "|  ASS|25.768937832725747|64.77798766173387|[166, 252]|[9, 292, 133]|       0|\n",
      "|  ASS| 25.77630416654702|64.79349633623737|[168, 239]|[9, 292, 133]|       1|\n",
      "|  ASS|25.784691167397362| 64.7868078298281|[171, 245]|[9, 292, 133]|       2|\n",
      "|  ASS|25.315115332474953|64.98873249710591|   [0, 71]|[9, 292, 133]|       3|\n",
      "+-----+------------------+-----------------+----------+-------------+--------+\n",
      "only showing top 4 rows\n",
      "\n"
     ]
    },
    {
     "name": "stderr",
     "output_type": "stream",
     "text": [
      "                                                                                \r"
     ]
    }
   ],
   "source": [
    "df_points = (\n",
    "    df\n",
    "    .withColumn(\"pixel\", project_pixel(df.x, df.y))\n",
    "    .withColumn(\"tile\", project_tile(df.x, df.y))\n",
    "    .withColumn(\"point_id\", F.monotonically_increasing_id())\n",
    "    .drop(\"geometry\")\n",
    ")\n",
    "\n",
    "df_points.show(4)\n"
   ]
  },
  {
   "cell_type": "markdown",
   "id": "2cf5c88d-574a-4f98-8b3f-cf45a92bf506",
   "metadata": {},
   "source": [
    "## Combine output class with pixel coordinates"
   ]
  },
  {
   "cell_type": "code",
   "execution_count": null,
   "id": "25008373-3bed-4d15-bebe-ea1dde89e9d5",
   "metadata": {},
   "outputs": [],
   "source": []
  },
  {
   "cell_type": "code",
   "execution_count": 10,
   "id": "6e43034f-6921-4183-b40b-9cb88c1130dc",
   "metadata": {},
   "outputs": [
    {
     "name": "stdout",
     "output_type": "stream",
     "text": [
      "+--------+----------+-------------+-------+-------+-------------+\n",
      "|point_id|     pixel|         tile|pixel_i|pixel_j|         data|\n",
      "+--------+----------+-------------+-------+-------+-------------+\n",
      "|       0|[166, 252]|[9, 292, 133]|    166|    252|[166, 252, 0]|\n",
      "|       1|[168, 239]|[9, 292, 133]|    168|    239|[168, 239, 1]|\n",
      "|       2|[171, 245]|[9, 292, 133]|    171|    245|[171, 245, 2]|\n",
      "|       3|   [0, 71]|[9, 292, 133]|      0|     71|   [0, 71, 3]|\n",
      "|       4| [11, 238]|[9, 292, 133]|     11|    238| [11, 238, 4]|\n",
      "+--------+----------+-------------+-------+-------+-------------+\n",
      "only showing top 5 rows\n",
      "\n"
     ]
    }
   ],
   "source": [
    "(\n",
    "    df_points\n",
    "    .select(\n",
    "        \"point_id\", \n",
    "        \"pixel\", \n",
    "        \"tile\"\n",
    "    )\n",
    "    .withColumn(\"pixel_i\", F.col(\"pixel\")[0])\n",
    "    .withColumn(\"pixel_j\", F.col(\"pixel\")[1])\n",
    "    .withColumn(\"data\", F.array(F.col(\"pixel_i\"), F.col(\"pixel_j\"), F.col(\"point_id\")))\n",
    "    .show(5)\n",
    ")"
   ]
  },
  {
   "cell_type": "code",
   "execution_count": null,
   "id": "b7e4f8cd-ffca-43d7-94e4-8bbd31399801",
   "metadata": {},
   "outputs": [],
   "source": []
  },
  {
   "cell_type": "code",
   "execution_count": 11,
   "id": "cd4139af-0496-4a69-81cf-d651ae2dec44",
   "metadata": {},
   "outputs": [],
   "source": [
    "TILES_BASIC = \"/Users/tamiratatsemegiorgis/project/MapTilesViewer/basic/{z}/{x}/{y}.png\"\n",
    "#TILES_HILLSHADE =\"/Users/tamiratatsemegiorgis/project/TILES_hillshade/{z}/{x}/{y}.png\"\n",
    "\n",
    "@F.udf(returnType=T.ArrayType(T.ArrayType(T.LongType())))\n",
    "def load_image_data(tile, pixel_data, tiles):\n",
    "    \"\"\"\n",
    "    tiles: folder with tiles\n",
    "    \"\"\"\n",
    "    (z, tx, ty) = tile\n",
    "    fname = tiles.format(z=z, x=tx, y=ty)\n",
    "    im = Image.open(fname)\n",
    "    arr_img= np.array(im)\n",
    "\n",
    "    data = []\n",
    "    for i, j, pid in pixel_data:\n",
    "        if arr_img.shape[-1] == 3:\n",
    "            # color image\n",
    "            r, g, b = arr_img[i, j] # 3 dim array, ?\n",
    "            data.append([int(r), int(g), int(b), pid])\n",
    "        else:\n",
    "            # grayscale image\n",
    "            gray, alpha = arr_img[i, j]\n",
    "            data.append([int(gray), pid])\n",
    "    \n",
    "    return data\n"
   ]
  },
  {
   "cell_type": "code",
   "execution_count": 12,
   "id": "c287c66e-fa7e-4fbf-a484-17be2daa6720",
   "metadata": {},
   "outputs": [
    {
     "name": "stdout",
     "output_type": "stream",
     "text": [
      "+-------------+--------------------+--------------------+\n",
      "|         tile|     pixel_data_list|          data_basic|\n",
      "+-------------+--------------------+--------------------+\n",
      "|[9, 288, 136]|[[250, 244, 459],...|[[75, 86, 56, 459...|\n",
      "|[9, 293, 132]|[[6, 2, 108], [4,...|[[127, 142, 109, ...|\n",
      "|[9, 292, 131]|[[176, 223, 98], ...|[[111, 118, 85, 9...|\n",
      "|[9, 289, 136]|[[164, 93, 393], ...|[[93, 104, 74, 39...|\n",
      "|[9, 292, 133]|[[166, 252, 0], [...|[[107, 101, 75, 0...|\n",
      "|[9, 288, 137]|[[196, 59, 612], ...|[[56, 72, 46, 612...|\n",
      "|[9, 290, 136]|[[37, 246, 398], ...|[[45, 68, 24, 398...|\n",
      "|[9, 291, 130]|[[247, 154, 220],...|[[88, 105, 69, 22...|\n",
      "|[9, 292, 134]|[[32, 112, 52], [...|[[173, 192, 170, ...|\n",
      "|[9, 293, 134]|[[162, 52, 245], ...|[[109, 109, 83, 2...|\n",
      "+-------------+--------------------+--------------------+\n",
      "only showing top 10 rows\n",
      "\n"
     ]
    }
   ],
   "source": [
    "df_basic_raw = (\n",
    "    df_points\n",
    "    .select(\n",
    "        \"point_id\", \n",
    "        \"pixel\", \n",
    "        \"tile\"\n",
    "    )\n",
    "    .withColumn(\"pixel_i\", F.col(\"pixel\")[0])\n",
    "    .withColumn(\"pixel_j\", F.col(\"pixel\")[1])\n",
    "    .withColumn(\"pixel_data\", F.array(F.col(\"pixel_i\"), F.col(\"pixel_j\"), F.col(\"point_id\")))\n",
    "\n",
    "    # processing\n",
    "    .groupby(\"tile\")\n",
    "    .agg(\n",
    "        F.collect_list(\"pixel_data\").alias(\"pixel_data_list\"),\n",
    "    )\n",
    "    .withColumn(\"data_basic\", load_image_data(F.col(\"tile\"), F.col(\"pixel_data_list\"), F.lit(TILES_BASIC)))\n",
    ")\n",
    "\n",
    "df_basic_raw.show(10) "
   ]
  },
  {
   "cell_type": "code",
   "execution_count": 13,
   "id": "bf9e6c1f-9de7-401c-a423-2a8da9807fdd",
   "metadata": {},
   "outputs": [
    {
     "name": "stdout",
     "output_type": "stream",
     "text": [
      "+--------+-------+-------+-------+-----+\n",
      "|point_id|basic_r|basic_g|basic_b|CLASS|\n",
      "+--------+-------+-------+-------+-----+\n",
      "|      26|    118|    111|     95|  ASS|\n",
      "|      29|    107|    102|     82|  ASS|\n",
      "|     474|     53|     75|     39|  ASS|\n",
      "|      65|     86|    108|     70|  ASS|\n",
      "+--------+-------+-------+-------+-----+\n",
      "only showing top 4 rows\n",
      "\n"
     ]
    }
   ],
   "source": [
    "df_basic = (\n",
    "    df_basic_raw\n",
    "    .select(F.explode(\"data_basic\").alias(\"data\"))\n",
    "    .select(\n",
    "        F.col(\"data\")[0].alias(\"basic_r\"),\n",
    "        F.col(\"data\")[1].alias(\"basic_g\"),\n",
    "        F.col(\"data\")[2].alias(\"basic_b\"),\n",
    "        F.col(\"data\")[3].alias(\"point_id\"),\n",
    "    )\n",
    "    \n",
    "    # put back points class\n",
    "    .join(\n",
    "        df_points.select(\"CLASS\", \"point_id\"),\n",
    "        \n",
    "        on=\"point_id\",\n",
    "        \n",
    "    )\n",
    ")\n",
    "\n",
    "df_basic.show(4)"
   ]
  },
  {
   "cell_type": "code",
   "execution_count": 14,
   "id": "fd0fff5a-4387-4c5c-9530-3e381b232934",
   "metadata": {},
   "outputs": [
    {
     "data": {
      "text/plain": [
       "['point_id', 'basic_r', 'basic_g', 'basic_b', 'CLASS']"
      ]
     },
     "execution_count": 14,
     "metadata": {},
     "output_type": "execute_result"
    }
   ],
   "source": [
    "df_basic.columns"
   ]
  },
  {
   "cell_type": "code",
   "execution_count": 15,
   "id": "a2fe0560-8b30-47aa-a9be-399cbc9204dc",
   "metadata": {},
   "outputs": [
    {
     "name": "stdout",
     "output_type": "stream",
     "text": [
      "+-------+-------+-------+--------+-----+\n",
      "|basic_r|basic_g|basic_b|point_id|class|\n",
      "+-------+-------+-------+--------+-----+\n",
      "|    118|    111|     95|      26|    1|\n",
      "|    107|    102|     82|      29|    1|\n",
      "|     53|     75|     39|     474|    1|\n",
      "|     86|    108|     70|      65|    1|\n",
      "+-------+-------+-------+--------+-----+\n",
      "only showing top 4 rows\n",
      "\n"
     ]
    }
   ],
   "source": [
    "df_data = (\n",
    "    df_basic\n",
    "   \n",
    "    .select(\n",
    "        'basic_r',\n",
    "        'basic_g',\n",
    "        'basic_b',\n",
    "        \"point_id\", \n",
    "        (F.col(\"CLASS\") == \"ASS\").astype(\"int\").alias(\"class\"),\n",
    "        \n",
    "       # F.array(data_columns).alias(\"features\"),\n",
    "    )\n",
    ")\n",
    "\n",
    "df_data.show(4)"
   ]
  },
  {
   "cell_type": "code",
   "execution_count": 16,
   "id": "1f75d3e8-1d58-4255-b20e-024c185aa0b3",
   "metadata": {},
   "outputs": [
    {
     "name": "stdout",
     "output_type": "stream",
     "text": [
      "root\n",
      " |-- basic_r: long (nullable = true)\n",
      " |-- basic_g: long (nullable = true)\n",
      " |-- basic_b: long (nullable = true)\n",
      " |-- point_id: long (nullable = true)\n",
      " |-- class: integer (nullable = true)\n",
      "\n"
     ]
    }
   ],
   "source": [
    "df_data.printSchema()"
   ]
  },
  {
   "cell_type": "markdown",
   "id": "cec230d5-ef2c-47a4-909b-b627afabe77c",
   "metadata": {
    "tags": []
   },
   "source": [
    "## Train a random forest"
   ]
  },
  {
   "cell_type": "code",
   "execution_count": null,
   "id": "22966c9f-792b-4c4f-930f-7432c83807c4",
   "metadata": {},
   "outputs": [],
   "source": []
  },
  {
   "cell_type": "code",
   "execution_count": 17,
   "id": "0d1d647f-6bb5-4995-918f-2e3c31ad4cfe",
   "metadata": {},
   "outputs": [
    {
     "data": {
      "text/html": [
       "<div>\n",
       "<style scoped>\n",
       "    .dataframe tbody tr th:only-of-type {\n",
       "        vertical-align: middle;\n",
       "    }\n",
       "\n",
       "    .dataframe tbody tr th {\n",
       "        vertical-align: top;\n",
       "    }\n",
       "\n",
       "    .dataframe thead th {\n",
       "        text-align: right;\n",
       "    }\n",
       "</style>\n",
       "<table border=\"1\" class=\"dataframe\">\n",
       "  <thead>\n",
       "    <tr style=\"text-align: right;\">\n",
       "      <th></th>\n",
       "      <th>basic_r</th>\n",
       "      <th>basic_g</th>\n",
       "      <th>basic_b</th>\n",
       "      <th>point_id</th>\n",
       "      <th>class</th>\n",
       "    </tr>\n",
       "  </thead>\n",
       "  <tbody>\n",
       "    <tr>\n",
       "      <th>0</th>\n",
       "      <td>118</td>\n",
       "      <td>111</td>\n",
       "      <td>95</td>\n",
       "      <td>26</td>\n",
       "      <td>1</td>\n",
       "    </tr>\n",
       "    <tr>\n",
       "      <th>1</th>\n",
       "      <td>107</td>\n",
       "      <td>102</td>\n",
       "      <td>82</td>\n",
       "      <td>29</td>\n",
       "      <td>1</td>\n",
       "    </tr>\n",
       "    <tr>\n",
       "      <th>2</th>\n",
       "      <td>53</td>\n",
       "      <td>75</td>\n",
       "      <td>39</td>\n",
       "      <td>474</td>\n",
       "      <td>1</td>\n",
       "    </tr>\n",
       "    <tr>\n",
       "      <th>3</th>\n",
       "      <td>86</td>\n",
       "      <td>108</td>\n",
       "      <td>70</td>\n",
       "      <td>65</td>\n",
       "      <td>1</td>\n",
       "    </tr>\n",
       "    <tr>\n",
       "      <th>4</th>\n",
       "      <td>80</td>\n",
       "      <td>86</td>\n",
       "      <td>58</td>\n",
       "      <td>191</td>\n",
       "      <td>1</td>\n",
       "    </tr>\n",
       "    <tr>\n",
       "      <th>...</th>\n",
       "      <td>...</td>\n",
       "      <td>...</td>\n",
       "      <td>...</td>\n",
       "      <td>...</td>\n",
       "      <td>...</td>\n",
       "    </tr>\n",
       "    <tr>\n",
       "      <th>5819</th>\n",
       "      <td>15</td>\n",
       "      <td>23</td>\n",
       "      <td>2</td>\n",
       "      <td>60129542557</td>\n",
       "      <td>0</td>\n",
       "    </tr>\n",
       "    <tr>\n",
       "      <th>5820</th>\n",
       "      <td>99</td>\n",
       "      <td>108</td>\n",
       "      <td>77</td>\n",
       "      <td>60129542806</td>\n",
       "      <td>0</td>\n",
       "    </tr>\n",
       "    <tr>\n",
       "      <th>5821</th>\n",
       "      <td>7</td>\n",
       "      <td>38</td>\n",
       "      <td>56</td>\n",
       "      <td>60129542145</td>\n",
       "      <td>1</td>\n",
       "    </tr>\n",
       "    <tr>\n",
       "      <th>5822</th>\n",
       "      <td>102</td>\n",
       "      <td>111</td>\n",
       "      <td>80</td>\n",
       "      <td>60129542427</td>\n",
       "      <td>0</td>\n",
       "    </tr>\n",
       "    <tr>\n",
       "      <th>5823</th>\n",
       "      <td>81</td>\n",
       "      <td>85</td>\n",
       "      <td>52</td>\n",
       "      <td>60129542485</td>\n",
       "      <td>1</td>\n",
       "    </tr>\n",
       "  </tbody>\n",
       "</table>\n",
       "<p>5824 rows × 5 columns</p>\n",
       "</div>"
      ],
      "text/plain": [
       "      basic_r  basic_g  basic_b     point_id  class\n",
       "0         118      111       95           26      1\n",
       "1         107      102       82           29      1\n",
       "2          53       75       39          474      1\n",
       "3          86      108       70           65      1\n",
       "4          80       86       58          191      1\n",
       "...       ...      ...      ...          ...    ...\n",
       "5819       15       23        2  60129542557      0\n",
       "5820       99      108       77  60129542806      0\n",
       "5821        7       38       56  60129542145      1\n",
       "5822      102      111       80  60129542427      0\n",
       "5823       81       85       52  60129542485      1\n",
       "\n",
       "[5824 rows x 5 columns]"
      ]
     },
     "execution_count": 17,
     "metadata": {},
     "output_type": "execute_result"
    }
   ],
   "source": [
    "#convert to pandas dataframe\n",
    "df_data_p=df_data.toPandas()\n",
    "df_data_p"
   ]
  },
  {
   "cell_type": "code",
   "execution_count": 18,
   "id": "b8c3eb2f-b93a-4c78-90bd-22a253eeba0d",
   "metadata": {},
   "outputs": [
    {
     "data": {
      "text/plain": [
       "1    3490\n",
       "0    2334\n",
       "Name: class, dtype: int64"
      ]
     },
     "execution_count": 18,
     "metadata": {},
     "output_type": "execute_result"
    }
   ],
   "source": [
    "df_data_p['class'].value_counts()"
   ]
  },
  {
   "cell_type": "code",
   "execution_count": 22,
   "id": "8a41eb73-3dbb-4cf7-aabf-1a8c8d10e2f8",
   "metadata": {},
   "outputs": [
    {
     "data": {
      "text/plain": [
       "array([[118, 111,  95],\n",
       "       [107, 102,  82],\n",
       "       [ 53,  75,  39],\n",
       "       ...,\n",
       "       [  7,  38,  56],\n",
       "       [102, 111,  80],\n",
       "       [ 81,  85,  52]])"
      ]
     },
     "execution_count": 22,
     "metadata": {},
     "output_type": "execute_result"
    }
   ],
   "source": [
    "X= df_data_p.iloc[:,0:3].values\n",
    "y=df_data_p.iloc[:,-1].values\n",
    "X"
   ]
  },
  {
   "cell_type": "code",
   "execution_count": 23,
   "id": "05835f94-9088-497a-9b31-350f2ab803f3",
   "metadata": {},
   "outputs": [
    {
     "data": {
      "text/plain": [
       "RandomForestClassifier(n_estimators=5, random_state=0)"
      ]
     },
     "execution_count": 23,
     "metadata": {},
     "output_type": "execute_result"
    }
   ],
   "source": [
    "from sklearn.ensemble import RandomForestClassifier\n",
    "from sklearn.model_selection import train_test_split\n",
    "X_train, X_test, y_train, y_test = train_test_split(X,y, random_state=66)\n",
    "\n",
    "clf = RandomForestClassifier(n_estimators=5, random_state=0)\n",
    "clf.fit(X_train, y_train)\n"
   ]
  },
  {
   "cell_type": "code",
   "execution_count": 24,
   "id": "b169c500-9e48-4e1d-855e-97aab065c600",
   "metadata": {},
   "outputs": [
    {
     "name": "stdout",
     "output_type": "stream",
     "text": [
      "(4368, 3) (1456,)\n"
     ]
    }
   ],
   "source": [
    "print(X_train.shape, y_test.shape)"
   ]
  },
  {
   "cell_type": "markdown",
   "id": "8fb963e4-3f67-46b9-bbd1-a1bea6e3873b",
   "metadata": {},
   "source": [
    "## Evaluate our Random Forest Classifier"
   ]
  },
  {
   "cell_type": "code",
   "execution_count": 25,
   "id": "ea609b66-24e8-4a11-aeb1-8aacc584e981",
   "metadata": {
    "tags": []
   },
   "outputs": [
    {
     "name": "stdout",
     "output_type": "stream",
     "text": [
      "Accuracy on training set: 0.902\n",
      "Accuracy on test set: 0.565\n"
     ]
    }
   ],
   "source": [
    "print(\"Accuracy on training set: {:.3f}\".format(clf.score(X_train, y_train)))\n",
    "print(\"Accuracy on test set: {:.3f}\".format(clf.score(X_test, y_test)))\n"
   ]
  },
  {
   "cell_type": "code",
   "execution_count": 26,
   "id": "f9b8d76f-40f6-4ad2-8f75-63852dc8ab14",
   "metadata": {
    "tags": []
   },
   "outputs": [
    {
     "data": {
      "text/plain": [
       "array([1, 1, 1, ..., 0, 1, 1], dtype=int32)"
      ]
     },
     "execution_count": 26,
     "metadata": {},
     "output_type": "execute_result"
    }
   ],
   "source": [
    "prodction_class = clf.predict(X_test)\n",
    "prodction_class"
   ]
  },
  {
   "cell_type": "code",
   "execution_count": 28,
   "id": "bc477539-8fcb-4ed9-9c45-ef60c3d948c1",
   "metadata": {},
   "outputs": [
    {
     "data": {
      "text/plain": [
       "array([[240, 345],\n",
       "       [288, 583]])"
      ]
     },
     "execution_count": 28,
     "metadata": {},
     "output_type": "execute_result"
    }
   ],
   "source": [
    "#confusion_matrix\n",
    "from sklearn.metrics import accuracy_score, confusion_matrix, classification_report\n",
    "confusion_matrix(y_test, prodction_class)"
   ]
  },
  {
   "cell_type": "code",
   "execution_count": null,
   "id": "4371b829-9b54-459c-8c4f-7e75568076e4",
   "metadata": {},
   "outputs": [],
   "source": []
  },
  {
   "cell_type": "code",
   "execution_count": 30,
   "id": "557a344d-2245-448b-895e-114e71ad4492",
   "metadata": {},
   "outputs": [
    {
     "data": {
      "image/png": "[encoded data removed]",
      "text/plain": [
       "<Figure size 720x360 with 2 Axes>"
      ]
     },
     "metadata": {
      "needs_background": "light"
     },
     "output_type": "display_data"
    }
   ],
   "source": [
    "#Graph the confusion matrix data\n",
    "matrix = confusion_matrix(y_test, prodction_class)\n",
    "matrix = matrix.astype('float') / matrix.sum(axis=1)[:, np.newaxis]\n",
    "\n",
    "# Build the plot\n",
    "plt.figure(figsize=(10,5))\n",
    "sns.set(font_scale=1.4)\n",
    "sns.heatmap(matrix, annot=True, annot_kws={'size':10},\n",
    "            cmap=plt.cm.Greens, linewidths=0.2)\n",
    "\n",
    "# Add labels to the plot\n",
    "class_names = ['non-ASS','ASS']\n",
    "tick_marks = np.arange(len(class_names))\n",
    "tick_marks2 = tick_marks + 0.5\n",
    "plt.xticks(tick_marks, class_names, rotation=0)\n",
    "plt.yticks(tick_marks2, class_names, rotation=0)\n",
    "plt.xlabel('Predicted label')\n",
    "plt.ylabel('True label')\n",
    "plt.title('Confusion Matrix for Random Forest Model')\n",
    "plt.show()"
   ]
  },
  {
   "cell_type": "code",
   "execution_count": null,
   "id": "45b41687-ac36-4f54-8de5-1402018c2e3f",
   "metadata": {},
   "outputs": [],
   "source": []
  },
  {
   "cell_type": "code",
   "execution_count": null,
   "id": "ff6d793b-e78b-4f83-80c9-503bb8889133",
   "metadata": {},
   "outputs": [],
   "source": []
  },
  {
   "cell_type": "code",
   "execution_count": null,
   "id": "7fbd705d-901f-44f7-91ab-2a80efea965c",
   "metadata": {},
   "outputs": [],
   "source": []
  },
  {
   "cell_type": "code",
   "execution_count": null,
   "id": "2e618968-13d5-4d49-b27c-16fd2de74714",
   "metadata": {},
   "outputs": [],
   "source": []
  }
 ],
 "metadata": {
  "kernelspec": {
   "display_name": "Python 3 (ipykernel)",
   "language": "python",
   "name": "python3"
  },
  "language_info": {
   "codemirror_mode": {
    "name": "ipython",
    "version": 3
   },
   "file_extension": ".py",
   "mimetype": "text/x-python",
   "name": "python",
   "nbconvert_exporter": "python",
   "pygments_lexer": "ipython3",
   "version": "3.9.12"
  }
 },
 "nbformat": 4,
 "nbformat_minor": 5
}
