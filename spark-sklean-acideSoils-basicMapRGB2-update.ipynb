{
 "cells": [
  {
   "cell_type": "markdown",
   "id": "a68e4521-58c5-443f-a55b-b00921aecf82",
   "metadata": {},
   "source": [
    "### Importing Libraries"
   ]
  },
  {
   "cell_type": "code",
   "execution_count": 1,
   "id": "539acbd5-06ed-4ca4-b4e8-cc3c8b651b9f",
   "metadata": {},
   "outputs": [],
   "source": [
    "#Generic Libraries\n",
    "%matplotlib inline\n",
    "import matplotlib.pyplot as plt\n",
    "import geopandas as gpd\n",
    "import seaborn as sns\n",
    "from PIL import Image\n",
    "import pandas as pd\n",
    "import numpy as np\n",
    "\n",
    "#Apache Spark Libraries\n",
    "from pyspark.sql import SparkSession, Row\n",
    "from pyspark.ml.feature import VectorAssembler\n",
    "from pyspark.ml.classification import RandomForestClassifier\n",
    "from pyspark.sql import functions as F\n",
    "from pyspark.sql import types as T\n",
    "\n",
    "from pyspark.sql.functions import *\n",
    "# sklearn Libraries\n",
    "import sklearn\n",
    "from sklearn.model_selection import train_test_split"
   ]
  },
  {
   "cell_type": "code",
   "execution_count": 2,
   "id": "088c8033-8b6f-4da6-a4db-8e07dcfff091",
   "metadata": {},
   "outputs": [
    {
     "name": "stdout",
     "output_type": "stream",
     "text": [
      "23/03/02 11:27:17 WARN Utils: Your hostname, tamirats-MacBook-Pro.local resolves to a loopback address: 127.0.0.1; using 192.168.31.180 instead (on interface en0)\n",
      "23/03/02 11:27:17 WARN Utils: Set SPARK_LOCAL_IP if you need to bind to another address\n"
     ]
    },
    {
     "name": "stderr",
     "output_type": "stream",
     "text": [
      "Setting default log level to \"WARN\".\n",
      "To adjust logging level use sc.setLogLevel(newLevel). For SparkR, use setLogLevel(newLevel).\n"
     ]
    },
    {
     "name": "stdout",
     "output_type": "stream",
     "text": [
      "23/03/02 11:27:18 WARN NativeCodeLoader: Unable to load native-hadoop library for your platform... using builtin-java classes where applicable\n",
      "23/03/02 11:27:18 WARN Utils: Service 'SparkUI' could not bind on port 4040. Attempting port 4041.\n"
     ]
    },
    {
     "data": {
      "text/html": [
       "<div>\n",
       "<style scoped>\n",
       "    .dataframe tbody tr th:only-of-type {\n",
       "        vertical-align: middle;\n",
       "    }\n",
       "\n",
       "    .dataframe tbody tr th {\n",
       "        vertical-align: top;\n",
       "    }\n",
       "\n",
       "    .dataframe thead th {\n",
       "        text-align: right;\n",
       "    }\n",
       "</style>\n",
       "<table border=\"1\" class=\"dataframe\">\n",
       "  <thead>\n",
       "    <tr style=\"text-align: right;\">\n",
       "      <th></th>\n",
       "      <th>POINT_X</th>\n",
       "      <th>POINT_Y</th>\n",
       "      <th>CLASS</th>\n",
       "      <th>geometry</th>\n",
       "    </tr>\n",
       "  </thead>\n",
       "  <tbody>\n",
       "    <tr>\n",
       "      <th>0</th>\n",
       "      <td>441468.7125</td>\n",
       "      <td>7184281.005</td>\n",
       "      <td>ASS</td>\n",
       "      <td>None</td>\n",
       "    </tr>\n",
       "    <tr>\n",
       "      <th>1</th>\n",
       "      <td>441852.3101</td>\n",
       "      <td>7186002.327</td>\n",
       "      <td>ASS</td>\n",
       "      <td>None</td>\n",
       "    </tr>\n",
       "    <tr>\n",
       "      <th>2</th>\n",
       "      <td>442236.5012</td>\n",
       "      <td>7185249.359</td>\n",
       "      <td>ASS</td>\n",
       "      <td>None</td>\n",
       "    </tr>\n",
       "    <tr>\n",
       "      <th>3</th>\n",
       "      <td>420520.3581</td>\n",
       "      <td>7208257.978</td>\n",
       "      <td>ASS</td>\n",
       "      <td>None</td>\n",
       "    </tr>\n",
       "  </tbody>\n",
       "</table>\n",
       "</div>"
      ],
      "text/plain": [
       "       POINT_X      POINT_Y CLASS geometry\n",
       "0  441468.7125  7184281.005   ASS     None\n",
       "1  441852.3101  7186002.327   ASS     None\n",
       "2  442236.5012  7185249.359   ASS     None\n",
       "3  420520.3581  7208257.978   ASS     None"
      ]
     },
     "execution_count": 2,
     "metadata": {},
     "output_type": "execute_result"
    }
   ],
   "source": [
    "spark = SparkSession.builder.appName('AcidSoils').getOrCreate()\n",
    "source = gpd.read_file(\"/Users/tamiratatsemegiorgis/project/data/GTK_ASsoil_obs.csv\")\n",
    "source.head(4)"
   ]
  },
  {
   "cell_type": "code",
   "execution_count": 3,
   "id": "b1ec9620-2f4a-46ba-8b51-86dbc620988c",
   "metadata": {},
   "outputs": [
    {
     "data": {
      "text/html": [
       "<div>\n",
       "<style scoped>\n",
       "    .dataframe tbody tr th:only-of-type {\n",
       "        vertical-align: middle;\n",
       "    }\n",
       "\n",
       "    .dataframe tbody tr th {\n",
       "        vertical-align: top;\n",
       "    }\n",
       "\n",
       "    .dataframe thead th {\n",
       "        text-align: right;\n",
       "    }\n",
       "</style>\n",
       "<table border=\"1\" class=\"dataframe\">\n",
       "  <thead>\n",
       "    <tr style=\"text-align: right;\">\n",
       "      <th></th>\n",
       "      <th>POINT_X</th>\n",
       "      <th>POINT_Y</th>\n",
       "      <th>CLASS</th>\n",
       "    </tr>\n",
       "  </thead>\n",
       "  <tbody>\n",
       "    <tr>\n",
       "      <th>0</th>\n",
       "      <td>441468.7125</td>\n",
       "      <td>7184281.005</td>\n",
       "      <td>ASS</td>\n",
       "    </tr>\n",
       "    <tr>\n",
       "      <th>1</th>\n",
       "      <td>441852.3101</td>\n",
       "      <td>7186002.327</td>\n",
       "      <td>ASS</td>\n",
       "    </tr>\n",
       "    <tr>\n",
       "      <th>2</th>\n",
       "      <td>442236.5012</td>\n",
       "      <td>7185249.359</td>\n",
       "      <td>ASS</td>\n",
       "    </tr>\n",
       "    <tr>\n",
       "      <th>3</th>\n",
       "      <td>420520.3581</td>\n",
       "      <td>7208257.978</td>\n",
       "      <td>ASS</td>\n",
       "    </tr>\n",
       "    <tr>\n",
       "      <th>4</th>\n",
       "      <td>421346.5424</td>\n",
       "      <td>7186579.062</td>\n",
       "      <td>ASS</td>\n",
       "    </tr>\n",
       "    <tr>\n",
       "      <th>...</th>\n",
       "      <td>...</td>\n",
       "      <td>...</td>\n",
       "      <td>...</td>\n",
       "    </tr>\n",
       "    <tr>\n",
       "      <th>5819</th>\n",
       "      <td>431075.1332</td>\n",
       "      <td>7280742.189</td>\n",
       "      <td>ASS</td>\n",
       "    </tr>\n",
       "    <tr>\n",
       "      <th>5820</th>\n",
       "      <td>424970.7877</td>\n",
       "      <td>7279012.794</td>\n",
       "      <td>non-ASS</td>\n",
       "    </tr>\n",
       "    <tr>\n",
       "      <th>5821</th>\n",
       "      <td>424990.7372</td>\n",
       "      <td>7279053.719</td>\n",
       "      <td>non-ASS</td>\n",
       "    </tr>\n",
       "    <tr>\n",
       "      <th>5822</th>\n",
       "      <td>423466.8499</td>\n",
       "      <td>7274347.804</td>\n",
       "      <td>ASS</td>\n",
       "    </tr>\n",
       "    <tr>\n",
       "      <th>5823</th>\n",
       "      <td>415253.0191</td>\n",
       "      <td>7279528.828</td>\n",
       "      <td>ASS</td>\n",
       "    </tr>\n",
       "  </tbody>\n",
       "</table>\n",
       "<p>5824 rows × 3 columns</p>\n",
       "</div>"
      ],
      "text/plain": [
       "          POINT_X      POINT_Y    CLASS\n",
       "0     441468.7125  7184281.005      ASS\n",
       "1     441852.3101  7186002.327      ASS\n",
       "2     442236.5012  7185249.359      ASS\n",
       "3     420520.3581  7208257.978      ASS\n",
       "4     421346.5424  7186579.062      ASS\n",
       "...           ...          ...      ...\n",
       "5819  431075.1332  7280742.189      ASS\n",
       "5820  424970.7877  7279012.794  non-ASS\n",
       "5821  424990.7372  7279053.719  non-ASS\n",
       "5822  423466.8499  7274347.804      ASS\n",
       "5823  415253.0191  7279528.828      ASS\n",
       "\n",
       "[5824 rows x 3 columns]"
      ]
     },
     "execution_count": 3,
     "metadata": {},
     "output_type": "execute_result"
    }
   ],
   "source": [
    "source= source.drop(\"geometry\", axis=1)\n",
    "source"
   ]
  },
  {
   "cell_type": "code",
   "execution_count": 4,
   "id": "ed615b35-b31e-4fe8-b665-eb282961dff2",
   "metadata": {},
   "outputs": [
    {
     "data": {
      "text/html": [
       "<div>\n",
       "<style scoped>\n",
       "    .dataframe tbody tr th:only-of-type {\n",
       "        vertical-align: middle;\n",
       "    }\n",
       "\n",
       "    .dataframe tbody tr th {\n",
       "        vertical-align: top;\n",
       "    }\n",
       "\n",
       "    .dataframe thead th {\n",
       "        text-align: right;\n",
       "    }\n",
       "</style>\n",
       "<table border=\"1\" class=\"dataframe\">\n",
       "  <thead>\n",
       "    <tr style=\"text-align: right;\">\n",
       "      <th></th>\n",
       "      <th>CLASS</th>\n",
       "      <th>geometry</th>\n",
       "    </tr>\n",
       "  </thead>\n",
       "  <tbody>\n",
       "    <tr>\n",
       "      <th>0</th>\n",
       "      <td>ASS</td>\n",
       "      <td>POINT (25.76894 64.77799)</td>\n",
       "    </tr>\n",
       "    <tr>\n",
       "      <th>1</th>\n",
       "      <td>ASS</td>\n",
       "      <td>POINT (25.77630 64.79350)</td>\n",
       "    </tr>\n",
       "    <tr>\n",
       "      <th>2</th>\n",
       "      <td>ASS</td>\n",
       "      <td>POINT (25.78469 64.78681)</td>\n",
       "    </tr>\n",
       "    <tr>\n",
       "      <th>3</th>\n",
       "      <td>ASS</td>\n",
       "      <td>POINT (25.31512 64.98873)</td>\n",
       "    </tr>\n",
       "  </tbody>\n",
       "</table>\n",
       "</div>"
      ],
      "text/plain": [
       "  CLASS                   geometry\n",
       "0   ASS  POINT (25.76894 64.77799)\n",
       "1   ASS  POINT (25.77630 64.79350)\n",
       "2   ASS  POINT (25.78469 64.78681)\n",
       "3   ASS  POINT (25.31512 64.98873)"
      ]
     },
     "execution_count": 4,
     "metadata": {},
     "output_type": "execute_result"
    }
   ],
   "source": [
    "geom = gpd.points_from_xy(source.POINT_X.astype(\"float\"), source.POINT_Y.astype(\"float\"))\n",
    "points = gpd.GeoDataFrame(source.CLASS, crs=\"EPSG:3067\", geometry=geom).to_crs(\"WGS84\")\n",
    "points.head(4)"
   ]
  },
  {
   "cell_type": "code",
   "execution_count": 5,
   "id": "74edc47b-aa18-486c-a821-c06f9ea189b9",
   "metadata": {},
   "outputs": [
    {
     "data": {
      "text/html": [
       "<div>\n",
       "<style scoped>\n",
       "    .dataframe tbody tr th:only-of-type {\n",
       "        vertical-align: middle;\n",
       "    }\n",
       "\n",
       "    .dataframe tbody tr th {\n",
       "        vertical-align: top;\n",
       "    }\n",
       "\n",
       "    .dataframe thead th {\n",
       "        text-align: right;\n",
       "    }\n",
       "</style>\n",
       "<table border=\"1\" class=\"dataframe\">\n",
       "  <thead>\n",
       "    <tr style=\"text-align: right;\">\n",
       "      <th></th>\n",
       "      <th>CLASS</th>\n",
       "      <th>geometry</th>\n",
       "      <th>x</th>\n",
       "      <th>y</th>\n",
       "    </tr>\n",
       "  </thead>\n",
       "  <tbody>\n",
       "    <tr>\n",
       "      <th>0</th>\n",
       "      <td>ASS</td>\n",
       "      <td>POINT (25.76894 64.77799)</td>\n",
       "      <td>25.768938</td>\n",
       "      <td>64.777988</td>\n",
       "    </tr>\n",
       "    <tr>\n",
       "      <th>1</th>\n",
       "      <td>ASS</td>\n",
       "      <td>POINT (25.77630 64.79350)</td>\n",
       "      <td>25.776304</td>\n",
       "      <td>64.793496</td>\n",
       "    </tr>\n",
       "    <tr>\n",
       "      <th>2</th>\n",
       "      <td>ASS</td>\n",
       "      <td>POINT (25.78469 64.78681)</td>\n",
       "      <td>25.784691</td>\n",
       "      <td>64.786808</td>\n",
       "    </tr>\n",
       "    <tr>\n",
       "      <th>3</th>\n",
       "      <td>ASS</td>\n",
       "      <td>POINT (25.31512 64.98873)</td>\n",
       "      <td>25.315115</td>\n",
       "      <td>64.988732</td>\n",
       "    </tr>\n",
       "  </tbody>\n",
       "</table>\n",
       "</div>"
      ],
      "text/plain": [
       "  CLASS                   geometry          x          y\n",
       "0   ASS  POINT (25.76894 64.77799)  25.768938  64.777988\n",
       "1   ASS  POINT (25.77630 64.79350)  25.776304  64.793496\n",
       "2   ASS  POINT (25.78469 64.78681)  25.784691  64.786808\n",
       "3   ASS  POINT (25.31512 64.98873)  25.315115  64.988732"
      ]
     },
     "execution_count": 5,
     "metadata": {},
     "output_type": "execute_result"
    }
   ],
   "source": [
    "points[\"x\"] = points.geometry.x\n",
    "points[\"y\"] = points.geometry.y\n",
    "\n",
    "points.head(4)"
   ]
  },
  {
   "cell_type": "code",
   "execution_count": 6,
   "id": "8d77368d-ffb3-45ad-bcfc-63cf573ef391",
   "metadata": {},
   "outputs": [
    {
     "name": "stderr",
     "output_type": "stream",
     "text": [
      "[Stage 0:>                                                          (0 + 1) / 1]\r"
     ]
    },
    {
     "name": "stdout",
     "output_type": "stream",
     "text": [
      "+-----+---------------------------+------------------+-----------------+\n",
      "|CLASS|geometry                   |x                 |y                |\n",
      "+-----+---------------------------+------------------+-----------------+\n",
      "|ASS  |{105553174674336, false, 2}|25.768937832725747|64.77798766173387|\n",
      "|ASS  |{105553174721376, false, 2}|25.77630416654702 |64.79349633623737|\n",
      "|ASS  |{105553174720608, false, 2}|25.784691167397362|64.7868078298281 |\n",
      "|ASS  |{105553174721568, false, 2}|25.315115332474953|64.98873249710591|\n",
      "+-----+---------------------------+------------------+-----------------+\n",
      "only showing top 4 rows\n",
      "\n"
     ]
    },
    {
     "name": "stderr",
     "output_type": "stream",
     "text": [
      "                                                                                \r"
     ]
    }
   ],
   "source": [
    "df = spark.createDataFrame(points)\n",
    "df.show(4,truncate=False)"
   ]
  },
  {
   "cell_type": "code",
   "execution_count": 7,
   "id": "3b0d9fb8-48da-467d-9f2e-382500c886f0",
   "metadata": {},
   "outputs": [
    {
     "name": "stdout",
     "output_type": "stream",
     "text": [
      "+---------------------------+------------------+-----------------+-----+\n",
      "|geometry                   |x                 |y                |class|\n",
      "+---------------------------+------------------+-----------------+-----+\n",
      "|{105553174674336, false, 2}|25.768937832725747|64.77798766173387|1    |\n",
      "|{105553174721376, false, 2}|25.77630416654702 |64.79349633623737|1    |\n",
      "|{105553174720608, false, 2}|25.784691167397362|64.7868078298281 |1    |\n",
      "|{105553174721568, false, 2}|25.315115332474953|64.98873249710591|1    |\n",
      "+---------------------------+------------------+-----------------+-----+\n",
      "only showing top 4 rows\n",
      "\n"
     ]
    }
   ],
   "source": [
    "df= (df.\n",
    "    select(\n",
    "        \"geometry\",\"x\",\"y\",\n",
    "    (F.col(\"CLASS\") == \"ASS\").astype(\"int\").alias(\"class\"),\n",
    "    )\n",
    ")\n",
    "df.show(4,truncate=False)"
   ]
  },
  {
   "cell_type": "code",
   "execution_count": 8,
   "id": "6ed25634-1671-4fde-8f12-0ccc165d05d2",
   "metadata": {},
   "outputs": [
    {
     "name": "stdout",
     "output_type": "stream",
     "text": [
      "+-----+-----+\n",
      "|class|count|\n",
      "+-----+-----+\n",
      "|    1| 3490|\n",
      "|    0| 2334|\n",
      "+-----+-----+\n",
      "\n"
     ]
    }
   ],
   "source": [
    "df.groupby('class').count().show()"
   ]
  },
  {
   "cell_type": "markdown",
   "id": "20ddd67a-2e98-4636-80c8-6f146f097d56",
   "metadata": {
    "tags": []
   },
   "source": [
    "## Add point ID"
   ]
  },
  {
   "cell_type": "code",
   "execution_count": 14,
   "id": "c37a2248-6e16-44be-8041-9546d9231db8",
   "metadata": {},
   "outputs": [],
   "source": [
    "TILE_SIZE = 256\n",
    "\n",
    "@F.udf(returnType=T.ArrayType(T.IntegerType()))\n",
    "def project_pixel(lon, lat, zoom):\n",
    "    # lon, lat = p.geometry.x, p.geometry.y\n",
    "    \n",
    "    siny = np.sin(lat * np.pi / 180)\n",
    "    #siny = min(max(siny,-0.9999), 0.9999)\n",
    "    \n",
    "    x = TILE_SIZE * (0.5 + lon / 360)\n",
    "    y = TILE_SIZE * (0.5 - np.log((1 + siny) / (1 - siny)) / (4 * np.pi))\n",
    "    \n",
    "    scale = 2**zoom\n",
    "\n",
    "    tx = x * scale // TILE_SIZE\n",
    "    ty = y * scale // TILE_SIZE\n",
    "\n",
    "    px = x * scale % TILE_SIZE // 1\n",
    "    py = y * scale % TILE_SIZE // 1\n",
    "\n",
    "    return [int(px), int(py)]\n",
    "\n",
    "        \n",
    "@F.udf(returnType=T.ArrayType(T.IntegerType()))\n",
    "def project_tile(lon, lat, zoom):\n",
    "    \n",
    "    siny = np.sin(lat * np.pi / 180)\n",
    "    #siny = min(max(siny,-0.9999), 0.9999)\n",
    "    \n",
    "    x = TILE_SIZE * (0.5 + lon / 360)\n",
    "    y = TILE_SIZE * (0.5 - np.log((1 + siny) / (1 - siny)) / (4 * np.pi))\n",
    "    \n",
    "    scale = 2**zoom\n",
    "\n",
    "    tx = x * scale // TILE_SIZE\n",
    "    ty = y * scale // TILE_SIZE\n",
    "\n",
    "    px = x * scale % TILE_SIZE // 1\n",
    "    py = y * scale % TILE_SIZE // 1\n",
    "\n",
    "    return [int(zoom), int(tx), int(ty)]"
   ]
  },
  {
   "cell_type": "code",
   "execution_count": 15,
   "id": "2bbd4e4f-72bb-4970-adeb-e4eeb78d85d6",
   "metadata": {},
   "outputs": [
    {
     "name": "stdout",
     "output_type": "stream",
     "text": [
      "+-----+---------+------------+--------+\n",
      "|class|   pixel8|       tile8|point_id|\n",
      "+-----+---------+------------+--------+\n",
      "|    1|[83, 254]|[8, 146, 66]|       0|\n",
      "|    1|[84, 247]|[8, 146, 66]|       1|\n",
      "|    1|[85, 250]|[8, 146, 66]|       2|\n",
      "|    1| [0, 163]|[8, 146, 66]|       3|\n",
      "|    1| [5, 247]|[8, 146, 66]|       4|\n",
      "|    1|[84, 228]|[8, 146, 66]|       5|\n",
      "|    1|[59, 239]|[8, 146, 66]|       6|\n",
      "|    1|[23, 244]|[8, 146, 66]|       7|\n",
      "|    1|[226, 63]|[8, 145, 67]|       8|\n",
      "|    1|[227, 65]|[8, 145, 67]|       9|\n",
      "|    1|[236, 69]|[8, 145, 67]|      10|\n",
      "|    1|[238, 76]|[8, 145, 67]|      11|\n",
      "|    1|[216, 55]|[8, 145, 67]|      12|\n",
      "|    1|[226, 45]|[8, 145, 67]|      13|\n",
      "|    1|[223, 45]|[8, 145, 67]|      14|\n",
      "|    1|[221, 44]|[8, 145, 67]|      15|\n",
      "|    1|[222, 56]|[8, 145, 67]|      16|\n",
      "|    1|[222, 50]|[8, 145, 67]|      17|\n",
      "|    1|[224, 62]|[8, 145, 67]|      18|\n",
      "|    1|[229, 57]|[8, 145, 67]|      19|\n",
      "+-----+---------+------------+--------+\n",
      "only showing top 20 rows\n",
      "\n"
     ]
    }
   ],
   "source": [
    "#for zoom = 8\n",
    "df_points8 = (\n",
    "    df\n",
    "    .withColumn(\"pixel8\", project_pixel(df.x, df.y, F.lit(8)))\n",
    "    .withColumn(\"tile8\", project_tile(df.x, df.y, F.lit(8)))\n",
    "    .withColumn(\"point_id\", F.monotonically_increasing_id())\n",
    "    .drop(\"x\", \"y\", \"geometry\")\n",
    "    \n",
    ")\n",
    "df_points8.show()"
   ]
  },
  {
   "cell_type": "code",
   "execution_count": 16,
   "id": "82b379c6-918d-4657-bbca-39643fc4462b",
   "metadata": {},
   "outputs": [
    {
     "name": "stdout",
     "output_type": "stream",
     "text": [
      "+-----+----------+-------------+--------+\n",
      "|class|    pixel9|        tile9|point_id|\n",
      "+-----+----------+-------------+--------+\n",
      "|    1|[166, 252]|[9, 292, 133]|       0|\n",
      "|    1|[168, 239]|[9, 292, 133]|       1|\n",
      "|    1|[171, 245]|[9, 292, 133]|       2|\n",
      "|    1|   [0, 71]|[9, 292, 133]|       3|\n",
      "+-----+----------+-------------+--------+\n",
      "only showing top 4 rows\n",
      "\n"
     ]
    }
   ],
   "source": [
    "#for zoom = 9\n",
    "df_points9 = (\n",
    "    df\n",
    "    .withColumn(\"pixel9\", project_pixel(df.x, df.y, F.lit(9)))\n",
    "    .withColumn(\"tile9\", project_tile(df.x, df.y,F.lit(9)))\n",
    "    .withColumn(\"point_id\", F.monotonically_increasing_id())\n",
    "    .drop(\"x\", \"y\", \"geometry\")\n",
    ")\n",
    "df_points9.show(4)"
   ]
  },
  {
   "cell_type": "code",
   "execution_count": 17,
   "id": "ee346c7b-8a76-4cf2-acdb-f1538afa142b",
   "metadata": {},
   "outputs": [
    {
     "name": "stdout",
     "output_type": "stream",
     "text": [
      "+-----+---------+--------------+--------+\n",
      "|class|  pixel10|        tile10|point_id|\n",
      "+-----+---------+--------------+--------+\n",
      "|    1|[76, 249]|[10, 585, 267]|       0|\n",
      "|    1|[81, 222]|[10, 585, 267]|       1|\n",
      "|    1|[87, 234]|[10, 585, 267]|       2|\n",
      "|    1| [1, 143]|[10, 584, 266]|       3|\n",
      "+-----+---------+--------------+--------+\n",
      "only showing top 4 rows\n",
      "\n"
     ]
    }
   ],
   "source": [
    "#for zoom = 10\n",
    "df_points10 = (\n",
    "    df\n",
    "\n",
    "    .withColumn(\"pixel10\", project_pixel(df.x, df.y, F.lit(10)))\n",
    "    .withColumn(\"tile10\", project_tile(df.x, df.y,F.lit(10)))\n",
    "    .withColumn(\"point_id\", F.monotonically_increasing_id())\n",
    "    .drop(\"x\", \"y\", \"geometry\")\n",
    "    \n",
    ")\n",
    "\n",
    "df_points10.show(4)\n"
   ]
  },
  {
   "cell_type": "markdown",
   "id": "2cf5c88d-574a-4f98-8b3f-cf45a92bf506",
   "metadata": {
    "tags": []
   },
   "source": [
    "## Combine output class with pixel coordinates"
   ]
  },
  {
   "cell_type": "code",
   "execution_count": 77,
   "id": "cd4139af-0496-4a69-81cf-d651ae2dec44",
   "metadata": {},
   "outputs": [],
   "source": [
    "TILES_BASIC = \"/Users/tamiratatsemegiorgis/project/data/earlerData/MapTilesViewer/basic/{z}/{x}/{y}.png\"\n",
    "TILES_HILLSHADE =\"/Users/tamiratatsemegiorgis/project/data/earlerData/TILES_hillshade/{z}/{x}/{y}.png\"\n",
    "\n",
    "@F.udf(returnType=T.ArrayType(T.ArrayType(T.LongType())))\n",
    "def load_image_data(tile, pixel_data, tiles):\n",
    "    \"\"\"\n",
    "    tiles: folder with tiles\n",
    "    \"\"\"\n",
    "    (z, tx, ty) = tile\n",
    "    \n",
    "    fname = tiles.format(z=z, x=tx, y=ty)\n",
    "    try :\n",
    "        im = Image.open(fname)\n",
    "        arr_img= np.array(im)\n",
    "\n",
    "        data = []\n",
    "        for i, j, pid in pixel_data:\n",
    "            if arr_img.shape[-1] == 3:\n",
    "                # color image\n",
    "                r, g, b = arr_img[i, j] # 3 dim array, ?\n",
    "                data.append([int(r), int(g), int(b), pid])\n",
    "            else:\n",
    "                # grayscale image\n",
    "                gray, alpha = arr_img[i, j]\n",
    "                data.append([int(gray), pid])\n",
    "\n",
    "        return data\n",
    "    except :\n",
    "        print(\"\")"
   ]
  },
  {
   "cell_type": "code",
   "execution_count": null,
   "id": "b7e4f8cd-ffca-43d7-94e4-8bbd31399801",
   "metadata": {},
   "outputs": [],
   "source": []
  },
  {
   "cell_type": "code",
   "execution_count": 78,
   "id": "c287c66e-fa7e-4fbf-a484-17be2daa6720",
   "metadata": {},
   "outputs": [],
   "source": [
    "def func1(p,TILES):\n",
    "    \n",
    "    a1=p.columns[1]\n",
    "    a2 = p.columns[2]\n",
    "    p=p.withColumnRenamed(a1, \"pixel\")\n",
    "    p=p.withColumnRenamed(a2, \"tile\")\n",
    "    df_basic_raw = (\n",
    "        p\n",
    "        .select(\n",
    "            \"point_id\", \"pixel\", \"tile\",\n",
    "        )\n",
    "        .withColumn(\"pixel_i\", F.col(\"pixel\")[0])\n",
    "        .withColumn(\"pixel_j\", F.col(\"pixel\")[1])\n",
    "        .withColumn(\"pixel_data\", F.array(F.col(\"pixel_i\"), F.col(\"pixel_j\"), F.col(\"point_id\")))\n",
    "\n",
    "        # processing\n",
    "        .groupby(\"tile\")\n",
    "        .agg(\n",
    "            F.collect_list(\"pixel_data\").alias(\"pixel_data_list\"),\n",
    "        )\n",
    "        .withColumn(\"data_basic\", load_image_data(F.col(\"tile\"), F.col(\"pixel_data_list\"),\n",
    "                                                  F.lit(TILES)))\n",
    "\n",
    "        .select(F.explode(\"data_basic\").alias(\"data\"))\n",
    "        \n",
    "            .select(\n",
    "                F.col(\"data\")[0].alias(\"basic_r\"),\n",
    "                F.col(\"data\")[1].alias(\"basic_g\"),\n",
    "                F.col(\"data\")[2].alias(\"basic_b\"),\n",
    "                F.col(\"data\")[3].alias(\"point_id\"),     \n",
    "            )\n",
    "         \n",
    "            # put back points class\n",
    "        .join(\n",
    "             p.select(\"CLASS\", \"point_id\"),     on=\"point_id\",\n",
    "            ) \n",
    "    )\n",
    "    return df_basic_raw\n",
    "\n",
    "    "
   ]
  },
  {
   "cell_type": "markdown",
   "id": "55c457aa-898a-40de-abb5-9f8e98ab0f11",
   "metadata": {},
   "source": [
    "### For zoom level 8"
   ]
  },
  {
   "cell_type": "code",
   "execution_count": 80,
   "id": "971edea6-fef0-4d46-9565-914cb5819f1e",
   "metadata": {},
   "outputs": [
    {
     "name": "stdout",
     "output_type": "stream",
     "text": [
      "+--------+--------+--------+--------+-----+\n",
      "|point_id|basic_r8|basic_g8|basic_b8|CLASS|\n",
      "+--------+--------+--------+--------+-----+\n",
      "|      26|      61|      77|      48|    1|\n",
      "|      29|      87|      96|      65|    1|\n",
      "+--------+--------+--------+--------+-----+\n",
      "only showing top 2 rows\n",
      "\n"
     ]
    }
   ],
   "source": [
    "from pyspark.sql.functions import *\n",
    "df_basic_raw8=func1(df_points8, TILES_BASIC)\n",
    "df_basic_raw8=(df_basic_raw8.select(\"point_id\",\n",
    "    col(\"basic_r\").alias(\"basic_r8\"),\n",
    "    col(\"basic_g\").alias(\"basic_g8\"),\n",
    "    col(\"basic_b\").alias(\"basic_b8\"),\n",
    "    \"CLASS\"\n",
    "))\n",
    "df_basic_raw8.show(2)"
   ]
  },
  {
   "cell_type": "code",
   "execution_count": null,
   "id": "8318d1fd-e7f4-4a2f-b2da-afb2b93a6dd6",
   "metadata": {},
   "outputs": [],
   "source": []
  },
  {
   "cell_type": "markdown",
   "id": "a86ca01b-df0e-4b46-8f59-57962f0900ae",
   "metadata": {
    "tags": []
   },
   "source": [
    " ## For zoom level 9"
   ]
  },
  {
   "cell_type": "code",
   "execution_count": 81,
   "id": "28a8cdcd-dbb4-47d8-a7cc-d2003ed4d665",
   "metadata": {},
   "outputs": [
    {
     "name": "stdout",
     "output_type": "stream",
     "text": [
      "+--------+--------+--------+--------+-----+\n",
      "|point_id|basic_r9|basic_g9|basic_b9|CLASS|\n",
      "+--------+--------+--------+--------+-----+\n",
      "|      26|     118|     111|      95|    1|\n",
      "|      29|     107|     102|      82|    1|\n",
      "+--------+--------+--------+--------+-----+\n",
      "only showing top 2 rows\n",
      "\n"
     ]
    }
   ],
   "source": [
    "from pyspark.sql.functions import *\n",
    "df_basic_raw9=func1(df_points9,TILES_BASIC)\n",
    "df_basic_raw9=(df_basic_raw9.select(\"point_id\",\n",
    "    col(\"basic_r\").alias(\"basic_r9\"),\n",
    "    col(\"basic_g\").alias(\"basic_g9\"),\n",
    "    col(\"basic_b\").alias(\"basic_b9\"),\n",
    "    \"CLASS\"\n",
    "))\n",
    "df_basic_raw9.show(2)\n",
    "\n"
   ]
  },
  {
   "cell_type": "markdown",
   "id": "19ffdafd-10be-48ec-99e8-afd56d0eaa15",
   "metadata": {
    "tags": []
   },
   "source": [
    " ## For zoom level 10"
   ]
  },
  {
   "cell_type": "code",
   "execution_count": 82,
   "id": "5c443894-b667-4a96-ad59-88d81e54c95a",
   "metadata": {},
   "outputs": [
    {
     "name": "stdout",
     "output_type": "stream",
     "text": [
      "+-----+---------+--------------+--------+\n",
      "|class|  pixel10|        tile10|point_id|\n",
      "+-----+---------+--------------+--------+\n",
      "|    1|[76, 249]|[10, 585, 267]|       0|\n",
      "|    1|[81, 222]|[10, 585, 267]|       1|\n",
      "+-----+---------+--------------+--------+\n",
      "only showing top 2 rows\n",
      "\n"
     ]
    }
   ],
   "source": [
    "df_points10.show(2)"
   ]
  },
  {
   "cell_type": "code",
   "execution_count": 83,
   "id": "6f97c557-c417-4e63-bef3-ccbcf2bdaff6",
   "metadata": {
    "tags": []
   },
   "outputs": [
    {
     "name": "stdout",
     "output_type": "stream",
     "text": [
      "+--------+---------+---------+---------+-----+\n",
      "|point_id|basic_r10|basic_g10|basic_b10|CLASS|\n",
      "+--------+---------+---------+---------+-----+\n",
      "|      26|       51|       69|       31|    1|\n",
      "|      29|       79|      100|       59|    1|\n",
      "+--------+---------+---------+---------+-----+\n",
      "only showing top 2 rows\n",
      "\n"
     ]
    }
   ],
   "source": [
    "\n",
    "df_basic_raw10=func1(df_points10,TILES_BASIC)\n",
    "df_basic_raw10=(df_basic_raw10.select(\"point_id\",\n",
    "    col(\"basic_r\").alias(\"basic_r10\"),\n",
    "    col(\"basic_g\").alias(\"basic_g10\"),\n",
    "    col(\"basic_b\").alias(\"basic_b10\"),\n",
    "    \"CLASS\"\n",
    "))\n",
    "df_basic_raw10.show(2)"
   ]
  },
  {
   "cell_type": "code",
   "execution_count": 84,
   "id": "1e6cdf41-f570-4b43-8980-61b40b5d1277",
   "metadata": {},
   "outputs": [],
   "source": [
    "#df1=df_basic_raw10.filter(df_basic_raw10.point_id ==459 )\n",
    "#df1.show()"
   ]
  },
  {
   "cell_type": "code",
   "execution_count": 85,
   "id": "b90a81dc-95e8-4edc-a2ae-850d4b10f3d3",
   "metadata": {},
   "outputs": [
    {
     "name": "stderr",
     "output_type": "stream",
     "text": [
      "                                                                                \r"
     ]
    },
    {
     "name": "stdout",
     "output_type": "stream",
     "text": [
      "+--------+--------+--------+--------+--------+--------+--------+---------+---------+---------+-----+\n",
      "|point_id|basic_r8|basic_g8|basic_b8|basic_r9|basic_g9|basic_b9|basic_r10|basic_g10|basic_b10|CLASS|\n",
      "+--------+--------+--------+--------+--------+--------+--------+---------+---------+---------+-----+\n",
      "|       0|     100|     114|      78|     107|     101|      75|      106|       92|       66|    1|\n",
      "|       1|     115|     122|      88|      81|     102|      69|       70|       81|       47|    1|\n",
      "|       2|      99|     103|      70|      85|      95|      61|       80|       87|       56|    1|\n",
      "|       3|      81|      97|      61|     104|     114|      90|       60|       79|       51|    1|\n",
      "+--------+--------+--------+--------+--------+--------+--------+---------+---------+---------+-----+\n",
      "only showing top 4 rows\n",
      "\n"
     ]
    }
   ],
   "source": [
    " # Join pyspark datasets for zoom 8,9 and 10\n",
    "sp_df_data_raw_8_9_10 = (\n",
    "    df_basic_raw8.drop(\"CLASS\")\n",
    "    .join(df_basic_raw9.drop(\"CLASS\"), on=\"point_id\")\n",
    "     .join(df_basic_raw10, on=\"point_id\")\n",
    ")\n",
    "sp_df_data_raw_8_9_10.show(4)"
   ]
  },
  {
   "cell_type": "code",
   "execution_count": 86,
   "id": "652a1ece-5d4b-49d0-8f06-8326ef777a83",
   "metadata": {},
   "outputs": [
    {
     "name": "stderr",
     "output_type": "stream",
     "text": [
      "                                                                                \r"
     ]
    },
    {
     "name": "stdout",
     "output_type": "stream",
     "text": [
      "+-----+-----+\n",
      "|CLASS|count|\n",
      "+-----+-----+\n",
      "|    1| 3490|\n",
      "|    0| 2334|\n",
      "+-----+-----+\n",
      "\n"
     ]
    }
   ],
   "source": [
    "#check the CLASS column\n",
    "sp_df_data_raw_8_9_10.groupby('CLASS').count().show()"
   ]
  },
  {
   "cell_type": "code",
   "execution_count": 87,
   "id": "1f75d3e8-1d58-4255-b20e-024c185aa0b3",
   "metadata": {},
   "outputs": [
    {
     "name": "stdout",
     "output_type": "stream",
     "text": [
      "root\n",
      " |-- point_id: long (nullable = true)\n",
      " |-- basic_r8: long (nullable = true)\n",
      " |-- basic_g8: long (nullable = true)\n",
      " |-- basic_b8: long (nullable = true)\n",
      " |-- basic_r9: long (nullable = true)\n",
      " |-- basic_g9: long (nullable = true)\n",
      " |-- basic_b9: long (nullable = true)\n",
      " |-- basic_r10: long (nullable = true)\n",
      " |-- basic_g10: long (nullable = true)\n",
      " |-- basic_b10: long (nullable = true)\n",
      " |-- CLASS: integer (nullable = true)\n",
      "\n"
     ]
    }
   ],
   "source": [
    "sp_df_data_raw_8_9_10.printSchema()"
   ]
  },
  {
   "cell_type": "markdown",
   "id": "8ba0b30c-cd3d-4774-8dae-75eb015dee5c",
   "metadata": {
    "tags": []
   },
   "source": [
    "## Model building and Testing using  Using Sk-learn"
   ]
  },
  {
   "cell_type": "code",
   "execution_count": null,
   "id": "22966c9f-792b-4c4f-930f-7432c83807c4",
   "metadata": {},
   "outputs": [],
   "source": []
  },
  {
   "cell_type": "code",
   "execution_count": 88,
   "id": "0d1d647f-6bb5-4995-918f-2e3c31ad4cfe",
   "metadata": {},
   "outputs": [
    {
     "name": "stderr",
     "output_type": "stream",
     "text": [
      "                                                                                \r"
     ]
    },
    {
     "data": {
      "text/html": [
       "<div>\n",
       "<style scoped>\n",
       "    .dataframe tbody tr th:only-of-type {\n",
       "        vertical-align: middle;\n",
       "    }\n",
       "\n",
       "    .dataframe tbody tr th {\n",
       "        vertical-align: top;\n",
       "    }\n",
       "\n",
       "    .dataframe thead th {\n",
       "        text-align: right;\n",
       "    }\n",
       "</style>\n",
       "<table border=\"1\" class=\"dataframe\">\n",
       "  <thead>\n",
       "    <tr style=\"text-align: right;\">\n",
       "      <th></th>\n",
       "      <th>basic_r8</th>\n",
       "      <th>basic_g8</th>\n",
       "      <th>basic_b8</th>\n",
       "      <th>basic_r9</th>\n",
       "      <th>basic_g9</th>\n",
       "      <th>basic_b9</th>\n",
       "      <th>basic_r10</th>\n",
       "      <th>basic_g10</th>\n",
       "      <th>basic_b10</th>\n",
       "      <th>CLASS</th>\n",
       "    </tr>\n",
       "    <tr>\n",
       "      <th>point_id</th>\n",
       "      <th></th>\n",
       "      <th></th>\n",
       "      <th></th>\n",
       "      <th></th>\n",
       "      <th></th>\n",
       "      <th></th>\n",
       "      <th></th>\n",
       "      <th></th>\n",
       "      <th></th>\n",
       "      <th></th>\n",
       "    </tr>\n",
       "  </thead>\n",
       "  <tbody>\n",
       "    <tr>\n",
       "      <th>0</th>\n",
       "      <td>100</td>\n",
       "      <td>114</td>\n",
       "      <td>78</td>\n",
       "      <td>107</td>\n",
       "      <td>101</td>\n",
       "      <td>75</td>\n",
       "      <td>106</td>\n",
       "      <td>92</td>\n",
       "      <td>66</td>\n",
       "      <td>1</td>\n",
       "    </tr>\n",
       "    <tr>\n",
       "      <th>1</th>\n",
       "      <td>115</td>\n",
       "      <td>122</td>\n",
       "      <td>88</td>\n",
       "      <td>81</td>\n",
       "      <td>102</td>\n",
       "      <td>69</td>\n",
       "      <td>70</td>\n",
       "      <td>81</td>\n",
       "      <td>47</td>\n",
       "      <td>1</td>\n",
       "    </tr>\n",
       "    <tr>\n",
       "      <th>2</th>\n",
       "      <td>99</td>\n",
       "      <td>103</td>\n",
       "      <td>70</td>\n",
       "      <td>85</td>\n",
       "      <td>95</td>\n",
       "      <td>61</td>\n",
       "      <td>80</td>\n",
       "      <td>87</td>\n",
       "      <td>56</td>\n",
       "      <td>1</td>\n",
       "    </tr>\n",
       "    <tr>\n",
       "      <th>3</th>\n",
       "      <td>81</td>\n",
       "      <td>97</td>\n",
       "      <td>61</td>\n",
       "      <td>104</td>\n",
       "      <td>114</td>\n",
       "      <td>90</td>\n",
       "      <td>60</td>\n",
       "      <td>79</td>\n",
       "      <td>51</td>\n",
       "      <td>1</td>\n",
       "    </tr>\n",
       "    <tr>\n",
       "      <th>4</th>\n",
       "      <td>131</td>\n",
       "      <td>139</td>\n",
       "      <td>102</td>\n",
       "      <td>157</td>\n",
       "      <td>165</td>\n",
       "      <td>126</td>\n",
       "      <td>56</td>\n",
       "      <td>56</td>\n",
       "      <td>30</td>\n",
       "      <td>1</td>\n",
       "    </tr>\n",
       "    <tr>\n",
       "      <th>...</th>\n",
       "      <td>...</td>\n",
       "      <td>...</td>\n",
       "      <td>...</td>\n",
       "      <td>...</td>\n",
       "      <td>...</td>\n",
       "      <td>...</td>\n",
       "      <td>...</td>\n",
       "      <td>...</td>\n",
       "      <td>...</td>\n",
       "      <td>...</td>\n",
       "    </tr>\n",
       "    <tr>\n",
       "      <th>60129542867</th>\n",
       "      <td>108</td>\n",
       "      <td>115</td>\n",
       "      <td>81</td>\n",
       "      <td>121</td>\n",
       "      <td>98</td>\n",
       "      <td>67</td>\n",
       "      <td>143</td>\n",
       "      <td>122</td>\n",
       "      <td>93</td>\n",
       "      <td>1</td>\n",
       "    </tr>\n",
       "    <tr>\n",
       "      <th>60129542868</th>\n",
       "      <td>95</td>\n",
       "      <td>111</td>\n",
       "      <td>72</td>\n",
       "      <td>109</td>\n",
       "      <td>118</td>\n",
       "      <td>87</td>\n",
       "      <td>87</td>\n",
       "      <td>98</td>\n",
       "      <td>64</td>\n",
       "      <td>0</td>\n",
       "    </tr>\n",
       "    <tr>\n",
       "      <th>60129542869</th>\n",
       "      <td>95</td>\n",
       "      <td>111</td>\n",
       "      <td>72</td>\n",
       "      <td>109</td>\n",
       "      <td>118</td>\n",
       "      <td>87</td>\n",
       "      <td>87</td>\n",
       "      <td>98</td>\n",
       "      <td>64</td>\n",
       "      <td>0</td>\n",
       "    </tr>\n",
       "    <tr>\n",
       "      <th>60129542870</th>\n",
       "      <td>156</td>\n",
       "      <td>130</td>\n",
       "      <td>97</td>\n",
       "      <td>173</td>\n",
       "      <td>187</td>\n",
       "      <td>151</td>\n",
       "      <td>178</td>\n",
       "      <td>182</td>\n",
       "      <td>145</td>\n",
       "      <td>1</td>\n",
       "    </tr>\n",
       "    <tr>\n",
       "      <th>60129542871</th>\n",
       "      <td>7</td>\n",
       "      <td>37</td>\n",
       "      <td>48</td>\n",
       "      <td>8</td>\n",
       "      <td>38</td>\n",
       "      <td>49</td>\n",
       "      <td>9</td>\n",
       "      <td>38</td>\n",
       "      <td>52</td>\n",
       "      <td>1</td>\n",
       "    </tr>\n",
       "  </tbody>\n",
       "</table>\n",
       "<p>5824 rows × 10 columns</p>\n",
       "</div>"
      ],
      "text/plain": [
       "             basic_r8  basic_g8  basic_b8  basic_r9  basic_g9  basic_b9  \\\n",
       "point_id                                                                  \n",
       "0                 100       114        78       107       101        75   \n",
       "1                 115       122        88        81       102        69   \n",
       "2                  99       103        70        85        95        61   \n",
       "3                  81        97        61       104       114        90   \n",
       "4                 131       139       102       157       165       126   \n",
       "...               ...       ...       ...       ...       ...       ...   \n",
       "60129542867       108       115        81       121        98        67   \n",
       "60129542868        95       111        72       109       118        87   \n",
       "60129542869        95       111        72       109       118        87   \n",
       "60129542870       156       130        97       173       187       151   \n",
       "60129542871         7        37        48         8        38        49   \n",
       "\n",
       "             basic_r10  basic_g10  basic_b10  CLASS  \n",
       "point_id                                             \n",
       "0                  106         92         66      1  \n",
       "1                   70         81         47      1  \n",
       "2                   80         87         56      1  \n",
       "3                   60         79         51      1  \n",
       "4                   56         56         30      1  \n",
       "...                ...        ...        ...    ...  \n",
       "60129542867        143        122         93      1  \n",
       "60129542868         87         98         64      0  \n",
       "60129542869         87         98         64      0  \n",
       "60129542870        178        182        145      1  \n",
       "60129542871          9         38         52      1  \n",
       "\n",
       "[5824 rows x 10 columns]"
      ]
     },
     "execution_count": 88,
     "metadata": {},
     "output_type": "execute_result"
    }
   ],
   "source": [
    "#convert the pyspark dataframe to pandas dataframe\n",
    "df_data_basicMap_8_9_10=sp_df_data_raw_8_9_10.toPandas().set_index('point_id')\n",
    "df_data_basicMap_8_9_10"
   ]
  },
  {
   "cell_type": "code",
   "execution_count": 89,
   "id": "8a41eb73-3dbb-4cf7-aabf-1a8c8d10e2f8",
   "metadata": {
    "tags": []
   },
   "outputs": [
    {
     "data": {
      "text/plain": [
       "array([[114,  78, 107, ...,  92,  66,   1],\n",
       "       [122,  88,  81, ...,  81,  47,   1],\n",
       "       [103,  70,  85, ...,  87,  56,   1],\n",
       "       ...,\n",
       "       [111,  72, 109, ...,  98,  64,   0],\n",
       "       [130,  97, 173, ..., 182, 145,   1],\n",
       "       [ 37,  48,   8, ...,  38,  52,   1]])"
      ]
     },
     "execution_count": 89,
     "metadata": {},
     "output_type": "execute_result"
    }
   ],
   "source": [
    "# create independent featur X and label column y\n",
    "X= df_data_basicMap_8_9_10.iloc[:,1:10].values\n",
    "y=df_data_basicMap_8_9_10.iloc[:,-1].values\n",
    "X"
   ]
  },
  {
   "cell_type": "code",
   "execution_count": 90,
   "id": "441eb28c-e1fd-470a-8ae9-a27d7a50d52c",
   "metadata": {},
   "outputs": [
    {
     "data": {
      "text/plain": [
       "(3902, 9)"
      ]
     },
     "execution_count": 90,
     "metadata": {},
     "output_type": "execute_result"
    }
   ],
   "source": [
    "#split train and test sets\n",
    "X_train, X_test, y_train, y_test = train_test_split(X,y, test_size=0.33,random_state=0)\n",
    "X_train.shape"
   ]
  },
  {
   "cell_type": "code",
   "execution_count": null,
   "id": "6a062572-3dce-4623-b10a-ded6120c8264",
   "metadata": {},
   "outputs": [],
   "source": []
  },
  {
   "cell_type": "code",
   "execution_count": 91,
   "id": "f4367780-2c8b-4243-8bc5-85c399d2e694",
   "metadata": {},
   "outputs": [],
   "source": [
    "aspect_10m=\"/Users/tamiratatsemegiorgis/project/data/newData/elev_10m_aspect/{z}/{x}/{y}.png\"\n",
    "hillshade_10m=\"/Users/tamiratatsemegiorgis/project/data/newData/elev_10m_hillshade/{z}/{x}/{y}.png\"\n",
    "slope_10m=\"/Users/tamiratatsemegiorgis/project/data/newData/elev_10m_slope/{z}/{x}/{y}.png\"\n",
    "corine_land = \"/Users/tamiratatsemegiorgis/project/data/newData/corine_land_cover/{z}/{x}/{y}.png\""
   ]
  },
  {
   "cell_type": "code",
   "execution_count": 92,
   "id": "e5d6b051",
   "metadata": {
    "scrolled": true
   },
   "outputs": [],
   "source": [
    "def func2(p, tiles):\n",
    "    a1=p.columns[1]\n",
    "    a2 = p.columns[2]\n",
    "    p=p.withColumnRenamed(a1, \"pixel\")\n",
    "    p=p.withColumnRenamed(a2, \"tile\")\n",
    "    df_hill_raw8 = (\n",
    "        p\n",
    "        .select(\n",
    "            \"point_id\", \"pixel\", \"tile\",\n",
    "        )\n",
    "        .withColumn(\"pixel_i\", F.col(\"pixel\")[0])\n",
    "        .withColumn(\"pixel_j\", F.col(\"pixel\")[1])\n",
    "        .withColumn(\"pixel_data\", F.array(F.col(\"pixel_i\"), F.col(\"pixel_j\"), F.col(\"point_id\")))\n",
    "\n",
    "        .groupby(\"tile\")\n",
    "        .agg(\n",
    "            F.collect_list(\"pixel_data\").alias(\"pixel_data_list\"),\n",
    "        )\n",
    "\n",
    "        .withColumn(\"data_basic\", load_image_data(F.col(\"tile\"), F.col(\"pixel_data_list\"),\n",
    "                                                   F.lit(tiles)))\n",
    "\n",
    "        .withColumn(\"data\", F.explode(\"data_basic\"))\n",
    "        .select(\n",
    "            F.col(\"data\")[0].alias(\"basic_r\"),\n",
    "    #         F.col(\"data\")[1].alias(\"basic_g8\"),\n",
    "    #         F.col(\"data\")[2].alias(\"basic_b8\"),\n",
    "            F.col(\"data\")[1].alias(\"point_id\"),     \n",
    "        )\n",
    "\n",
    "        # put back points class\n",
    "        .join(\n",
    "            p.select(\"CLASS\", \"point_id\"),     on=\"point_id\",\n",
    "        )     \n",
    "\n",
    "\n",
    "\n",
    "    )\n",
    "    return df_hill_raw8"
   ]
  },
  {
   "cell_type": "code",
   "execution_count": null,
   "id": "0e98825b-a48e-4f52-8eab-f50713ec391b",
   "metadata": {},
   "outputs": [],
   "source": []
  },
  {
   "cell_type": "code",
   "execution_count": null,
   "id": "18f58582-6dfe-4284-a779-985f0ee234bc",
   "metadata": {},
   "outputs": [],
   "source": []
  },
  {
   "cell_type": "markdown",
   "id": "5235649e-dce5-478e-a11d-8874fdd22fdd",
   "metadata": {},
   "source": [
    "## corine_land for zoom 8,9,10"
   ]
  },
  {
   "cell_type": "code",
   "execution_count": 93,
   "id": "62a676ec-e662-4a2e-917d-fd1032ea30f7",
   "metadata": {},
   "outputs": [
    {
     "name": "stdout",
     "output_type": "stream",
     "text": [
      "+--------+----+-----+\n",
      "|point_id|cor8|CLASS|\n",
      "+--------+----+-----+\n",
      "|      26|  17|    1|\n",
      "|      29|  25|    1|\n",
      "+--------+----+-----+\n",
      "only showing top 2 rows\n",
      "\n"
     ]
    }
   ],
   "source": [
    "from pyspark.sql.functions import *\n",
    "df_corine_land_row8=func2(df_points8,corine_land)\n",
    "df_corine_land_row8=(df_corine_land_row8.select(\"point_id\",\n",
    "    col(\"basic_r\").alias(\"cor8\"),\n",
    "    \"CLASS\"\n",
    "))\n",
    "df_corine_land_row8.show(2)"
   ]
  },
  {
   "cell_type": "code",
   "execution_count": null,
   "id": "d2fbdf31-f6b1-4381-a68c-f69545565650",
   "metadata": {},
   "outputs": [],
   "source": []
  },
  {
   "cell_type": "code",
   "execution_count": 96,
   "id": "05bdd053-472b-4559-9ee5-8526ee1e7e4d",
   "metadata": {},
   "outputs": [
    {
     "name": "stdout",
     "output_type": "stream",
     "text": [
      "+--------+----+-----+\n",
      "|point_id|cor9|CLASS|\n",
      "+--------+----+-----+\n",
      "|      26|  35|    1|\n",
      "|      29|  25|    1|\n",
      "+--------+----+-----+\n",
      "only showing top 2 rows\n",
      "\n"
     ]
    },
    {
     "name": "stderr",
     "output_type": "stream",
     "text": [
      "\n"
     ]
    }
   ],
   "source": [
    "#image 9/293/130 is not there,(there is 128,131,...148) i copied 128 and rename it to 130,to pass \n",
    "\n",
    "df_corine_land_row9=func2(df_points9,corine_land)\n",
    "df_corine_land_row9=(df_corine_land_row9.select(\"point_id\",\n",
    "    col(\"basic_r\").alias(\"cor9\"),\n",
    "    \"CLASS\"\n",
    "))\n",
    "df_corine_land_row9.show(2)"
   ]
  },
  {
   "cell_type": "code",
   "execution_count": null,
   "id": "99af1ed6-1611-4a58-a2c3-f47dcaa51d05",
   "metadata": {},
   "outputs": [],
   "source": []
  },
  {
   "cell_type": "code",
   "execution_count": 97,
   "id": "bed7b761-0929-4c4f-925b-05996700e022",
   "metadata": {
    "tags": []
   },
   "outputs": [
    {
     "name": "stdout",
     "output_type": "stream",
     "text": [
      "+--------+-----+-----+\n",
      "|point_id|cor10|CLASS|\n",
      "+--------+-----+-----+\n",
      "|      26|   28|    1|\n",
      "|      29|   29|    1|\n",
      "+--------+-----+-----+\n",
      "only showing top 2 rows\n",
      "\n"
     ]
    },
    {
     "name": "stderr",
     "output_type": "stream",
     "text": [
      "\n"
     ]
    }
   ],
   "source": [
    "#image 10/586/261 is not there,(there is 256,257,262, 263...) i copied 257 and rename it to 261, \n",
    "#then error message went\n",
    "df_corine_land_row10=func2(df_points10,corine_land)\n",
    "df_corine_land_row10=(df_corine_land_row10.select(\"point_id\",\n",
    "    col(\"basic_r\").alias(\"cor10\"),\n",
    "    \"CLASS\"\n",
    "))\n",
    "df_corine_land_row10.show(2)"
   ]
  },
  {
   "cell_type": "code",
   "execution_count": null,
   "id": "bf8bca1c-b48c-4740-97f1-7a52855c7745",
   "metadata": {},
   "outputs": [],
   "source": []
  },
  {
   "cell_type": "code",
   "execution_count": 98,
   "id": "f719ceed-a3f2-485f-abed-c5b08c35d353",
   "metadata": {},
   "outputs": [
    {
     "name": "stderr",
     "output_type": "stream",
     "text": [
      "                                                                                \r"
     ]
    },
    {
     "name": "stdout",
     "output_type": "stream",
     "text": [
      "+--------+----+----+-----+-----+\n",
      "|point_id|cor8|cor9|cor10|CLASS|\n",
      "+--------+----+----+-----+-----+\n",
      "|       0|  26|  43|   26|    1|\n",
      "|       1|  43|  34|   34|    1|\n",
      "+--------+----+----+-----+-----+\n",
      "only showing top 2 rows\n",
      "\n"
     ]
    },
    {
     "name": "stderr",
     "output_type": "stream",
     "text": [
      "\n",
      "\n"
     ]
    }
   ],
   "source": [
    " # Join corine pyspark datasets for zoom 8,9 and 10\n",
    "df_corine_marge_8_9_10 = (\n",
    "    df_corine_land_row8.drop(\"CLASS\")\n",
    "    .join(df_corine_land_row9.drop(\"CLASS\"), on=\"point_id\")\n",
    "     .join(df_corine_land_row10, on=\"point_id\")\n",
    ")\n",
    "df_corine_marge_8_9_10.show(2)"
   ]
  },
  {
   "cell_type": "code",
   "execution_count": 99,
   "id": "3a668a84-75b0-4df3-a7d9-09a632aa5273",
   "metadata": {},
   "outputs": [
    {
     "name": "stderr",
     "output_type": "stream",
     "text": [
      "                                                                                \n",
      "\n"
     ]
    },
    {
     "name": "stdout",
     "output_type": "stream",
     "text": [
      "37\n"
     ]
    }
   ],
   "source": [
    "print(df_corine_marge_8_9_10.dropDuplicates([\"cor8\"]).select(\"cor8\").count())"
   ]
  },
  {
   "cell_type": "code",
   "execution_count": 100,
   "id": "9f5dade5-2b12-4415-9376-e6eec1551cf7",
   "metadata": {},
   "outputs": [
    {
     "name": "stderr",
     "output_type": "stream",
     "text": [
      "                                                                                \n",
      "\n"
     ]
    }
   ],
   "source": [
    "#convert the pyspark dataframe to pandas dataframe\n",
    "corine8_9_10=df_corine_marge_8_9_10.toPandas()\n",
    "corine8_9_10p=corine8_9_10.set_index('point_id')"
   ]
  },
  {
   "cell_type": "code",
   "execution_count": 101,
   "id": "41d2937d-db7c-42b7-b605-ce39906b958a",
   "metadata": {},
   "outputs": [
    {
     "data": {
      "text/html": [
       "<div>\n",
       "<style scoped>\n",
       "    .dataframe tbody tr th:only-of-type {\n",
       "        vertical-align: middle;\n",
       "    }\n",
       "\n",
       "    .dataframe tbody tr th {\n",
       "        vertical-align: top;\n",
       "    }\n",
       "\n",
       "    .dataframe thead th {\n",
       "        text-align: right;\n",
       "    }\n",
       "</style>\n",
       "<table border=\"1\" class=\"dataframe\">\n",
       "  <thead>\n",
       "    <tr style=\"text-align: right;\">\n",
       "      <th></th>\n",
       "      <th>cor8</th>\n",
       "      <th>cor9</th>\n",
       "      <th>cor10</th>\n",
       "      <th>CLASS</th>\n",
       "    </tr>\n",
       "    <tr>\n",
       "      <th>point_id</th>\n",
       "      <th></th>\n",
       "      <th></th>\n",
       "      <th></th>\n",
       "      <th></th>\n",
       "    </tr>\n",
       "  </thead>\n",
       "  <tbody>\n",
       "    <tr>\n",
       "      <th>0</th>\n",
       "      <td>26</td>\n",
       "      <td>43</td>\n",
       "      <td>26</td>\n",
       "      <td>1</td>\n",
       "    </tr>\n",
       "    <tr>\n",
       "      <th>1</th>\n",
       "      <td>43</td>\n",
       "      <td>34</td>\n",
       "      <td>34</td>\n",
       "      <td>1</td>\n",
       "    </tr>\n",
       "  </tbody>\n",
       "</table>\n",
       "</div>"
      ],
      "text/plain": [
       "          cor8  cor9  cor10  CLASS\n",
       "point_id                          \n",
       "0           26    43     26      1\n",
       "1           43    34     34      1"
      ]
     },
     "execution_count": 101,
     "metadata": {},
     "output_type": "execute_result"
    }
   ],
   "source": [
    "corine8_9_10p.head(2)"
   ]
  },
  {
   "cell_type": "code",
   "execution_count": 102,
   "id": "93d6f0d3-c6f0-4838-8f62-be35e6019e8a",
   "metadata": {},
   "outputs": [],
   "source": [
    "corine8_9_10_dummies=pd.get_dummies(data=corine8_9_10p, columns=['cor8', 'cor9', 'cor10'])\n"
   ]
  },
  {
   "cell_type": "code",
   "execution_count": 103,
   "id": "f25a5f67-b152-45da-8a55-1a2ce915b249",
   "metadata": {},
   "outputs": [
    {
     "data": {
      "text/html": [
       "<div>\n",
       "<style scoped>\n",
       "    .dataframe tbody tr th:only-of-type {\n",
       "        vertical-align: middle;\n",
       "    }\n",
       "\n",
       "    .dataframe tbody tr th {\n",
       "        vertical-align: top;\n",
       "    }\n",
       "\n",
       "    .dataframe thead th {\n",
       "        text-align: right;\n",
       "    }\n",
       "</style>\n",
       "<table border=\"1\" class=\"dataframe\">\n",
       "  <thead>\n",
       "    <tr style=\"text-align: right;\">\n",
       "      <th></th>\n",
       "      <th>CLASS</th>\n",
       "      <th>cor8_1</th>\n",
       "      <th>cor8_2</th>\n",
       "      <th>cor8_3</th>\n",
       "      <th>cor8_4</th>\n",
       "      <th>cor8_5</th>\n",
       "      <th>cor8_6</th>\n",
       "      <th>cor8_7</th>\n",
       "      <th>cor8_8</th>\n",
       "      <th>cor8_10</th>\n",
       "      <th>...</th>\n",
       "      <th>cor10_41</th>\n",
       "      <th>cor10_42</th>\n",
       "      <th>cor10_43</th>\n",
       "      <th>cor10_44</th>\n",
       "      <th>cor10_45</th>\n",
       "      <th>cor10_46</th>\n",
       "      <th>cor10_47</th>\n",
       "      <th>cor10_48</th>\n",
       "      <th>cor10_49</th>\n",
       "      <th>cor10_255</th>\n",
       "    </tr>\n",
       "    <tr>\n",
       "      <th>point_id</th>\n",
       "      <th></th>\n",
       "      <th></th>\n",
       "      <th></th>\n",
       "      <th></th>\n",
       "      <th></th>\n",
       "      <th></th>\n",
       "      <th></th>\n",
       "      <th></th>\n",
       "      <th></th>\n",
       "      <th></th>\n",
       "      <th></th>\n",
       "      <th></th>\n",
       "      <th></th>\n",
       "      <th></th>\n",
       "      <th></th>\n",
       "      <th></th>\n",
       "      <th></th>\n",
       "      <th></th>\n",
       "      <th></th>\n",
       "      <th></th>\n",
       "      <th></th>\n",
       "    </tr>\n",
       "  </thead>\n",
       "  <tbody>\n",
       "    <tr>\n",
       "      <th>0</th>\n",
       "      <td>1</td>\n",
       "      <td>0</td>\n",
       "      <td>0</td>\n",
       "      <td>0</td>\n",
       "      <td>0</td>\n",
       "      <td>0</td>\n",
       "      <td>0</td>\n",
       "      <td>0</td>\n",
       "      <td>0</td>\n",
       "      <td>0</td>\n",
       "      <td>...</td>\n",
       "      <td>0</td>\n",
       "      <td>0</td>\n",
       "      <td>0</td>\n",
       "      <td>0</td>\n",
       "      <td>0</td>\n",
       "      <td>0</td>\n",
       "      <td>0</td>\n",
       "      <td>0</td>\n",
       "      <td>0</td>\n",
       "      <td>0</td>\n",
       "    </tr>\n",
       "    <tr>\n",
       "      <th>1</th>\n",
       "      <td>1</td>\n",
       "      <td>0</td>\n",
       "      <td>0</td>\n",
       "      <td>0</td>\n",
       "      <td>0</td>\n",
       "      <td>0</td>\n",
       "      <td>0</td>\n",
       "      <td>0</td>\n",
       "      <td>0</td>\n",
       "      <td>0</td>\n",
       "      <td>...</td>\n",
       "      <td>0</td>\n",
       "      <td>0</td>\n",
       "      <td>0</td>\n",
       "      <td>0</td>\n",
       "      <td>0</td>\n",
       "      <td>0</td>\n",
       "      <td>0</td>\n",
       "      <td>0</td>\n",
       "      <td>0</td>\n",
       "      <td>0</td>\n",
       "    </tr>\n",
       "    <tr>\n",
       "      <th>2</th>\n",
       "      <td>1</td>\n",
       "      <td>0</td>\n",
       "      <td>0</td>\n",
       "      <td>0</td>\n",
       "      <td>0</td>\n",
       "      <td>0</td>\n",
       "      <td>0</td>\n",
       "      <td>0</td>\n",
       "      <td>0</td>\n",
       "      <td>0</td>\n",
       "      <td>...</td>\n",
       "      <td>0</td>\n",
       "      <td>0</td>\n",
       "      <td>0</td>\n",
       "      <td>0</td>\n",
       "      <td>0</td>\n",
       "      <td>0</td>\n",
       "      <td>0</td>\n",
       "      <td>0</td>\n",
       "      <td>0</td>\n",
       "      <td>0</td>\n",
       "    </tr>\n",
       "    <tr>\n",
       "      <th>3</th>\n",
       "      <td>1</td>\n",
       "      <td>0</td>\n",
       "      <td>0</td>\n",
       "      <td>0</td>\n",
       "      <td>0</td>\n",
       "      <td>0</td>\n",
       "      <td>0</td>\n",
       "      <td>0</td>\n",
       "      <td>0</td>\n",
       "      <td>0</td>\n",
       "      <td>...</td>\n",
       "      <td>0</td>\n",
       "      <td>0</td>\n",
       "      <td>0</td>\n",
       "      <td>0</td>\n",
       "      <td>0</td>\n",
       "      <td>0</td>\n",
       "      <td>0</td>\n",
       "      <td>0</td>\n",
       "      <td>0</td>\n",
       "      <td>0</td>\n",
       "    </tr>\n",
       "    <tr>\n",
       "      <th>4</th>\n",
       "      <td>1</td>\n",
       "      <td>0</td>\n",
       "      <td>0</td>\n",
       "      <td>0</td>\n",
       "      <td>0</td>\n",
       "      <td>0</td>\n",
       "      <td>0</td>\n",
       "      <td>0</td>\n",
       "      <td>0</td>\n",
       "      <td>0</td>\n",
       "      <td>...</td>\n",
       "      <td>0</td>\n",
       "      <td>0</td>\n",
       "      <td>0</td>\n",
       "      <td>0</td>\n",
       "      <td>0</td>\n",
       "      <td>0</td>\n",
       "      <td>0</td>\n",
       "      <td>0</td>\n",
       "      <td>0</td>\n",
       "      <td>0</td>\n",
       "    </tr>\n",
       "    <tr>\n",
       "      <th>...</th>\n",
       "      <td>...</td>\n",
       "      <td>...</td>\n",
       "      <td>...</td>\n",
       "      <td>...</td>\n",
       "      <td>...</td>\n",
       "      <td>...</td>\n",
       "      <td>...</td>\n",
       "      <td>...</td>\n",
       "      <td>...</td>\n",
       "      <td>...</td>\n",
       "      <td>...</td>\n",
       "      <td>...</td>\n",
       "      <td>...</td>\n",
       "      <td>...</td>\n",
       "      <td>...</td>\n",
       "      <td>...</td>\n",
       "      <td>...</td>\n",
       "      <td>...</td>\n",
       "      <td>...</td>\n",
       "      <td>...</td>\n",
       "      <td>...</td>\n",
       "    </tr>\n",
       "    <tr>\n",
       "      <th>60129542867</th>\n",
       "      <td>1</td>\n",
       "      <td>0</td>\n",
       "      <td>0</td>\n",
       "      <td>0</td>\n",
       "      <td>0</td>\n",
       "      <td>0</td>\n",
       "      <td>0</td>\n",
       "      <td>0</td>\n",
       "      <td>0</td>\n",
       "      <td>0</td>\n",
       "      <td>...</td>\n",
       "      <td>0</td>\n",
       "      <td>0</td>\n",
       "      <td>0</td>\n",
       "      <td>1</td>\n",
       "      <td>0</td>\n",
       "      <td>0</td>\n",
       "      <td>0</td>\n",
       "      <td>0</td>\n",
       "      <td>0</td>\n",
       "      <td>0</td>\n",
       "    </tr>\n",
       "    <tr>\n",
       "      <th>60129542868</th>\n",
       "      <td>0</td>\n",
       "      <td>0</td>\n",
       "      <td>0</td>\n",
       "      <td>0</td>\n",
       "      <td>0</td>\n",
       "      <td>0</td>\n",
       "      <td>0</td>\n",
       "      <td>0</td>\n",
       "      <td>0</td>\n",
       "      <td>0</td>\n",
       "      <td>...</td>\n",
       "      <td>0</td>\n",
       "      <td>0</td>\n",
       "      <td>0</td>\n",
       "      <td>0</td>\n",
       "      <td>0</td>\n",
       "      <td>0</td>\n",
       "      <td>0</td>\n",
       "      <td>0</td>\n",
       "      <td>0</td>\n",
       "      <td>0</td>\n",
       "    </tr>\n",
       "    <tr>\n",
       "      <th>60129542869</th>\n",
       "      <td>0</td>\n",
       "      <td>0</td>\n",
       "      <td>0</td>\n",
       "      <td>0</td>\n",
       "      <td>0</td>\n",
       "      <td>0</td>\n",
       "      <td>0</td>\n",
       "      <td>0</td>\n",
       "      <td>0</td>\n",
       "      <td>0</td>\n",
       "      <td>...</td>\n",
       "      <td>0</td>\n",
       "      <td>0</td>\n",
       "      <td>0</td>\n",
       "      <td>0</td>\n",
       "      <td>0</td>\n",
       "      <td>0</td>\n",
       "      <td>0</td>\n",
       "      <td>0</td>\n",
       "      <td>0</td>\n",
       "      <td>0</td>\n",
       "    </tr>\n",
       "    <tr>\n",
       "      <th>60129542870</th>\n",
       "      <td>1</td>\n",
       "      <td>0</td>\n",
       "      <td>0</td>\n",
       "      <td>0</td>\n",
       "      <td>0</td>\n",
       "      <td>0</td>\n",
       "      <td>0</td>\n",
       "      <td>0</td>\n",
       "      <td>0</td>\n",
       "      <td>0</td>\n",
       "      <td>...</td>\n",
       "      <td>0</td>\n",
       "      <td>0</td>\n",
       "      <td>0</td>\n",
       "      <td>0</td>\n",
       "      <td>0</td>\n",
       "      <td>0</td>\n",
       "      <td>0</td>\n",
       "      <td>0</td>\n",
       "      <td>0</td>\n",
       "      <td>0</td>\n",
       "    </tr>\n",
       "    <tr>\n",
       "      <th>60129542871</th>\n",
       "      <td>1</td>\n",
       "      <td>0</td>\n",
       "      <td>0</td>\n",
       "      <td>0</td>\n",
       "      <td>0</td>\n",
       "      <td>0</td>\n",
       "      <td>0</td>\n",
       "      <td>0</td>\n",
       "      <td>0</td>\n",
       "      <td>0</td>\n",
       "      <td>...</td>\n",
       "      <td>0</td>\n",
       "      <td>0</td>\n",
       "      <td>0</td>\n",
       "      <td>0</td>\n",
       "      <td>0</td>\n",
       "      <td>0</td>\n",
       "      <td>0</td>\n",
       "      <td>0</td>\n",
       "      <td>1</td>\n",
       "      <td>0</td>\n",
       "    </tr>\n",
       "  </tbody>\n",
       "</table>\n",
       "<p>5822 rows × 116 columns</p>\n",
       "</div>"
      ],
      "text/plain": [
       "             CLASS  cor8_1  cor8_2  cor8_3  cor8_4  cor8_5  cor8_6  cor8_7  \\\n",
       "point_id                                                                     \n",
       "0                1       0       0       0       0       0       0       0   \n",
       "1                1       0       0       0       0       0       0       0   \n",
       "2                1       0       0       0       0       0       0       0   \n",
       "3                1       0       0       0       0       0       0       0   \n",
       "4                1       0       0       0       0       0       0       0   \n",
       "...            ...     ...     ...     ...     ...     ...     ...     ...   \n",
       "60129542867      1       0       0       0       0       0       0       0   \n",
       "60129542868      0       0       0       0       0       0       0       0   \n",
       "60129542869      0       0       0       0       0       0       0       0   \n",
       "60129542870      1       0       0       0       0       0       0       0   \n",
       "60129542871      1       0       0       0       0       0       0       0   \n",
       "\n",
       "             cor8_8  cor8_10  ...  cor10_41  cor10_42  cor10_43  cor10_44  \\\n",
       "point_id                      ...                                           \n",
       "0                 0        0  ...         0         0         0         0   \n",
       "1                 0        0  ...         0         0         0         0   \n",
       "2                 0        0  ...         0         0         0         0   \n",
       "3                 0        0  ...         0         0         0         0   \n",
       "4                 0        0  ...         0         0         0         0   \n",
       "...             ...      ...  ...       ...       ...       ...       ...   \n",
       "60129542867       0        0  ...         0         0         0         1   \n",
       "60129542868       0        0  ...         0         0         0         0   \n",
       "60129542869       0        0  ...         0         0         0         0   \n",
       "60129542870       0        0  ...         0         0         0         0   \n",
       "60129542871       0        0  ...         0         0         0         0   \n",
       "\n",
       "             cor10_45  cor10_46  cor10_47  cor10_48  cor10_49  cor10_255  \n",
       "point_id                                                                  \n",
       "0                   0         0         0         0         0          0  \n",
       "1                   0         0         0         0         0          0  \n",
       "2                   0         0         0         0         0          0  \n",
       "3                   0         0         0         0         0          0  \n",
       "4                   0         0         0         0         0          0  \n",
       "...               ...       ...       ...       ...       ...        ...  \n",
       "60129542867         0         0         0         0         0          0  \n",
       "60129542868         0         0         0         0         0          0  \n",
       "60129542869         0         0         0         0         0          0  \n",
       "60129542870         0         0         0         0         0          0  \n",
       "60129542871         0         0         0         0         1          0  \n",
       "\n",
       "[5822 rows x 116 columns]"
      ]
     },
     "execution_count": 103,
     "metadata": {},
     "output_type": "execute_result"
    }
   ],
   "source": [
    "corine8_9_10_dummies"
   ]
  },
  {
   "cell_type": "code",
   "execution_count": null,
   "id": "dcadaee9",
   "metadata": {},
   "outputs": [],
   "source": []
  },
  {
   "cell_type": "markdown",
   "id": "edcbb430-9e51-4cce-be32-caa435dd0565",
   "metadata": {},
   "source": [
    "## Hillside for zoom 8,9,10"
   ]
  },
  {
   "cell_type": "code",
   "execution_count": 104,
   "id": "d54c9743-7648-43de-b597-74f8a78dfbf9",
   "metadata": {},
   "outputs": [
    {
     "name": "stdout",
     "output_type": "stream",
     "text": [
      "+--------+----+-----+\n",
      "|point_id|hil8|CLASS|\n",
      "+--------+----+-----+\n",
      "|      26| 196|    1|\n",
      "|      29| 196|    1|\n",
      "+--------+----+-----+\n",
      "only showing top 2 rows\n",
      "\n"
     ]
    }
   ],
   "source": [
    "from pyspark.sql.functions import *\n",
    "df_hillshade_10m_row8=func2(df_points8,hillshade_10m)\n",
    "df_hillshade_10m_row8=(df_hillshade_10m_row8.select(\"point_id\",\n",
    "    col(\"basic_r\").alias(\"hil8\"),\n",
    "    \"CLASS\"\n",
    "))\n",
    "df_hillshade_10m_row8.show(2)"
   ]
  },
  {
   "cell_type": "code",
   "execution_count": null,
   "id": "e276f51c-fafa-4f83-9f54-21247da078f6",
   "metadata": {},
   "outputs": [],
   "source": []
  },
  {
   "cell_type": "code",
   "execution_count": 135,
   "id": "eaf6061a-173d-4d33-940c-7a8b8c830511",
   "metadata": {},
   "outputs": [
    {
     "name": "stdout",
     "output_type": "stream",
     "text": [
      "+--------+----+-----+\n",
      "|point_id|hil9|CLASS|\n",
      "+--------+----+-----+\n",
      "|      26| 196|    1|\n",
      "|      29| 197|    1|\n",
      "+--------+----+-----+\n",
      "only showing top 2 rows\n",
      "\n"
     ]
    },
    {
     "name": "stderr",
     "output_type": "stream",
     "text": [
      "\n"
     ]
    }
   ],
   "source": [
    "df_hillshade_10m_row9=func2(df_points9,hillshade_10m)\n",
    "df_hillshade_10m_row9=(df_hillshade_10m_row9.select(\"point_id\",\n",
    "    col(\"basic_r\").alias(\"hil9\"),\n",
    "    \"CLASS\"\n",
    "))\n",
    "df_hillshade_10m_row9.show(2)"
   ]
  },
  {
   "cell_type": "code",
   "execution_count": 106,
   "id": "5fcb43ea",
   "metadata": {},
   "outputs": [],
   "source": [
    "#df_hillshade_10m_row8.groupby('CLASS').count().show()"
   ]
  },
  {
   "cell_type": "code",
   "execution_count": null,
   "id": "98493e9e-b009-456b-bbe4-55e479490ae6",
   "metadata": {},
   "outputs": [],
   "source": []
  },
  {
   "cell_type": "code",
   "execution_count": 136,
   "id": "91f2b03b-cd9b-4a2a-96f1-abb45f9afd78",
   "metadata": {},
   "outputs": [
    {
     "name": "stdout",
     "output_type": "stream",
     "text": [
      "+--------+-----+-----+\n",
      "|point_id|hil10|CLASS|\n",
      "+--------+-----+-----+\n",
      "|      26|  196|    1|\n",
      "|      29|  197|    1|\n",
      "+--------+-----+-----+\n",
      "only showing top 2 rows\n",
      "\n"
     ]
    },
    {
     "name": "stderr",
     "output_type": "stream",
     "text": [
      "\n"
     ]
    }
   ],
   "source": [
    "df_hillshade_10m_row10=func2(df_points10,hillshade_10m)\n",
    "df_hillshade_10m_row10=(df_hillshade_10m_row10.select(\"point_id\",\n",
    "    col(\"basic_r\").alias(\"hil10\"),\n",
    "    \"CLASS\"\n",
    "))\n",
    "df_hillshade_10m_row10.show(2)"
   ]
  },
  {
   "cell_type": "code",
   "execution_count": null,
   "id": "4703f004-af8a-4ec9-b779-edea3ead947c",
   "metadata": {},
   "outputs": [],
   "source": []
  },
  {
   "cell_type": "code",
   "execution_count": 108,
   "id": "d00ccae9-4083-4461-b271-2c4bca624ca7",
   "metadata": {},
   "outputs": [
    {
     "name": "stderr",
     "output_type": "stream",
     "text": [
      "                                                                                \n",
      "\n"
     ]
    },
    {
     "name": "stdout",
     "output_type": "stream",
     "text": [
      "+--------+----+----+-----+-----+\n",
      "|point_id|hil8|hil9|hil10|CLASS|\n",
      "+--------+----+----+-----+-----+\n",
      "|       0| 196| 196|  196|    1|\n",
      "|       1| 196| 197|  196|    1|\n",
      "+--------+----+----+-----+-----+\n",
      "only showing top 2 rows\n",
      "\n"
     ]
    }
   ],
   "source": [
    " # Join hillshade pyspark datasets for zoom 8,9 and 10\n",
    "df_hillshade_10m_marge_8_9_10 = (\n",
    "    df_hillshade_10m_row8.drop(\"CLASS\")\n",
    "    .join(df_hillshade_10m_row9.drop(\"CLASS\"), on=\"point_id\")\n",
    "     .join(df_hillshade_10m_row10, on=\"point_id\")\n",
    ")\n",
    "df_hillshade_10m_marge_8_9_10.show(2)"
   ]
  },
  {
   "cell_type": "code",
   "execution_count": 109,
   "id": "7b530a64-eff0-48f4-b42b-ca803a5fd509",
   "metadata": {},
   "outputs": [],
   "source": [
    "#df_hillshade_10m_marge_8_9_10.groupby(\"hil8\").count().show()"
   ]
  },
  {
   "cell_type": "markdown",
   "id": "1ff45bb2-42d8-4756-833c-4abef36f5018",
   "metadata": {},
   "source": [
    "## Aspect"
   ]
  },
  {
   "cell_type": "code",
   "execution_count": 110,
   "id": "3d503c86",
   "metadata": {},
   "outputs": [
    {
     "name": "stdout",
     "output_type": "stream",
     "text": [
      "+--------+----+-----+\n",
      "|point_id|asp8|CLASS|\n",
      "+--------+----+-----+\n",
      "|      26|  79|    1|\n",
      "|      29| 129|    1|\n",
      "+--------+----+-----+\n",
      "only showing top 2 rows\n",
      "\n"
     ]
    }
   ],
   "source": [
    "df_aspect_10m_row8=func2(df_points8,aspect_10m)\n",
    "df_aspect_10m_row8=(df_aspect_10m_row8.select(\"point_id\",\n",
    "    col(\"basic_r\").alias(\"asp8\"),\n",
    "    \"CLASS\"\n",
    "))\n",
    "df_aspect_10m_row8.show(2)"
   ]
  },
  {
   "cell_type": "code",
   "execution_count": null,
   "id": "215a8259-2c20-42be-b46b-3b6ceff727ee",
   "metadata": {},
   "outputs": [],
   "source": []
  },
  {
   "cell_type": "code",
   "execution_count": 138,
   "id": "df34c212-3a31-4a2a-8bc4-31aab62c7d6f",
   "metadata": {},
   "outputs": [
    {
     "name": "stdout",
     "output_type": "stream",
     "text": [
      "+--------+----+-----+\n",
      "|point_id|asp9|CLASS|\n",
      "+--------+----+-----+\n",
      "|      26|  99|    1|\n",
      "|      29|  97|    1|\n",
      "|     474| 117|    1|\n",
      "|      65| 143|    1|\n",
      "|     191|  80|    1|\n",
      "|     418| 128|    1|\n",
      "|     541|  52|    1|\n",
      "|     558| 156|    1|\n",
      "|     222| 100|    1|\n",
      "|     270| 106|    1|\n",
      "|     293| 152|    1|\n",
      "|     243|  79|    1|\n",
      "|     278| 151|    1|\n",
      "|     367|  31|    1|\n",
      "|     442| 134|    1|\n",
      "|     705| 176|    1|\n",
      "|     720| 161|    1|\n",
      "|      19|  35|    1|\n",
      "|      54| 129|    1|\n",
      "|     296| 127|    1|\n",
      "+--------+----+-----+\n",
      "only showing top 20 rows\n",
      "\n"
     ]
    },
    {
     "name": "stderr",
     "output_type": "stream",
     "text": [
      "\n"
     ]
    }
   ],
   "source": [
    "\n",
    "df_aspect_10m_row9=func2(df_points9,aspect_10m)\n",
    "df_aspect_10m_row9=(df_aspect_10m_row9.select(\"point_id\",\n",
    "    col(\"basic_r\").alias(\"asp9\"),\n",
    "    \"CLASS\"\n",
    "))\n",
    "df_aspect_10m_row9.show()"
   ]
  },
  {
   "cell_type": "code",
   "execution_count": null,
   "id": "84591e5b-a9c3-4b1b-a7a6-b9ceec51ec89",
   "metadata": {},
   "outputs": [],
   "source": []
  },
  {
   "cell_type": "code",
   "execution_count": 139,
   "id": "a5b603a4-20b5-4a12-9d00-e3d784251668",
   "metadata": {},
   "outputs": [
    {
     "name": "stdout",
     "output_type": "stream",
     "text": [
      "+--------+-----+-----+\n",
      "|point_id|asp10|CLASS|\n",
      "+--------+-----+-----+\n",
      "|      26|   62|    1|\n",
      "|      29|   67|    1|\n",
      "+--------+-----+-----+\n",
      "only showing top 2 rows\n",
      "\n"
     ]
    },
    {
     "name": "stderr",
     "output_type": "stream",
     "text": [
      "\n"
     ]
    }
   ],
   "source": [
    "df_aspect_10m_row10=func2(df_points10,aspect_10m)\n",
    "df_aspect_10m_row10=(df_aspect_10m_row10.select(\"point_id\",\n",
    "    col(\"basic_r\").alias(\"asp10\"),\n",
    "    \"CLASS\"\n",
    "))\n",
    "df_aspect_10m_row10.show(2)"
   ]
  },
  {
   "cell_type": "code",
   "execution_count": null,
   "id": "2ddef7a1-e4eb-40c6-926d-a052441d701a",
   "metadata": {},
   "outputs": [],
   "source": []
  },
  {
   "cell_type": "code",
   "execution_count": 140,
   "id": "556dfbd5-337d-4c61-9348-5f56cc2ce4de",
   "metadata": {},
   "outputs": [
    {
     "name": "stderr",
     "output_type": "stream",
     "text": [
      "                                                                                \n",
      "\n"
     ]
    },
    {
     "name": "stdout",
     "output_type": "stream",
     "text": [
      "+--------+----+----+-----+-----+\n",
      "|point_id|asp8|asp9|asp10|CLASS|\n",
      "+--------+----+----+-----+-----+\n",
      "|       0| 112| 133|  129|    1|\n",
      "|       1| 122| 152|  121|    1|\n",
      "+--------+----+----+-----+-----+\n",
      "only showing top 2 rows\n",
      "\n"
     ]
    }
   ],
   "source": [
    "df_aspect_10m_marge_8_9_10 = (\n",
    "    df_aspect_10m_row8.drop(\"CLASS\")\n",
    "    .join(df_aspect_10m_row9.drop(\"CLASS\"), on=\"point_id\")\n",
    "     .join(df_aspect_10m_row10, on=\"point_id\")\n",
    ")\n",
    "df_aspect_10m_marge_8_9_10.show(2)"
   ]
  },
  {
   "cell_type": "code",
   "execution_count": null,
   "id": "9438d16a-35d9-45c2-bb31-9c6a02556017",
   "metadata": {},
   "outputs": [],
   "source": []
  },
  {
   "cell_type": "markdown",
   "id": "09dc6b1e-82c9-43cf-a936-06c424e5b493",
   "metadata": {},
   "source": [
    "## Slope"
   ]
  },
  {
   "cell_type": "code",
   "execution_count": 114,
   "id": "d129746a",
   "metadata": {},
   "outputs": [
    {
     "name": "stdout",
     "output_type": "stream",
     "text": [
      "+--------+----+-----+\n",
      "|point_id|slp8|CLASS|\n",
      "+--------+----+-----+\n",
      "|      26| 254|    1|\n",
      "|      29| 254|    1|\n",
      "+--------+----+-----+\n",
      "only showing top 2 rows\n",
      "\n"
     ]
    }
   ],
   "source": [
    "df_slope_10m_row8=func2(df_points8,slope_10m)\n",
    "df_slope_10m_row8=(df_slope_10m_row8.select(\"point_id\",\n",
    "    col(\"basic_r\").alias(\"slp8\"),\n",
    "    \"CLASS\"\n",
    "))\n",
    "df_slope_10m_row8.show(2)"
   ]
  },
  {
   "cell_type": "code",
   "execution_count": null,
   "id": "d0ab91a7",
   "metadata": {},
   "outputs": [],
   "source": []
  },
  {
   "cell_type": "code",
   "execution_count": 141,
   "id": "8ec63a13",
   "metadata": {},
   "outputs": [
    {
     "name": "stdout",
     "output_type": "stream",
     "text": [
      "+--------+----+-----+\n",
      "|point_id|slp9|CLASS|\n",
      "+--------+----+-----+\n",
      "|      26| 255|    1|\n",
      "|      29| 254|    1|\n",
      "+--------+----+-----+\n",
      "only showing top 2 rows\n",
      "\n"
     ]
    },
    {
     "name": "stderr",
     "output_type": "stream",
     "text": [
      "\n"
     ]
    }
   ],
   "source": [
    "df_slope_10m_row9=func2(df_points9,slope_10m)\n",
    "df_slope_10m_row9=(df_slope_10m_row9.select(\"point_id\",\n",
    "    col(\"basic_r\").alias(\"slp9\"),\n",
    "    \"CLASS\"\n",
    "))\n",
    "df_slope_10m_row9.show(2)"
   ]
  },
  {
   "cell_type": "code",
   "execution_count": null,
   "id": "87cc1353",
   "metadata": {},
   "outputs": [],
   "source": []
  },
  {
   "cell_type": "code",
   "execution_count": 143,
   "id": "a3084756",
   "metadata": {},
   "outputs": [
    {
     "name": "stdout",
     "output_type": "stream",
     "text": [
      "+--------+-----+-----+\n",
      "|point_id|slp10|CLASS|\n",
      "+--------+-----+-----+\n",
      "|      26|  255|    1|\n",
      "|      29|  255|    1|\n",
      "+--------+-----+-----+\n",
      "only showing top 2 rows\n",
      "\n"
     ]
    },
    {
     "name": "stderr",
     "output_type": "stream",
     "text": [
      "\n"
     ]
    }
   ],
   "source": [
    "df_slope_10m_row10=func2(df_points10,slope_10m)\n",
    "df_slope_10m_row10=(df_slope_10m_row10.select(\"point_id\",\n",
    "    col(\"basic_r\").alias(\"slp10\"),\n",
    "    \"CLASS\"\n",
    "))\n",
    "df_slope_10m_row10.show(2)"
   ]
  },
  {
   "cell_type": "code",
   "execution_count": 147,
   "id": "6a3de83a-b920-41b1-8792-777730487143",
   "metadata": {},
   "outputs": [
    {
     "name": "stdout",
     "output_type": "stream",
     "text": [
      "+-----+-----+\n",
      "|slp10|count|\n",
      "+-----+-----+\n",
      "|  243|   31|\n",
      "|  241|   14|\n",
      "|  237|    6|\n",
      "|  196|    2|\n",
      "|  232|    2|\n",
      "|  255| 3013|\n",
      "|  239|    8|\n",
      "|  234|    5|\n",
      "|  253|  564|\n",
      "|  236|    6|\n",
      "|  246|   39|\n",
      "|  242|   14|\n",
      "|  248|   95|\n",
      "|  235|    2|\n",
      "|  250|  165|\n",
      "|  214|    1|\n",
      "|  252|  391|\n",
      "|  224|    1|\n",
      "|  254|  972|\n",
      "|  247|   67|\n",
      "+-----+-----+\n",
      "only showing top 20 rows\n",
      "\n"
     ]
    },
    {
     "name": "stderr",
     "output_type": "stream",
     "text": [
      "\n"
     ]
    }
   ],
   "source": [
    "df_slope_10m_row10.groupby(\"slp10\").count().show()"
   ]
  },
  {
   "cell_type": "code",
   "execution_count": 117,
   "id": "ba8f9c7d-4559-476f-8bf1-5b47ff248a6d",
   "metadata": {},
   "outputs": [
    {
     "name": "stderr",
     "output_type": "stream",
     "text": [
      "                                                                                \r"
     ]
    },
    {
     "name": "stdout",
     "output_type": "stream",
     "text": [
      "+--------+----+----+-----+-----+\n",
      "|point_id|slp8|slp9|slp10|CLASS|\n",
      "+--------+----+----+-----+-----+\n",
      "|       0| 254| 255|  255|    1|\n",
      "|       1| 255| 254|  255|    1|\n",
      "+--------+----+----+-----+-----+\n",
      "only showing top 2 rows\n",
      "\n"
     ]
    },
    {
     "name": "stderr",
     "output_type": "stream",
     "text": [
      "\n",
      "\n"
     ]
    }
   ],
   "source": [
    " # Join slope pyspark datasets for zoom 8,9 and 10\n",
    "df_slope_10m_marge_8_9_10 = (\n",
    "    df_slope_10m_row8.drop(\"CLASS\")\n",
    "    .join(df_slope_10m_row9.drop(\"CLASS\"), on=\"point_id\")\n",
    "     .join(df_slope_10m_row10, on=\"point_id\")\n",
    ")\n",
    "df_slope_10m_marge_8_9_10.show(2)"
   ]
  },
  {
   "cell_type": "code",
   "execution_count": null,
   "id": "d2d75f21-c13d-47d0-a48e-6c1f1ee522de",
   "metadata": {},
   "outputs": [],
   "source": []
  },
  {
   "cell_type": "code",
   "execution_count": 118,
   "id": "92c61291-05f2-4219-b6ae-b170695da60d",
   "metadata": {},
   "outputs": [],
   "source": [
    "#df_slope_10m_marge_8_9_10.groupby(\"slp8\").count().show()"
   ]
  },
  {
   "cell_type": "markdown",
   "id": "d547a1e0-26ca-4296-a7ec-80617ad4de45",
   "metadata": {
    "tags": []
   },
   "source": [
    "# Merge slope, corine, hillside, aspec"
   ]
  },
  {
   "cell_type": "code",
   "execution_count": 145,
   "id": "77b97bba-0a71-4656-8b54-f64ec1394017",
   "metadata": {},
   "outputs": [
    {
     "name": "stderr",
     "output_type": "stream",
     "text": [
      "\n",
      "\n",
      "\n",
      "\n",
      "\n",
      "\n"
     ]
    },
    {
     "name": "stdout",
     "output_type": "stream",
     "text": [
      "+--------+----+----+-----+----+----+-----+----+----+-----+\n",
      "|point_id|hil8|hil9|hil10|asp8|asp9|asp10|slp8|slp9|slp10|\n",
      "+--------+----+----+-----+----+----+-----+----+----+-----+\n",
      "|       0| 196| 196|  196| 112| 133|  129| 254| 255|  255|\n",
      "|       1| 196| 197|  196| 122| 152|  121| 255| 254|  255|\n",
      "|       2| 196| 198|  198|  94| 160|  165| 255| 252|  253|\n",
      "|       3| 195| 198|  198|  69| 155|   94| 255| 254|  254|\n",
      "|       4| 198| 196|  197| 179| 117|  115| 254| 254|  255|\n",
      "|       5| 196| 195|  195|  83|  86|  108| 255| 251|  252|\n",
      "|       6| 197| 198|  197| 148|  37|  133| 253| 249|  254|\n",
      "|       7| 196| 197|  197|  62|  85|  148| 255| 254|  253|\n",
      "|       8| 197| 196|  197| 128|  76|  164| 255| 255|  255|\n",
      "|       9| 200| 194|  196| 188|  75|   84| 253| 254|  254|\n",
      "|      10| 196| 196|  196| 106|  67|   56| 255| 255|  255|\n",
      "|      11| 196| 196|  197| 120|  83|  106| 254| 255|  255|\n",
      "|      12| 197| 197|  197| 136|  56|  125| 254| 254|  255|\n",
      "|      13| 198| 196|  197| 155|  78|  129| 252| 250|  255|\n",
      "|      14| 198| 196|  197| 154| 111|  137| 253| 250|  255|\n",
      "|      15| 197| 195|  196| 147|  70|  128| 255| 254|  255|\n",
      "|      16| 197| 198|  196| 123| 140|  105| 254| 254|  255|\n",
      "|      17| 196| 192|  196|  95| 104|   75| 255| 250|  255|\n",
      "|      18| 196| 197|  197|  85| 142|  138| 255| 255|  255|\n",
      "|      19| 197| 197|  196| 135|  35|   36| 253| 255|  255|\n",
      "+--------+----+----+-----+----+----+-----+----+----+-----+\n",
      "only showing top 20 rows\n",
      "\n"
     ]
    }
   ],
   "source": [
    " # Join slope pyspark datasets for zoom 8,9 and 10\n",
    "df_marge_hil_asp_slo_marge_8_9_10 = (\n",
    "    \n",
    "    df_hillshade_10m_marge_8_9_10.drop(\"CLASS\")\n",
    "    .join(df_aspect_10m_marge_8_9_10.drop(\"CLASS\"), on=\"point_id\") \n",
    "    .join(df_slope_10m_marge_8_9_10.drop(\"CLASS\"), on=\"point_id\")\n",
    ")\n",
    "df_marge_hil_asp_slo_marge_8_9_10.show()"
   ]
  },
  {
   "cell_type": "code",
   "execution_count": 120,
   "id": "0b569d38-8122-4abc-b489-e53c783a0afe",
   "metadata": {},
   "outputs": [
    {
     "name": "stderr",
     "output_type": "stream",
     "text": [
      "                                                                                \n",
      "\n",
      "\n",
      "\n",
      "\n",
      "\n"
     ]
    }
   ],
   "source": [
    "df_marge_hil_asp_slo_marge_8_9_10p=df_marge_hil_asp_slo_marge_8_9_10.toPandas()\n",
    "df_marge_hil_asp_slo_marge_8_9_10p=df_marge_hil_asp_slo_marge_8_9_10p.set_index('point_id')"
   ]
  },
  {
   "cell_type": "code",
   "execution_count": 121,
   "id": "8c699362-12cb-401c-9f25-b2a5a2cd4762",
   "metadata": {},
   "outputs": [
    {
     "data": {
      "text/html": [
       "<div>\n",
       "<style scoped>\n",
       "    .dataframe tbody tr th:only-of-type {\n",
       "        vertical-align: middle;\n",
       "    }\n",
       "\n",
       "    .dataframe tbody tr th {\n",
       "        vertical-align: top;\n",
       "    }\n",
       "\n",
       "    .dataframe thead th {\n",
       "        text-align: right;\n",
       "    }\n",
       "</style>\n",
       "<table border=\"1\" class=\"dataframe\">\n",
       "  <thead>\n",
       "    <tr style=\"text-align: right;\">\n",
       "      <th></th>\n",
       "      <th>hil8</th>\n",
       "      <th>hil9</th>\n",
       "      <th>hil10</th>\n",
       "      <th>asp8</th>\n",
       "      <th>asp9</th>\n",
       "      <th>asp10</th>\n",
       "      <th>slp8</th>\n",
       "      <th>slp9</th>\n",
       "      <th>slp10</th>\n",
       "    </tr>\n",
       "    <tr>\n",
       "      <th>point_id</th>\n",
       "      <th></th>\n",
       "      <th></th>\n",
       "      <th></th>\n",
       "      <th></th>\n",
       "      <th></th>\n",
       "      <th></th>\n",
       "      <th></th>\n",
       "      <th></th>\n",
       "      <th></th>\n",
       "    </tr>\n",
       "  </thead>\n",
       "  <tbody>\n",
       "    <tr>\n",
       "      <th>0</th>\n",
       "      <td>196</td>\n",
       "      <td>196</td>\n",
       "      <td>196</td>\n",
       "      <td>112</td>\n",
       "      <td>133</td>\n",
       "      <td>129</td>\n",
       "      <td>254</td>\n",
       "      <td>255</td>\n",
       "      <td>255</td>\n",
       "    </tr>\n",
       "    <tr>\n",
       "      <th>1</th>\n",
       "      <td>196</td>\n",
       "      <td>197</td>\n",
       "      <td>196</td>\n",
       "      <td>122</td>\n",
       "      <td>152</td>\n",
       "      <td>121</td>\n",
       "      <td>255</td>\n",
       "      <td>254</td>\n",
       "      <td>255</td>\n",
       "    </tr>\n",
       "    <tr>\n",
       "      <th>2</th>\n",
       "      <td>196</td>\n",
       "      <td>198</td>\n",
       "      <td>198</td>\n",
       "      <td>94</td>\n",
       "      <td>160</td>\n",
       "      <td>165</td>\n",
       "      <td>255</td>\n",
       "      <td>252</td>\n",
       "      <td>253</td>\n",
       "    </tr>\n",
       "    <tr>\n",
       "      <th>3</th>\n",
       "      <td>195</td>\n",
       "      <td>198</td>\n",
       "      <td>198</td>\n",
       "      <td>69</td>\n",
       "      <td>155</td>\n",
       "      <td>94</td>\n",
       "      <td>255</td>\n",
       "      <td>254</td>\n",
       "      <td>254</td>\n",
       "    </tr>\n",
       "    <tr>\n",
       "      <th>4</th>\n",
       "      <td>198</td>\n",
       "      <td>196</td>\n",
       "      <td>197</td>\n",
       "      <td>179</td>\n",
       "      <td>117</td>\n",
       "      <td>115</td>\n",
       "      <td>254</td>\n",
       "      <td>254</td>\n",
       "      <td>255</td>\n",
       "    </tr>\n",
       "    <tr>\n",
       "      <th>...</th>\n",
       "      <td>...</td>\n",
       "      <td>...</td>\n",
       "      <td>...</td>\n",
       "      <td>...</td>\n",
       "      <td>...</td>\n",
       "      <td>...</td>\n",
       "      <td>...</td>\n",
       "      <td>...</td>\n",
       "      <td>...</td>\n",
       "    </tr>\n",
       "    <tr>\n",
       "      <th>60129542867</th>\n",
       "      <td>195</td>\n",
       "      <td>197</td>\n",
       "      <td>197</td>\n",
       "      <td>56</td>\n",
       "      <td>152</td>\n",
       "      <td>155</td>\n",
       "      <td>253</td>\n",
       "      <td>255</td>\n",
       "      <td>254</td>\n",
       "    </tr>\n",
       "    <tr>\n",
       "      <th>60129542868</th>\n",
       "      <td>196</td>\n",
       "      <td>199</td>\n",
       "      <td>199</td>\n",
       "      <td>36</td>\n",
       "      <td>173</td>\n",
       "      <td>170</td>\n",
       "      <td>253</td>\n",
       "      <td>253</td>\n",
       "      <td>253</td>\n",
       "    </tr>\n",
       "    <tr>\n",
       "      <th>60129542869</th>\n",
       "      <td>196</td>\n",
       "      <td>199</td>\n",
       "      <td>199</td>\n",
       "      <td>36</td>\n",
       "      <td>173</td>\n",
       "      <td>170</td>\n",
       "      <td>253</td>\n",
       "      <td>253</td>\n",
       "      <td>253</td>\n",
       "    </tr>\n",
       "    <tr>\n",
       "      <th>60129542870</th>\n",
       "      <td>199</td>\n",
       "      <td>195</td>\n",
       "      <td>195</td>\n",
       "      <td>167</td>\n",
       "      <td>117</td>\n",
       "      <td>111</td>\n",
       "      <td>254</td>\n",
       "      <td>255</td>\n",
       "      <td>255</td>\n",
       "    </tr>\n",
       "    <tr>\n",
       "      <th>60129542871</th>\n",
       "      <td>196</td>\n",
       "      <td>196</td>\n",
       "      <td>196</td>\n",
       "      <td>0</td>\n",
       "      <td>0</td>\n",
       "      <td>0</td>\n",
       "      <td>255</td>\n",
       "      <td>255</td>\n",
       "      <td>255</td>\n",
       "    </tr>\n",
       "  </tbody>\n",
       "</table>\n",
       "<p>5822 rows × 9 columns</p>\n",
       "</div>"
      ],
      "text/plain": [
       "             hil8  hil9  hil10  asp8  asp9  asp10  slp8  slp9  slp10\n",
       "point_id                                                            \n",
       "0             196   196    196   112   133    129   254   255    255\n",
       "1             196   197    196   122   152    121   255   254    255\n",
       "2             196   198    198    94   160    165   255   252    253\n",
       "3             195   198    198    69   155     94   255   254    254\n",
       "4             198   196    197   179   117    115   254   254    255\n",
       "...           ...   ...    ...   ...   ...    ...   ...   ...    ...\n",
       "60129542867   195   197    197    56   152    155   253   255    254\n",
       "60129542868   196   199    199    36   173    170   253   253    253\n",
       "60129542869   196   199    199    36   173    170   253   253    253\n",
       "60129542870   199   195    195   167   117    111   254   255    255\n",
       "60129542871   196   196    196     0     0      0   255   255    255\n",
       "\n",
       "[5822 rows x 9 columns]"
      ]
     },
     "execution_count": 121,
     "metadata": {},
     "output_type": "execute_result"
    }
   ],
   "source": [
    "df_marge_hil_asp_slo_marge_8_9_10p"
   ]
  },
  {
   "cell_type": "code",
   "execution_count": null,
   "id": "b79768c5",
   "metadata": {},
   "outputs": [],
   "source": []
  },
  {
   "cell_type": "code",
   "execution_count": 122,
   "id": "2cd05c6a-f36c-4862-a069-d603a4c07461",
   "metadata": {
    "scrolled": true
   },
   "outputs": [],
   "source": [
    "\n",
    "df_marge_cor_hil_asp_slo_marge_8_9_10p=pd.merge(df_marge_hil_asp_slo_marge_8_9_10p,corine8_9_10_dummies, left_index=True, right_index=True)\n",
    "\n",
    "#df_marge_cor_hil_asp_slo_marge_8_9_10p"
   ]
  },
  {
   "cell_type": "code",
   "execution_count": 123,
   "id": "3dc25707",
   "metadata": {},
   "outputs": [],
   "source": [
    "df_data_basicMap_8_9_10=df_data_basicMap_8_9_10.drop(\"CLASS\", axis=1)\n",
    "#df_data_basicMap_8_9_10"
   ]
  },
  {
   "cell_type": "code",
   "execution_count": null,
   "id": "6dabf0c0",
   "metadata": {},
   "outputs": [],
   "source": []
  },
  {
   "cell_type": "code",
   "execution_count": 124,
   "id": "7c38b805",
   "metadata": {
    "scrolled": true
   },
   "outputs": [
    {
     "data": {
      "text/html": [
       "<div>\n",
       "<style scoped>\n",
       "    .dataframe tbody tr th:only-of-type {\n",
       "        vertical-align: middle;\n",
       "    }\n",
       "\n",
       "    .dataframe tbody tr th {\n",
       "        vertical-align: top;\n",
       "    }\n",
       "\n",
       "    .dataframe thead th {\n",
       "        text-align: right;\n",
       "    }\n",
       "</style>\n",
       "<table border=\"1\" class=\"dataframe\">\n",
       "  <thead>\n",
       "    <tr style=\"text-align: right;\">\n",
       "      <th></th>\n",
       "      <th>basic_r8</th>\n",
       "      <th>basic_g8</th>\n",
       "      <th>basic_b8</th>\n",
       "      <th>basic_r9</th>\n",
       "      <th>basic_g9</th>\n",
       "      <th>basic_b9</th>\n",
       "      <th>basic_r10</th>\n",
       "      <th>basic_g10</th>\n",
       "      <th>basic_b10</th>\n",
       "      <th>hil8</th>\n",
       "      <th>...</th>\n",
       "      <th>cor10_41</th>\n",
       "      <th>cor10_42</th>\n",
       "      <th>cor10_43</th>\n",
       "      <th>cor10_44</th>\n",
       "      <th>cor10_45</th>\n",
       "      <th>cor10_46</th>\n",
       "      <th>cor10_47</th>\n",
       "      <th>cor10_48</th>\n",
       "      <th>cor10_49</th>\n",
       "      <th>cor10_255</th>\n",
       "    </tr>\n",
       "    <tr>\n",
       "      <th>point_id</th>\n",
       "      <th></th>\n",
       "      <th></th>\n",
       "      <th></th>\n",
       "      <th></th>\n",
       "      <th></th>\n",
       "      <th></th>\n",
       "      <th></th>\n",
       "      <th></th>\n",
       "      <th></th>\n",
       "      <th></th>\n",
       "      <th></th>\n",
       "      <th></th>\n",
       "      <th></th>\n",
       "      <th></th>\n",
       "      <th></th>\n",
       "      <th></th>\n",
       "      <th></th>\n",
       "      <th></th>\n",
       "      <th></th>\n",
       "      <th></th>\n",
       "      <th></th>\n",
       "    </tr>\n",
       "  </thead>\n",
       "  <tbody>\n",
       "    <tr>\n",
       "      <th>0</th>\n",
       "      <td>100</td>\n",
       "      <td>114</td>\n",
       "      <td>78</td>\n",
       "      <td>107</td>\n",
       "      <td>101</td>\n",
       "      <td>75</td>\n",
       "      <td>106</td>\n",
       "      <td>92</td>\n",
       "      <td>66</td>\n",
       "      <td>196</td>\n",
       "      <td>...</td>\n",
       "      <td>0</td>\n",
       "      <td>0</td>\n",
       "      <td>0</td>\n",
       "      <td>0</td>\n",
       "      <td>0</td>\n",
       "      <td>0</td>\n",
       "      <td>0</td>\n",
       "      <td>0</td>\n",
       "      <td>0</td>\n",
       "      <td>0</td>\n",
       "    </tr>\n",
       "    <tr>\n",
       "      <th>1</th>\n",
       "      <td>115</td>\n",
       "      <td>122</td>\n",
       "      <td>88</td>\n",
       "      <td>81</td>\n",
       "      <td>102</td>\n",
       "      <td>69</td>\n",
       "      <td>70</td>\n",
       "      <td>81</td>\n",
       "      <td>47</td>\n",
       "      <td>196</td>\n",
       "      <td>...</td>\n",
       "      <td>0</td>\n",
       "      <td>0</td>\n",
       "      <td>0</td>\n",
       "      <td>0</td>\n",
       "      <td>0</td>\n",
       "      <td>0</td>\n",
       "      <td>0</td>\n",
       "      <td>0</td>\n",
       "      <td>0</td>\n",
       "      <td>0</td>\n",
       "    </tr>\n",
       "    <tr>\n",
       "      <th>2</th>\n",
       "      <td>99</td>\n",
       "      <td>103</td>\n",
       "      <td>70</td>\n",
       "      <td>85</td>\n",
       "      <td>95</td>\n",
       "      <td>61</td>\n",
       "      <td>80</td>\n",
       "      <td>87</td>\n",
       "      <td>56</td>\n",
       "      <td>196</td>\n",
       "      <td>...</td>\n",
       "      <td>0</td>\n",
       "      <td>0</td>\n",
       "      <td>0</td>\n",
       "      <td>0</td>\n",
       "      <td>0</td>\n",
       "      <td>0</td>\n",
       "      <td>0</td>\n",
       "      <td>0</td>\n",
       "      <td>0</td>\n",
       "      <td>0</td>\n",
       "    </tr>\n",
       "    <tr>\n",
       "      <th>3</th>\n",
       "      <td>81</td>\n",
       "      <td>97</td>\n",
       "      <td>61</td>\n",
       "      <td>104</td>\n",
       "      <td>114</td>\n",
       "      <td>90</td>\n",
       "      <td>60</td>\n",
       "      <td>79</td>\n",
       "      <td>51</td>\n",
       "      <td>195</td>\n",
       "      <td>...</td>\n",
       "      <td>0</td>\n",
       "      <td>0</td>\n",
       "      <td>0</td>\n",
       "      <td>0</td>\n",
       "      <td>0</td>\n",
       "      <td>0</td>\n",
       "      <td>0</td>\n",
       "      <td>0</td>\n",
       "      <td>0</td>\n",
       "      <td>0</td>\n",
       "    </tr>\n",
       "    <tr>\n",
       "      <th>4</th>\n",
       "      <td>131</td>\n",
       "      <td>139</td>\n",
       "      <td>102</td>\n",
       "      <td>157</td>\n",
       "      <td>165</td>\n",
       "      <td>126</td>\n",
       "      <td>56</td>\n",
       "      <td>56</td>\n",
       "      <td>30</td>\n",
       "      <td>198</td>\n",
       "      <td>...</td>\n",
       "      <td>0</td>\n",
       "      <td>0</td>\n",
       "      <td>0</td>\n",
       "      <td>0</td>\n",
       "      <td>0</td>\n",
       "      <td>0</td>\n",
       "      <td>0</td>\n",
       "      <td>0</td>\n",
       "      <td>0</td>\n",
       "      <td>0</td>\n",
       "    </tr>\n",
       "    <tr>\n",
       "      <th>...</th>\n",
       "      <td>...</td>\n",
       "      <td>...</td>\n",
       "      <td>...</td>\n",
       "      <td>...</td>\n",
       "      <td>...</td>\n",
       "      <td>...</td>\n",
       "      <td>...</td>\n",
       "      <td>...</td>\n",
       "      <td>...</td>\n",
       "      <td>...</td>\n",
       "      <td>...</td>\n",
       "      <td>...</td>\n",
       "      <td>...</td>\n",
       "      <td>...</td>\n",
       "      <td>...</td>\n",
       "      <td>...</td>\n",
       "      <td>...</td>\n",
       "      <td>...</td>\n",
       "      <td>...</td>\n",
       "      <td>...</td>\n",
       "      <td>...</td>\n",
       "    </tr>\n",
       "    <tr>\n",
       "      <th>60129542867</th>\n",
       "      <td>108</td>\n",
       "      <td>115</td>\n",
       "      <td>81</td>\n",
       "      <td>121</td>\n",
       "      <td>98</td>\n",
       "      <td>67</td>\n",
       "      <td>143</td>\n",
       "      <td>122</td>\n",
       "      <td>93</td>\n",
       "      <td>195</td>\n",
       "      <td>...</td>\n",
       "      <td>0</td>\n",
       "      <td>0</td>\n",
       "      <td>0</td>\n",
       "      <td>1</td>\n",
       "      <td>0</td>\n",
       "      <td>0</td>\n",
       "      <td>0</td>\n",
       "      <td>0</td>\n",
       "      <td>0</td>\n",
       "      <td>0</td>\n",
       "    </tr>\n",
       "    <tr>\n",
       "      <th>60129542868</th>\n",
       "      <td>95</td>\n",
       "      <td>111</td>\n",
       "      <td>72</td>\n",
       "      <td>109</td>\n",
       "      <td>118</td>\n",
       "      <td>87</td>\n",
       "      <td>87</td>\n",
       "      <td>98</td>\n",
       "      <td>64</td>\n",
       "      <td>196</td>\n",
       "      <td>...</td>\n",
       "      <td>0</td>\n",
       "      <td>0</td>\n",
       "      <td>0</td>\n",
       "      <td>0</td>\n",
       "      <td>0</td>\n",
       "      <td>0</td>\n",
       "      <td>0</td>\n",
       "      <td>0</td>\n",
       "      <td>0</td>\n",
       "      <td>0</td>\n",
       "    </tr>\n",
       "    <tr>\n",
       "      <th>60129542869</th>\n",
       "      <td>95</td>\n",
       "      <td>111</td>\n",
       "      <td>72</td>\n",
       "      <td>109</td>\n",
       "      <td>118</td>\n",
       "      <td>87</td>\n",
       "      <td>87</td>\n",
       "      <td>98</td>\n",
       "      <td>64</td>\n",
       "      <td>196</td>\n",
       "      <td>...</td>\n",
       "      <td>0</td>\n",
       "      <td>0</td>\n",
       "      <td>0</td>\n",
       "      <td>0</td>\n",
       "      <td>0</td>\n",
       "      <td>0</td>\n",
       "      <td>0</td>\n",
       "      <td>0</td>\n",
       "      <td>0</td>\n",
       "      <td>0</td>\n",
       "    </tr>\n",
       "    <tr>\n",
       "      <th>60129542870</th>\n",
       "      <td>156</td>\n",
       "      <td>130</td>\n",
       "      <td>97</td>\n",
       "      <td>173</td>\n",
       "      <td>187</td>\n",
       "      <td>151</td>\n",
       "      <td>178</td>\n",
       "      <td>182</td>\n",
       "      <td>145</td>\n",
       "      <td>199</td>\n",
       "      <td>...</td>\n",
       "      <td>0</td>\n",
       "      <td>0</td>\n",
       "      <td>0</td>\n",
       "      <td>0</td>\n",
       "      <td>0</td>\n",
       "      <td>0</td>\n",
       "      <td>0</td>\n",
       "      <td>0</td>\n",
       "      <td>0</td>\n",
       "      <td>0</td>\n",
       "    </tr>\n",
       "    <tr>\n",
       "      <th>60129542871</th>\n",
       "      <td>7</td>\n",
       "      <td>37</td>\n",
       "      <td>48</td>\n",
       "      <td>8</td>\n",
       "      <td>38</td>\n",
       "      <td>49</td>\n",
       "      <td>9</td>\n",
       "      <td>38</td>\n",
       "      <td>52</td>\n",
       "      <td>196</td>\n",
       "      <td>...</td>\n",
       "      <td>0</td>\n",
       "      <td>0</td>\n",
       "      <td>0</td>\n",
       "      <td>0</td>\n",
       "      <td>0</td>\n",
       "      <td>0</td>\n",
       "      <td>0</td>\n",
       "      <td>0</td>\n",
       "      <td>1</td>\n",
       "      <td>0</td>\n",
       "    </tr>\n",
       "  </tbody>\n",
       "</table>\n",
       "<p>5822 rows × 134 columns</p>\n",
       "</div>"
      ],
      "text/plain": [
       "             basic_r8  basic_g8  basic_b8  basic_r9  basic_g9  basic_b9  \\\n",
       "point_id                                                                  \n",
       "0                 100       114        78       107       101        75   \n",
       "1                 115       122        88        81       102        69   \n",
       "2                  99       103        70        85        95        61   \n",
       "3                  81        97        61       104       114        90   \n",
       "4                 131       139       102       157       165       126   \n",
       "...               ...       ...       ...       ...       ...       ...   \n",
       "60129542867       108       115        81       121        98        67   \n",
       "60129542868        95       111        72       109       118        87   \n",
       "60129542869        95       111        72       109       118        87   \n",
       "60129542870       156       130        97       173       187       151   \n",
       "60129542871         7        37        48         8        38        49   \n",
       "\n",
       "             basic_r10  basic_g10  basic_b10  hil8  ...  cor10_41  cor10_42  \\\n",
       "point_id                                            ...                       \n",
       "0                  106         92         66   196  ...         0         0   \n",
       "1                   70         81         47   196  ...         0         0   \n",
       "2                   80         87         56   196  ...         0         0   \n",
       "3                   60         79         51   195  ...         0         0   \n",
       "4                   56         56         30   198  ...         0         0   \n",
       "...                ...        ...        ...   ...  ...       ...       ...   \n",
       "60129542867        143        122         93   195  ...         0         0   \n",
       "60129542868         87         98         64   196  ...         0         0   \n",
       "60129542869         87         98         64   196  ...         0         0   \n",
       "60129542870        178        182        145   199  ...         0         0   \n",
       "60129542871          9         38         52   196  ...         0         0   \n",
       "\n",
       "             cor10_43  cor10_44  cor10_45  cor10_46  cor10_47  cor10_48  \\\n",
       "point_id                                                                  \n",
       "0                   0         0         0         0         0         0   \n",
       "1                   0         0         0         0         0         0   \n",
       "2                   0         0         0         0         0         0   \n",
       "3                   0         0         0         0         0         0   \n",
       "4                   0         0         0         0         0         0   \n",
       "...               ...       ...       ...       ...       ...       ...   \n",
       "60129542867         0         1         0         0         0         0   \n",
       "60129542868         0         0         0         0         0         0   \n",
       "60129542869         0         0         0         0         0         0   \n",
       "60129542870         0         0         0         0         0         0   \n",
       "60129542871         0         0         0         0         0         0   \n",
       "\n",
       "             cor10_49  cor10_255  \n",
       "point_id                          \n",
       "0                   0          0  \n",
       "1                   0          0  \n",
       "2                   0          0  \n",
       "3                   0          0  \n",
       "4                   0          0  \n",
       "...               ...        ...  \n",
       "60129542867         0          0  \n",
       "60129542868         0          0  \n",
       "60129542869         0          0  \n",
       "60129542870         0          0  \n",
       "60129542871         1          0  \n",
       "\n",
       "[5822 rows x 134 columns]"
      ]
     },
     "execution_count": 124,
     "metadata": {},
     "output_type": "execute_result"
    }
   ],
   "source": [
    "df_marge_basic_cor_hil_asp_slo_marge_8_9_10p=pd.merge(df_data_basicMap_8_9_10,df_marge_cor_hil_asp_slo_marge_8_9_10p, left_index=True, right_index=True)\n",
    "\n",
    "df_marge_basic_cor_hil_asp_slo_marge_8_9_10p"
   ]
  },
  {
   "cell_type": "code",
   "execution_count": null,
   "id": "3b5cce53",
   "metadata": {},
   "outputs": [],
   "source": []
  },
  {
   "cell_type": "code",
   "execution_count": 125,
   "id": "839d67fd-84cf-48b6-83be-9184eec8d559",
   "metadata": {},
   "outputs": [],
   "source": [
    "# create independent featur X and label column y\n",
    "y= df_marge_basic_cor_hil_asp_slo_marge_8_9_10p[\"CLASS\"].values\n",
    "X=df_marge_basic_cor_hil_asp_slo_marge_8_9_10p.drop(\"CLASS\", axis=1).values"
   ]
  },
  {
   "cell_type": "code",
   "execution_count": 126,
   "id": "7bca20df-60f5-400a-aed1-06de2cdc6a4e",
   "metadata": {},
   "outputs": [
    {
     "data": {
      "text/plain": [
       "(3900, 133)"
      ]
     },
     "execution_count": 126,
     "metadata": {},
     "output_type": "execute_result"
    }
   ],
   "source": [
    "#split train and test sets\n",
    "X_train, X_test, y_train, y_test = train_test_split(X,y, test_size=0.33,random_state=0)\n",
    "X_train.shape"
   ]
  },
  {
   "cell_type": "code",
   "execution_count": 127,
   "id": "c89010f1-8e53-49f1-ac22-4a13e048f2af",
   "metadata": {},
   "outputs": [
    {
     "name": "stdout",
     "output_type": "stream",
     "text": [
      "Fitting 5 folds for each of 50 candidates, totalling 250 fits\n",
      "Time: 76.84501600265503\n",
      "Summary of Results\n",
      " \n",
      "Best score: 0.6068761690184474\n",
      " \n",
      "Best parameters: {'max_depth': 9, 'max_features': 1, 'n_estimators': 546}\n",
      " \n",
      "Best parameters: make_scorer(roc_auc_score, needs_threshold=True)\n"
     ]
    }
   ],
   "source": [
    "#using Rendomiz search with cv = 5\n",
    "import time\n",
    "from sklearn.ensemble import RandomForestClassifier\n",
    "from sklearn.model_selection import RandomizedSearchCV\n",
    "from scipy.stats import uniform \n",
    "from scipy.stats import randint\n",
    "\n",
    "rfc = RandomForestClassifier(criterion = 'entropy', class_weight = 'balanced')\n",
    "param_dist = {\"max_depth\" : randint(1,10),\n",
    "              \"n_estimators\" :randint(2,1000),\n",
    "              \"max_features\" :randint(1,20)}\n",
    "n_iter_search = 50\n",
    "start=time.time()\n",
    "\n",
    "random_search = RandomizedSearchCV(rfc, param_distributions=param_dist,\n",
    "                                   n_iter=n_iter_search, cv=5, \n",
    "                                   n_jobs=-1, verbose=2, scoring='roc_auc')\n",
    "search = random_search.fit(X_train, y_train)\n",
    "print(f'Time: {time.time() - start}')\n",
    "\n",
    "print(\"Summary of Results\")\n",
    "print(\" \")\n",
    "print(\"Best score: {}\".format(search.best_score_))\n",
    "print(\" \")\n",
    "print(\"Best parameters: {}\".format(search.best_params_))\n",
    "print(\" \")\n",
    "print(\"Best parameters: {}\".format(search.scorer_))"
   ]
  },
  {
   "cell_type": "code",
   "execution_count": null,
   "id": "63174681-66bc-4eab-bb32-3dc0fa74f572",
   "metadata": {},
   "outputs": [],
   "source": []
  },
  {
   "cell_type": "code",
   "execution_count": 128,
   "id": "c6598e89-3230-492f-8f45-2d2638a76bee",
   "metadata": {},
   "outputs": [
    {
     "data": {
      "text/plain": [
       "0.5822060353798127"
      ]
     },
     "execution_count": 128,
     "metadata": {},
     "output_type": "execute_result"
    }
   ],
   "source": [
    "from sklearn.metrics import accuracy_score\n",
    "y_pred = search.predict(X_test)\n",
    "test_acc = accuracy_score(y_test, y_pred)\n",
    "test_acc"
   ]
  },
  {
   "cell_type": "code",
   "execution_count": 129,
   "id": "cda0f64c",
   "metadata": {},
   "outputs": [
    {
     "name": "stdout",
     "output_type": "stream",
     "text": [
      "The Accuracy for Test Set is 58.220603537981276\n"
     ]
    }
   ],
   "source": [
    "print(\"The Accuracy for Test Set is {}\".format(test_acc*100))"
   ]
  },
  {
   "cell_type": "code",
   "execution_count": 130,
   "id": "76695bda-ad33-492f-94b0-a0930157b79b",
   "metadata": {},
   "outputs": [
    {
     "data": {
      "text/plain": [
       "Text(0.5, 33.0, 'Predicted Values')"
      ]
     },
     "execution_count": 130,
     "metadata": {},
     "output_type": "execute_result"
    },
    {
     "data": {
      "image/png": "[encoded data removed]",
      "text/plain": [
       "<Figure size 864x432 with 2 Axes>"
      ]
     },
     "metadata": {
      "needs_background": "light"
     },
     "output_type": "display_data"
    }
   ],
   "source": [
    "from sklearn.metrics import confusion_matrix\n",
    "cm=confusion_matrix(y_test,y_pred)\n",
    "plt.figure(figsize=(12,6))\n",
    "plt.title(\"Confusion Matrix\")\n",
    "sns.heatmap(cm, annot=True,fmt=\"d\", cmap='Blues')\n",
    "plt.ylabel(\"Actual Values\")\n",
    "plt.xlabel(\"Predicted Values\")"
   ]
  },
  {
   "cell_type": "code",
   "execution_count": null,
   "id": "a9fdcdc0-be33-4b77-b324-a8c3e3186f49",
   "metadata": {},
   "outputs": [],
   "source": []
  },
  {
   "cell_type": "code",
   "execution_count": 131,
   "id": "6e03b8c5",
   "metadata": {},
   "outputs": [],
   "source": [
    "from sklearn.pipeline import Pipeline\n",
    "from sklearn.model_selection import GridSearchCV\n",
    "from sklearn.preprocessing import StandardScaler\n",
    "from sklearn.linear_model import LogisticRegression\n",
    "from sklearn.linear_model import Ridge"
   ]
  },
  {
   "cell_type": "code",
   "execution_count": 132,
   "id": "dc7e2a1a",
   "metadata": {},
   "outputs": [
    {
     "name": "stdout",
     "output_type": "stream",
     "text": [
      "[CV] END .....max_depth=3, max_features=12, n_estimators=396; total time=   1.5s\n",
      "[CV] END .....max_depth=9, max_features=15, n_estimators=802; total time=   5.9s\n",
      "[CV] END .....max_depth=8, max_features=19, n_estimators=663; total time=   4.9s\n",
      "[CV] END ......max_depth=1, max_features=9, n_estimators=232; total time=   0.7s\n",
      "[CV] END ......max_depth=1, max_features=4, n_estimators=318; total time=   0.9s\n",
      "[CV] END ......max_depth=1, max_features=5, n_estimators=624; total time=   1.7s\n",
      "[CV] END ......max_depth=7, max_features=7, n_estimators=286; total time=   1.3s\n",
      "[CV] END ......max_depth=3, max_features=4, n_estimators=444; total time=   1.4s\n",
      "[CV] END .....max_depth=2, max_features=17, n_estimators=563; total time=   2.1s\n",
      "[CV] END .....max_depth=9, max_features=10, n_estimators=512; total time=   3.2s\n",
      "[CV] END ......max_depth=4, max_features=6, n_estimators=661; total time=   2.7s\n",
      "[CV] END .....max_depth=6, max_features=14, n_estimators=425; total time=   2.4s\n",
      "[CV] END .....max_depth=7, max_features=14, n_estimators=650; total time=   4.1s\n",
      "[CV] END .....max_depth=8, max_features=10, n_estimators=547; total time=   3.1s\n",
      "[CV] END .....max_depth=1, max_features=17, n_estimators=909; total time=   3.4s\n",
      "[CV] END .....max_depth=1, max_features=17, n_estimators=322; total time=   1.1s\n",
      "[CV] END .....max_depth=1, max_features=13, n_estimators=180; total time=   0.6s\n",
      "[CV] END .....max_depth=1, max_features=13, n_estimators=180; total time=   0.5s\n",
      "[CV] END .....max_depth=9, max_features=17, n_estimators=722; total time=   5.4s\n",
      "[CV] END .....max_depth=3, max_features=17, n_estimators=110; total time=   0.5s\n",
      "[CV] END ......max_depth=3, max_features=16, n_estimators=54; total time=   0.2s\n",
      "[CV] END ......max_depth=4, max_features=5, n_estimators=977; total time=   3.3s\n",
      "[CV] END .....max_depth=4, max_features=12, n_estimators=748; total time=   3.1s\n",
      "[CV] END ......max_depth=5, max_features=7, n_estimators=917; total time=   3.7s\n",
      "[CV] END ......max_depth=9, max_features=1, n_estimators=546; total time=   2.0s\n",
      "[CV] END .....max_depth=4, max_features=14, n_estimators=992; total time=   4.4s\n",
      "[CV] END ......max_depth=1, max_features=2, n_estimators=656; total time=   1.8s\n",
      "[CV] END ......max_depth=4, max_features=1, n_estimators=861; total time=   2.6s\n",
      "[CV] END .....max_depth=4, max_features=18, n_estimators=469; total time=   2.2s\n",
      "[CV] END .....max_depth=9, max_features=15, n_estimators=802; total time=   5.9s\n",
      "[CV] END ......max_depth=6, max_features=4, n_estimators=321; total time=   1.2s\n",
      "[CV] END ......max_depth=4, max_features=3, n_estimators=540; total time=   1.7s\n",
      "[CV] END ......max_depth=7, max_features=2, n_estimators=919; total time=   3.1s\n",
      "[CV] END ......max_depth=1, max_features=5, n_estimators=624; total time=   1.8s\n",
      "[CV] END ......max_depth=2, max_features=8, n_estimators=728; total time=   2.4s\n",
      "[CV] END .....max_depth=2, max_features=17, n_estimators=563; total time=   2.1s\n",
      "[CV] END .....max_depth=3, max_features=12, n_estimators=866; total time=   3.6s\n",
      "[CV] END ......max_depth=4, max_features=6, n_estimators=661; total time=   2.7s\n",
      "[CV] END ......max_depth=1, max_features=6, n_estimators=896; total time=   2.7s\n",
      "[CV] END .....max_depth=3, max_features=11, n_estimators=845; total time=   3.4s\n",
      "[CV] END .....max_depth=8, max_features=10, n_estimators=547; total time=   3.0s\n",
      "[CV] END .....max_depth=1, max_features=17, n_estimators=909; total time=   3.4s\n",
      "[CV] END .....max_depth=1, max_features=17, n_estimators=322; total time=   1.1s\n",
      "[CV] END .....max_depth=1, max_features=17, n_estimators=322; total time=   1.1s\n",
      "[CV] END ........max_depth=9, max_features=4, n_estimators=7; total time=   0.0s\n",
      "[CV] END ........max_depth=9, max_features=4, n_estimators=7; total time=   0.0s\n",
      "[CV] END ........max_depth=9, max_features=4, n_estimators=7; total time=   0.0s\n",
      "[CV] END ........max_depth=9, max_features=4, n_estimators=7; total time=   0.0s\n",
      "[CV] END ........max_depth=9, max_features=4, n_estimators=7; total time=   0.0s\n",
      "[CV] END .....max_depth=9, max_features=17, n_estimators=722; total time=   5.4s\n",
      "[CV] END .....max_depth=3, max_features=17, n_estimators=110; total time=   0.5s\n",
      "[CV] END ......max_depth=3, max_features=16, n_estimators=54; total time=   0.2s\n",
      "[CV] END ......max_depth=3, max_features=16, n_estimators=54; total time=   0.2s\n",
      "[CV] END ......max_depth=4, max_features=5, n_estimators=977; total time=   3.3s\n",
      "[CV] END .....max_depth=4, max_features=12, n_estimators=748; total time=   3.1s\n",
      "[CV] END .....max_depth=6, max_features=15, n_estimators=900; total time=   5.2s\n",
      "[CV] END .....max_depth=4, max_features=14, n_estimators=992; total time=   4.3s\n",
      "[CV] END ......max_depth=1, max_features=2, n_estimators=656; total time=   1.8s\n",
      "[CV] END ......max_depth=4, max_features=1, n_estimators=861; total time=   2.6s\n",
      "[CV] END .....max_depth=4, max_features=19, n_estimators=619; total time=   2.5s\n",
      "[CV] END .....max_depth=3, max_features=12, n_estimators=396; total time=   1.5s\n",
      "[CV] END .....max_depth=9, max_features=15, n_estimators=802; total time=   5.9s\n",
      "[CV] END .....max_depth=8, max_features=19, n_estimators=663; total time=   4.8s\n",
      "[CV] END ......max_depth=1, max_features=9, n_estimators=232; total time=   0.7s\n",
      "[CV] END ......max_depth=1, max_features=4, n_estimators=318; total time=   0.9s\n",
      "[CV] END ......max_depth=1, max_features=4, n_estimators=318; total time=   0.8s\n",
      "[CV] END .....max_depth=2, max_features=13, n_estimators=107; total time=   0.4s\n",
      "[CV] END ......max_depth=7, max_features=7, n_estimators=286; total time=   1.3s\n",
      "[CV] END ......max_depth=2, max_features=8, n_estimators=728; total time=   2.3s\n",
      "[CV] END .....max_depth=2, max_features=17, n_estimators=563; total time=   2.1s\n",
      "[CV] END .....max_depth=9, max_features=10, n_estimators=512; total time=   3.2s\n",
      "[CV] END .....max_depth=6, max_features=14, n_estimators=425; total time=   2.6s\n",
      "[CV] END ......max_depth=1, max_features=6, n_estimators=896; total time=   2.7s\n",
      "[CV] END .....max_depth=3, max_features=11, n_estimators=845; total time=   3.4s\n",
      "[CV] END .....max_depth=8, max_features=10, n_estimators=547; total time=   3.0s\n",
      "[CV] END .....max_depth=1, max_features=17, n_estimators=909; total time=   3.3s\n",
      "[CV] END .....max_depth=1, max_features=17, n_estimators=322; total time=   1.1s\n",
      "[CV] END .....max_depth=1, max_features=17, n_estimators=322; total time=   1.0s\n",
      "[CV] END .....max_depth=1, max_features=13, n_estimators=180; total time=   0.5s\n",
      "[CV] END .....max_depth=9, max_features=17, n_estimators=722; total time=   5.4s\n",
      "[CV] END ......max_depth=4, max_features=1, n_estimators=580; total time=   1.7s\n",
      "[CV] END .....max_depth=1, max_features=18, n_estimators=541; total time=   1.7s\n",
      "[CV] END .....max_depth=1, max_features=18, n_estimators=541; total time=   1.7s\n",
      "[CV] END ......max_depth=5, max_features=7, n_estimators=917; total time=   3.5s\n",
      "[CV] END ......max_depth=9, max_features=1, n_estimators=546; total time=   1.9s\n",
      "[CV] END ......max_depth=9, max_features=1, n_estimators=546; total time=   2.0s\n",
      "[CV] END .....max_depth=4, max_features=14, n_estimators=992; total time=   4.3s\n",
      "[CV] END ......max_depth=1, max_features=2, n_estimators=656; total time=   1.8s\n",
      "[CV] END ......max_depth=4, max_features=1, n_estimators=861; total time=   2.6s\n",
      "[CV] END .....max_depth=4, max_features=19, n_estimators=619; total time=   2.4s\n",
      "[CV] END .....max_depth=4, max_features=18, n_estimators=469; total time=   2.3s\n",
      "[CV] END .....max_depth=9, max_features=15, n_estimators=802; total time=   5.9s\n",
      "[CV] END ......max_depth=6, max_features=4, n_estimators=321; total time=   1.2s\n",
      "[CV] END ......max_depth=4, max_features=3, n_estimators=540; total time=   1.7s\n",
      "[CV] END ......max_depth=7, max_features=2, n_estimators=919; total time=   3.0s\n",
      "[CV] END ......max_depth=1, max_features=5, n_estimators=624; total time=   1.8s\n",
      "[CV] END ......max_depth=2, max_features=8, n_estimators=728; total time=   2.3s\n",
      "[CV] END ......max_depth=3, max_features=4, n_estimators=444; total time=   1.4s\n",
      "[CV] END .....max_depth=3, max_features=12, n_estimators=866; total time=   3.5s\n",
      "[CV] END ......max_depth=4, max_features=6, n_estimators=661; total time=   2.7s\n",
      "[CV] END .....max_depth=6, max_features=14, n_estimators=425; total time=   2.5s\n",
      "[CV] END .....max_depth=7, max_features=14, n_estimators=650; total time=   4.0s\n",
      "[CV] END .....max_depth=3, max_features=11, n_estimators=845; total time=   3.3s\n",
      "[CV] END .....max_depth=1, max_features=17, n_estimators=909; total time=   3.3s\n",
      "[CV] END ......max_depth=7, max_features=3, n_estimators=917; total time=   3.3s\n",
      "[CV] END .....max_depth=5, max_features=19, n_estimators=122; total time=   0.7s\n",
      "[CV] END ......max_depth=8, max_features=4, n_estimators=413; total time=   1.6s\n",
      "[CV] END ......max_depth=8, max_features=4, n_estimators=413; total time=   1.6s\n",
      "[CV] END .....max_depth=1, max_features=16, n_estimators=111; total time=   0.4s\n",
      "[CV] END .....max_depth=3, max_features=17, n_estimators=110; total time=   0.5s\n",
      "[CV] END ......max_depth=4, max_features=1, n_estimators=580; total time=   1.7s\n",
      "[CV] END .....max_depth=1, max_features=18, n_estimators=541; total time=   1.7s\n",
      "[CV] END .....max_depth=4, max_features=12, n_estimators=748; total time=   3.1s\n",
      "[CV] END ......max_depth=5, max_features=7, n_estimators=917; total time=   3.6s\n",
      "[CV] END ......max_depth=9, max_features=1, n_estimators=546; total time=   2.0s\n",
      "[CV] END .....max_depth=4, max_features=14, n_estimators=992; total time=   4.3s\n",
      "[CV] END ......max_depth=1, max_features=2, n_estimators=656; total time=   1.8s\n",
      "[CV] END ......max_depth=4, max_features=1, n_estimators=724; total time=   2.1s\n",
      "[CV] END .....max_depth=4, max_features=19, n_estimators=619; total time=   2.8s\n",
      "[CV] END .....max_depth=3, max_features=12, n_estimators=396; total time=   1.5s\n",
      "[CV] END .....max_depth=4, max_features=18, n_estimators=469; total time=   2.3s\n",
      "[CV] END .......max_depth=3, max_features=8, n_estimators=91; total time=   0.3s\n",
      "[CV] END .....max_depth=8, max_features=19, n_estimators=663; total time=   5.2s\n",
      "[CV] END ......max_depth=4, max_features=3, n_estimators=540; total time=   1.7s\n",
      "[CV] END ......max_depth=7, max_features=2, n_estimators=919; total time=   3.1s\n",
      "[CV] END ......max_depth=1, max_features=5, n_estimators=624; total time=   1.8s\n",
      "[CV] END ......max_depth=2, max_features=8, n_estimators=728; total time=   2.4s\n",
      "[CV] END .....max_depth=2, max_features=17, n_estimators=563; total time=   2.1s\n",
      "[CV] END .....max_depth=3, max_features=12, n_estimators=866; total time=   3.6s\n",
      "[CV] END ......max_depth=4, max_features=6, n_estimators=661; total time=   2.6s\n",
      "[CV] END ......max_depth=1, max_features=6, n_estimators=896; total time=   2.7s\n",
      "[CV] END .....max_depth=7, max_features=14, n_estimators=650; total time=   4.0s\n",
      "[CV] END .....max_depth=8, max_features=10, n_estimators=547; total time=   3.1s\n",
      "[CV] END ......max_depth=2, max_features=6, n_estimators=371; total time=   1.4s\n",
      "[CV] END ......max_depth=7, max_features=3, n_estimators=917; total time=   3.5s\n",
      "[CV] END .....max_depth=1, max_features=13, n_estimators=180; total time=   0.5s\n",
      "[CV] END .....max_depth=9, max_features=17, n_estimators=722; total time=   5.3s\n",
      "[CV] END ......max_depth=3, max_features=16, n_estimators=54; total time=   0.2s\n",
      "[CV] END ......max_depth=3, max_features=16, n_estimators=54; total time=   0.2s\n",
      "[CV] END ......max_depth=4, max_features=5, n_estimators=977; total time=   3.3s\n",
      "[CV] END .....max_depth=4, max_features=12, n_estimators=748; total time=   3.1s\n",
      "[CV] END .....max_depth=6, max_features=15, n_estimators=900; total time=   5.2s\n",
      "[CV] END ......max_depth=9, max_features=1, n_estimators=546; total time=   1.9s\n",
      "[CV] END .....max_depth=9, max_features=18, n_estimators=285; total time=   2.2s\n",
      "[CV] END ......max_depth=1, max_features=2, n_estimators=656; total time=   1.7s\n",
      "[CV] END ......max_depth=4, max_features=1, n_estimators=724; total time=   2.1s\n",
      "[CV] END ......max_depth=4, max_features=1, n_estimators=861; total time=   2.5s\n",
      "[CV] END .....max_depth=3, max_features=12, n_estimators=396; total time=   1.5s\n",
      "[CV] END .....max_depth=4, max_features=18, n_estimators=469; total time=   2.3s\n",
      "[CV] END .......max_depth=3, max_features=8, n_estimators=91; total time=   0.3s\n",
      "[CV] END .....max_depth=8, max_features=19, n_estimators=663; total time=   5.2s\n",
      "[CV] END ......max_depth=4, max_features=3, n_estimators=540; total time=   1.7s\n",
      "[CV] END ......max_depth=7, max_features=2, n_estimators=919; total time=   3.1s\n",
      "[CV] END ......max_depth=1, max_features=5, n_estimators=624; total time=   1.7s\n",
      "[CV] END ......max_depth=7, max_features=7, n_estimators=286; total time=   1.3s\n",
      "[CV] END ......max_depth=3, max_features=4, n_estimators=444; total time=   1.4s\n",
      "[CV] END .....max_depth=2, max_features=17, n_estimators=563; total time=   2.1s\n",
      "[CV] END .....max_depth=9, max_features=10, n_estimators=512; total time=   3.2s\n",
      "[CV] END ......max_depth=4, max_features=6, n_estimators=661; total time=   2.6s\n",
      "[CV] END ......max_depth=1, max_features=6, n_estimators=896; total time=   2.7s\n",
      "[CV] END .....max_depth=7, max_features=14, n_estimators=650; total time=   4.1s\n",
      "[CV] END .....max_depth=8, max_features=10, n_estimators=547; total time=   3.0s\n",
      "[CV] END ......max_depth=2, max_features=6, n_estimators=371; total time=   1.4s\n",
      "[CV] END ......max_depth=7, max_features=3, n_estimators=917; total time=   3.5s\n",
      "[CV] END .....max_depth=1, max_features=13, n_estimators=180; total time=   0.6s\n",
      "[CV] END .....max_depth=9, max_features=17, n_estimators=722; total time=   5.3s\n",
      "[CV] END ......max_depth=4, max_features=1, n_estimators=580; total time=   1.7s\n",
      "[CV] END .....max_depth=1, max_features=18, n_estimators=541; total time=   1.7s\n",
      "[CV] END .....max_depth=1, max_features=18, n_estimators=541; total time=   1.7s\n",
      "[CV] END ......max_depth=5, max_features=7, n_estimators=917; total time=   3.5s\n",
      "[CV] END .....max_depth=6, max_features=15, n_estimators=900; total time=   5.1s\n",
      "[CV] END .....max_depth=9, max_features=18, n_estimators=285; total time=   2.2s\n",
      "[CV] END .....max_depth=9, max_features=18, n_estimators=285; total time=   2.2s\n",
      "[CV] END ......max_depth=4, max_features=1, n_estimators=724; total time=   2.2s\n",
      "[CV] END .....max_depth=4, max_features=19, n_estimators=619; total time=   2.8s\n",
      "[CV] END .....max_depth=4, max_features=18, n_estimators=469; total time=   2.3s\n",
      "[CV] END .......max_depth=6, max_features=7, n_estimators=28; total time=   0.1s\n",
      "[CV] END .......max_depth=6, max_features=7, n_estimators=28; total time=   0.1s\n",
      "[CV] END .......max_depth=6, max_features=7, n_estimators=28; total time=   0.1s\n",
      "[CV] END .......max_depth=6, max_features=7, n_estimators=28; total time=   0.1s\n",
      "[CV] END .......max_depth=6, max_features=7, n_estimators=28; total time=   0.1s\n",
      "[CV] END .......max_depth=3, max_features=8, n_estimators=91; total time=   0.3s\n",
      "[CV] END .......max_depth=3, max_features=8, n_estimators=91; total time=   0.3s\n",
      "[CV] END .......max_depth=3, max_features=8, n_estimators=91; total time=   0.3s\n",
      "[CV] END .....max_depth=8, max_features=19, n_estimators=663; total time=   5.2s\n",
      "[CV] END ......max_depth=6, max_features=4, n_estimators=321; total time=   1.2s\n",
      "[CV] END ......max_depth=7, max_features=2, n_estimators=919; total time=   3.1s\n",
      "[CV] END ......max_depth=1, max_features=4, n_estimators=318; total time=   0.9s\n",
      "[CV] END .....max_depth=2, max_features=13, n_estimators=107; total time=   0.4s\n",
      "[CV] END .....max_depth=2, max_features=13, n_estimators=107; total time=   0.4s\n",
      "[CV] END ......max_depth=7, max_features=7, n_estimators=286; total time=   1.3s\n",
      "[CV] END ......max_depth=3, max_features=4, n_estimators=444; total time=   1.4s\n",
      "[CV] END ......max_depth=3, max_features=4, n_estimators=444; total time=   1.4s\n",
      "[CV] END .....max_depth=3, max_features=12, n_estimators=866; total time=   3.4s\n",
      "[CV] END .....max_depth=9, max_features=10, n_estimators=512; total time=   3.4s\n",
      "[CV] END .....max_depth=6, max_features=14, n_estimators=425; total time=   2.5s\n",
      "[CV] END .....max_depth=7, max_features=14, n_estimators=650; total time=   4.1s\n",
      "[CV] END .....max_depth=3, max_features=11, n_estimators=845; total time=   3.2s\n",
      "[CV] END ......max_depth=2, max_features=6, n_estimators=371; total time=   1.4s\n",
      "[CV] END ......max_depth=2, max_features=6, n_estimators=371; total time=   1.3s\n",
      "[CV] END ......max_depth=7, max_features=3, n_estimators=917; total time=   3.4s\n",
      "[CV] END .....max_depth=5, max_features=19, n_estimators=122; total time=   0.7s\n",
      "[CV] END .....max_depth=5, max_features=19, n_estimators=122; total time=   0.7s\n",
      "[CV] END ......max_depth=8, max_features=4, n_estimators=413; total time=   1.6s\n",
      "[CV] END .....max_depth=1, max_features=16, n_estimators=111; total time=   0.4s\n",
      "[CV] END .....max_depth=1, max_features=16, n_estimators=111; total time=   0.4s\n",
      "[CV] END .....max_depth=1, max_features=16, n_estimators=111; total time=   0.4s\n",
      "[CV] END .....max_depth=1, max_features=16, n_estimators=111; total time=   0.4s\n",
      "[CV] END .....max_depth=3, max_features=17, n_estimators=110; total time=   0.5s\n",
      "[CV] END ......max_depth=4, max_features=1, n_estimators=580; total time=   1.7s\n",
      "[CV] END ......max_depth=4, max_features=5, n_estimators=977; total time=   3.4s\n",
      "[CV] END .....max_depth=4, max_features=12, n_estimators=748; total time=   3.1s\n",
      "[CV] END .....max_depth=6, max_features=15, n_estimators=900; total time=   5.2s\n",
      "[CV] END .....max_depth=4, max_features=14, n_estimators=992; total time=   4.4s\n",
      "[CV] END ......max_depth=4, max_features=1, n_estimators=724; total time=   2.2s\n",
      "[CV] END ......max_depth=4, max_features=1, n_estimators=861; total time=   2.6s\n",
      "[CV] END .....max_depth=3, max_features=12, n_estimators=396; total time=   1.5s\n",
      "[CV] END .....max_depth=9, max_features=15, n_estimators=802; total time=   6.0s\n",
      "[CV] END ......max_depth=6, max_features=4, n_estimators=321; total time=   1.1s\n",
      "[CV] END ......max_depth=6, max_features=4, n_estimators=321; total time=   1.2s\n",
      "[CV] END ......max_depth=4, max_features=3, n_estimators=540; total time=   1.7s\n",
      "[CV] END ......max_depth=1, max_features=9, n_estimators=232; total time=   0.7s\n",
      "[CV] END ......max_depth=1, max_features=9, n_estimators=232; total time=   0.7s\n",
      "[CV] END ......max_depth=1, max_features=9, n_estimators=232; total time=   0.7s\n",
      "[CV] END ......max_depth=1, max_features=4, n_estimators=318; total time=   0.8s\n",
      "[CV] END .....max_depth=2, max_features=13, n_estimators=107; total time=   0.4s\n",
      "[CV] END .....max_depth=2, max_features=13, n_estimators=107; total time=   0.4s\n",
      "[CV] END ......max_depth=7, max_features=7, n_estimators=286; total time=   1.3s\n",
      "[CV] END ......max_depth=2, max_features=8, n_estimators=728; total time=   2.3s\n",
      "[CV] END .....max_depth=3, max_features=12, n_estimators=866; total time=   3.4s\n",
      "[CV] END .....max_depth=9, max_features=10, n_estimators=512; total time=   3.4s\n",
      "[CV] END .....max_depth=6, max_features=14, n_estimators=425; total time=   2.5s\n",
      "[CV] END ......max_depth=1, max_features=6, n_estimators=896; total time=   2.6s\n",
      "[CV] END .....max_depth=3, max_features=11, n_estimators=845; total time=   3.3s\n",
      "[CV] END .....max_depth=1, max_features=17, n_estimators=909; total time=   3.2s\n",
      "[CV] END ......max_depth=2, max_features=6, n_estimators=371; total time=   1.3s\n",
      "[CV] END ......max_depth=7, max_features=3, n_estimators=917; total time=   3.3s\n",
      "[CV] END .....max_depth=5, max_features=19, n_estimators=122; total time=   0.7s\n",
      "[CV] END .....max_depth=5, max_features=19, n_estimators=122; total time=   0.7s\n",
      "[CV] END ......max_depth=8, max_features=4, n_estimators=413; total time=   1.6s\n",
      "[CV] END ......max_depth=8, max_features=4, n_estimators=413; total time=   1.6s\n",
      "[CV] END .....max_depth=3, max_features=17, n_estimators=110; total time=   0.5s\n",
      "[CV] END ......max_depth=4, max_features=1, n_estimators=580; total time=   1.7s\n",
      "[CV] END ......max_depth=4, max_features=5, n_estimators=977; total time=   3.4s\n",
      "[CV] END ......max_depth=5, max_features=7, n_estimators=917; total time=   3.5s\n",
      "[CV] END .....max_depth=6, max_features=15, n_estimators=900; total time=   5.1s\n",
      "[CV] END .....max_depth=9, max_features=18, n_estimators=285; total time=   2.2s\n",
      "[CV] END .....max_depth=9, max_features=18, n_estimators=285; total time=   2.2s\n",
      "[CV] END ......max_depth=4, max_features=1, n_estimators=724; total time=   2.2s\n",
      "[CV] END .....max_depth=4, max_features=19, n_estimators=619; total time=   2.8s\n"
     ]
    },
    {
     "data": {
      "text/plain": [
       "GridSearchCV(cv=5,\n",
       "             estimator=Pipeline(steps=[('std_slc', StandardScaler()),\n",
       "                                       ('logistic_Reg',\n",
       "                                        LogisticRegression(solver='liblinear'))]),\n",
       "             n_jobs=2,\n",
       "             param_grid={'logistic_Reg__C': array([1.00000000e-04, 1.45634848e-04, 2.12095089e-04, 3.08884360e-04,\n",
       "       4.49843267e-04, 6.55128557e-04, 9.54095476e-04, 1.38949549e-03,\n",
       "       2.02358965e-03, 2.94705170e-03, 4.29193426e-03, 6.250551...\n",
       "       3.72759372e+00, 5.42867544e+00, 7.90604321e+00, 1.15139540e+01,\n",
       "       1.67683294e+01, 2.44205309e+01, 3.55648031e+01, 5.17947468e+01,\n",
       "       7.54312006e+01, 1.09854114e+02, 1.59985872e+02, 2.32995181e+02,\n",
       "       3.39322177e+02, 4.94171336e+02, 7.19685673e+02, 1.04811313e+03,\n",
       "       1.52641797e+03, 2.22299648e+03, 3.23745754e+03, 4.71486636e+03,\n",
       "       6.86648845e+03, 1.00000000e+04]),\n",
       "                         'logistic_Reg__penalty': ['l1', 'l2']})"
      ]
     },
     "execution_count": 132,
     "metadata": {},
     "output_type": "execute_result"
    }
   ],
   "source": [
    "std_slc = StandardScaler()\n",
    "logistic_Reg = LogisticRegression(solver='liblinear',)\n",
    "\n",
    "pipe = Pipeline(steps=[('std_slc', std_slc),\n",
    "                           ('logistic_Reg', logistic_Reg)])\n",
    "\n",
    "C = np.logspace(-4, 4, 50)\n",
    "penalty = ['l1', 'l2']\n",
    "\n",
    "parameters = dict(logistic_Reg__C=C,\n",
    "                    logistic_Reg__penalty=penalty)\n",
    "\n",
    "\n",
    "clf_GS = GridSearchCV(pipe, parameters,cv=5, n_jobs=2)\n",
    "clf_GS.fit(X_train, y_train)\n",
    "\n",
    "#print('Best Penalty:', clf_GS.best_estimator_.get_params()['logistic_Reg__penalty'])\n",
    "#print('Best C:', clf_GS.best_estimator_.get_params()['logistic_Reg__C'])\n",
    "#print(); print(clf_GS.best_estimator_.get_params()['logistic_Reg'])"
   ]
  },
  {
   "cell_type": "code",
   "execution_count": null,
   "id": "693a046b",
   "metadata": {},
   "outputs": [],
   "source": []
  },
  {
   "cell_type": "code",
   "execution_count": 133,
   "id": "7e9b6733",
   "metadata": {},
   "outputs": [],
   "source": [
    "y_predL = clf_GS.predict(X_test)"
   ]
  },
  {
   "cell_type": "code",
   "execution_count": 134,
   "id": "775a4f1a",
   "metadata": {},
   "outputs": [
    {
     "name": "stdout",
     "output_type": "stream",
     "text": [
      "Test set score: 0.60\n",
      "Train set score: 0.6233333333333333\n"
     ]
    }
   ],
   "source": [
    "print(\"Test set score: {:.2f}\".format(clf_GS.score(X_test, y_test)))\n",
    "print(\"Train set score: {}\".format(clf_GS.score(X_train, y_train)))"
   ]
  },
  {
   "cell_type": "code",
   "execution_count": null,
   "id": "2d5aac1d",
   "metadata": {},
   "outputs": [],
   "source": []
  },
  {
   "cell_type": "code",
   "execution_count": null,
   "id": "57a6cac1-4b7a-4c17-be8f-49be609ea0c4",
   "metadata": {},
   "outputs": [],
   "source": []
  }
 ],
 "metadata": {
  "kernelspec": {
   "display_name": "Python 3 (ipykernel)",
   "language": "python",
   "name": "python3"
  },
  "language_info": {
   "codemirror_mode": {
    "name": "ipython",
    "version": 3
   },
   "file_extension": ".py",
   "mimetype": "text/x-python",
   "name": "python",
   "nbconvert_exporter": "python",
   "pygments_lexer": "ipython3",
   "version": "3.9.12"
  }
 },
 "nbformat": 4,
 "nbformat_minor": 5
}
