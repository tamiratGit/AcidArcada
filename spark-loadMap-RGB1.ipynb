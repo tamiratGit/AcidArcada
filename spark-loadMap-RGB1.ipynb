{
 "cells": [
  {
   "cell_type": "code",
   "execution_count": 135,
   "id": "539acbd5-06ed-4ca4-b4e8-cc3c8b651b9f",
   "metadata": {},
   "outputs": [],
   "source": [
    "from pyspark.sql import SparkSession, Row\n",
    "from pyspark.sql import functions as F\n",
    "from pyspark.sql import types as T\n",
    "import geopandas as gpd\n",
    "from PIL import Image\n",
    "import pandas as pd\n",
    "import numpy as np"
   ]
  },
  {
   "cell_type": "code",
   "execution_count": 136,
   "id": "b4663192-c57d-41d3-b1e0-47e4d61d018d",
   "metadata": {},
   "outputs": [],
   "source": [
    "spark = SparkSession.builder.appName('AcidSoils').getOrCreate()"
   ]
  },
  {
   "cell_type": "code",
   "execution_count": 137,
   "id": "7168c593-fb10-4d21-b188-48f24dac477f",
   "metadata": {
    "scrolled": true,
    "tags": []
   },
   "outputs": [
    {
     "data": {
      "text/html": [
       "<div>\n",
       "<style scoped>\n",
       "    .dataframe tbody tr th:only-of-type {\n",
       "        vertical-align: middle;\n",
       "    }\n",
       "\n",
       "    .dataframe tbody tr th {\n",
       "        vertical-align: top;\n",
       "    }\n",
       "\n",
       "    .dataframe thead th {\n",
       "        text-align: right;\n",
       "    }\n",
       "</style>\n",
       "<table border=\"1\" class=\"dataframe\">\n",
       "  <thead>\n",
       "    <tr style=\"text-align: right;\">\n",
       "      <th></th>\n",
       "      <th>POINT_X</th>\n",
       "      <th>POINT_Y</th>\n",
       "      <th>CLASS</th>\n",
       "      <th>geometry</th>\n",
       "    </tr>\n",
       "  </thead>\n",
       "  <tbody>\n",
       "    <tr>\n",
       "      <th>0</th>\n",
       "      <td>441468.7125</td>\n",
       "      <td>7184281.005</td>\n",
       "      <td>ASS</td>\n",
       "      <td>None</td>\n",
       "    </tr>\n",
       "    <tr>\n",
       "      <th>1</th>\n",
       "      <td>441852.3101</td>\n",
       "      <td>7186002.327</td>\n",
       "      <td>ASS</td>\n",
       "      <td>None</td>\n",
       "    </tr>\n",
       "    <tr>\n",
       "      <th>2</th>\n",
       "      <td>442236.5012</td>\n",
       "      <td>7185249.359</td>\n",
       "      <td>ASS</td>\n",
       "      <td>None</td>\n",
       "    </tr>\n",
       "    <tr>\n",
       "      <th>3</th>\n",
       "      <td>420520.3581</td>\n",
       "      <td>7208257.978</td>\n",
       "      <td>ASS</td>\n",
       "      <td>None</td>\n",
       "    </tr>\n",
       "  </tbody>\n",
       "</table>\n",
       "</div>"
      ],
      "text/plain": [
       "       POINT_X      POINT_Y CLASS geometry\n",
       "0  441468.7125  7184281.005   ASS     None\n",
       "1  441852.3101  7186002.327   ASS     None\n",
       "2  442236.5012  7185249.359   ASS     None\n",
       "3  420520.3581  7208257.978   ASS     None"
      ]
     },
     "execution_count": 137,
     "metadata": {},
     "output_type": "execute_result"
    }
   ],
   "source": [
    "source = gpd.read_file(\"data/GTK_ASsoil_obs.csv\")\n",
    "source.head(4)"
   ]
  },
  {
   "cell_type": "code",
   "execution_count": 138,
   "id": "ed615b35-b31e-4fe8-b665-eb282961dff2",
   "metadata": {},
   "outputs": [
    {
     "data": {
      "text/html": [
       "<div>\n",
       "<style scoped>\n",
       "    .dataframe tbody tr th:only-of-type {\n",
       "        vertical-align: middle;\n",
       "    }\n",
       "\n",
       "    .dataframe tbody tr th {\n",
       "        vertical-align: top;\n",
       "    }\n",
       "\n",
       "    .dataframe thead th {\n",
       "        text-align: right;\n",
       "    }\n",
       "</style>\n",
       "<table border=\"1\" class=\"dataframe\">\n",
       "  <thead>\n",
       "    <tr style=\"text-align: right;\">\n",
       "      <th></th>\n",
       "      <th>CLASS</th>\n",
       "      <th>geometry</th>\n",
       "    </tr>\n",
       "  </thead>\n",
       "  <tbody>\n",
       "    <tr>\n",
       "      <th>0</th>\n",
       "      <td>ASS</td>\n",
       "      <td>POINT (25.76894 64.77799)</td>\n",
       "    </tr>\n",
       "    <tr>\n",
       "      <th>1</th>\n",
       "      <td>ASS</td>\n",
       "      <td>POINT (25.77630 64.79350)</td>\n",
       "    </tr>\n",
       "    <tr>\n",
       "      <th>2</th>\n",
       "      <td>ASS</td>\n",
       "      <td>POINT (25.78469 64.78681)</td>\n",
       "    </tr>\n",
       "    <tr>\n",
       "      <th>3</th>\n",
       "      <td>ASS</td>\n",
       "      <td>POINT (25.31512 64.98873)</td>\n",
       "    </tr>\n",
       "  </tbody>\n",
       "</table>\n",
       "</div>"
      ],
      "text/plain": [
       "  CLASS                   geometry\n",
       "0   ASS  POINT (25.76894 64.77799)\n",
       "1   ASS  POINT (25.77630 64.79350)\n",
       "2   ASS  POINT (25.78469 64.78681)\n",
       "3   ASS  POINT (25.31512 64.98873)"
      ]
     },
     "execution_count": 138,
     "metadata": {},
     "output_type": "execute_result"
    }
   ],
   "source": [
    "geom = gpd.points_from_xy(source.POINT_X.astype(\"float\"), source.POINT_Y.astype(\"float\"))\n",
    "points = gpd.GeoDataFrame(source.CLASS, crs=\"EPSG:3067\", geometry=geom).to_crs(\"WGS84\")\n",
    "points.head(4)"
   ]
  },
  {
   "cell_type": "code",
   "execution_count": 139,
   "id": "74edc47b-aa18-486c-a821-c06f9ea189b9",
   "metadata": {},
   "outputs": [
    {
     "data": {
      "text/html": [
       "<div>\n",
       "<style scoped>\n",
       "    .dataframe tbody tr th:only-of-type {\n",
       "        vertical-align: middle;\n",
       "    }\n",
       "\n",
       "    .dataframe tbody tr th {\n",
       "        vertical-align: top;\n",
       "    }\n",
       "\n",
       "    .dataframe thead th {\n",
       "        text-align: right;\n",
       "    }\n",
       "</style>\n",
       "<table border=\"1\" class=\"dataframe\">\n",
       "  <thead>\n",
       "    <tr style=\"text-align: right;\">\n",
       "      <th></th>\n",
       "      <th>CLASS</th>\n",
       "      <th>geometry</th>\n",
       "      <th>x</th>\n",
       "      <th>y</th>\n",
       "    </tr>\n",
       "  </thead>\n",
       "  <tbody>\n",
       "    <tr>\n",
       "      <th>0</th>\n",
       "      <td>ASS</td>\n",
       "      <td>POINT (25.76894 64.77799)</td>\n",
       "      <td>25.768938</td>\n",
       "      <td>64.777988</td>\n",
       "    </tr>\n",
       "    <tr>\n",
       "      <th>1</th>\n",
       "      <td>ASS</td>\n",
       "      <td>POINT (25.77630 64.79350)</td>\n",
       "      <td>25.776304</td>\n",
       "      <td>64.793496</td>\n",
       "    </tr>\n",
       "    <tr>\n",
       "      <th>2</th>\n",
       "      <td>ASS</td>\n",
       "      <td>POINT (25.78469 64.78681)</td>\n",
       "      <td>25.784691</td>\n",
       "      <td>64.786808</td>\n",
       "    </tr>\n",
       "    <tr>\n",
       "      <th>3</th>\n",
       "      <td>ASS</td>\n",
       "      <td>POINT (25.31512 64.98873)</td>\n",
       "      <td>25.315115</td>\n",
       "      <td>64.988732</td>\n",
       "    </tr>\n",
       "  </tbody>\n",
       "</table>\n",
       "</div>"
      ],
      "text/plain": [
       "  CLASS                   geometry          x          y\n",
       "0   ASS  POINT (25.76894 64.77799)  25.768938  64.777988\n",
       "1   ASS  POINT (25.77630 64.79350)  25.776304  64.793496\n",
       "2   ASS  POINT (25.78469 64.78681)  25.784691  64.786808\n",
       "3   ASS  POINT (25.31512 64.98873)  25.315115  64.988732"
      ]
     },
     "execution_count": 139,
     "metadata": {},
     "output_type": "execute_result"
    }
   ],
   "source": [
    "points[\"x\"] = points.geometry.x\n",
    "points[\"y\"] = points.geometry.y\n",
    "points.head(4)"
   ]
  },
  {
   "cell_type": "code",
   "execution_count": 140,
   "id": "8d77368d-ffb3-45ad-bcfc-63cf573ef391",
   "metadata": {},
   "outputs": [
    {
     "name": "stdout",
     "output_type": "stream",
     "text": [
      "+-----+---------------------------+------------------+-----------------+\n",
      "|CLASS|geometry                   |x                 |y                |\n",
      "+-----+---------------------------+------------------+-----------------+\n",
      "|ASS  |{105553149400992, false, 2}|25.768937832725747|64.77798766173387|\n",
      "|ASS  |{105553149399552, false, 2}|25.77630416654702 |64.79349633623737|\n",
      "|ASS  |{105553149400224, false, 2}|25.784691167397362|64.7868078298281 |\n",
      "|ASS  |{105553149399744, false, 2}|25.315115332474953|64.98873249710591|\n",
      "+-----+---------------------------+------------------+-----------------+\n",
      "only showing top 4 rows\n",
      "\n"
     ]
    }
   ],
   "source": [
    "df = spark.createDataFrame(points)\n",
    "df.show(4,False)"
   ]
  },
  {
   "cell_type": "markdown",
   "id": "20ddd67a-2e98-4636-80c8-6f146f097d56",
   "metadata": {},
   "source": [
    "## Add point ID"
   ]
  },
  {
   "cell_type": "code",
   "execution_count": 141,
   "id": "c37a2248-6e16-44be-8041-9546d9231db8",
   "metadata": {},
   "outputs": [],
   "source": [
    "TILE_SIZE = 256\n",
    "ZOOM = 9\n",
    "\n",
    "@F.udf(returnType=T.ArrayType(T.IntegerType()))\n",
    "def project_pixel(lon, lat, zoom=ZOOM):\n",
    "    # lon, lat = p.geometry.x, p.geometry.y\n",
    "    \n",
    "    siny = np.sin(lat * np.pi / 180)\n",
    "    siny = min(max(siny, -0.9999), 0.9999)\n",
    "    \n",
    "    x = TILE_SIZE * (0.5 + lon / 360)\n",
    "    y = TILE_SIZE * (0.5 - np.log((1 + siny) / (1 - siny)) / (4 * np.pi))\n",
    "    \n",
    "    scale = 2**zoom\n",
    "\n",
    "    tx = x * scale // TILE_SIZE\n",
    "    ty = y * scale // TILE_SIZE\n",
    "\n",
    "    px = x * scale % TILE_SIZE // 1\n",
    "    py = y * scale % TILE_SIZE // 1\n",
    "\n",
    "    return [int(px), int(py)]\n",
    "    \n",
    "    \n",
    "@F.udf(returnType=T.ArrayType(T.IntegerType()))\n",
    "def project_tile(lon, lat, zoom=ZOOM):\n",
    "    # lon, lat = p.geometry.x, p.geometry.y\n",
    "    \n",
    "    siny = np.sin(lat * np.pi / 180)\n",
    "    siny = min(max(siny, -0.9999), 0.9999)\n",
    "    \n",
    "    x = TILE_SIZE * (0.5 + lon / 360)\n",
    "    y = TILE_SIZE * (0.5 - np.log((1 + siny) / (1 - siny)) / (4 * np.pi))\n",
    "    \n",
    "    scale = 2**zoom\n",
    "\n",
    "    tx = x * scale // TILE_SIZE\n",
    "    ty = y * scale // TILE_SIZE\n",
    "\n",
    "    px = x * scale % TILE_SIZE // 1\n",
    "    py = y * scale % TILE_SIZE // 1\n",
    "\n",
    "    return [int(zoom), int(tx), int(ty)]"
   ]
  },
  {
   "cell_type": "code",
   "execution_count": 142,
   "id": "82b379c6-918d-4657-bbca-39643fc4462b",
   "metadata": {},
   "outputs": [
    {
     "name": "stdout",
     "output_type": "stream",
     "text": [
      "+-----+------------------+-----------------+----------+-------------+--------+\n",
      "|CLASS|                 x|                y|     pixel|         tile|point_id|\n",
      "+-----+------------------+-----------------+----------+-------------+--------+\n",
      "|  ASS|25.768937832725747|64.77798766173387|[166, 252]|[9, 292, 133]|       0|\n",
      "|  ASS| 25.77630416654702|64.79349633623737|[168, 239]|[9, 292, 133]|       1|\n",
      "|  ASS|25.784691167397362| 64.7868078298281|[171, 245]|[9, 292, 133]|       2|\n",
      "|  ASS|25.315115332474953|64.98873249710591|   [0, 71]|[9, 292, 133]|       3|\n",
      "+-----+------------------+-----------------+----------+-------------+--------+\n",
      "only showing top 4 rows\n",
      "\n"
     ]
    }
   ],
   "source": [
    "df_points = (\n",
    "    df\n",
    "    .withColumn(\"pixel\", project_pixel(df.x, df.y))\n",
    "    .withColumn(\"tile\", project_tile(df.x, df.y))\n",
    "    .withColumn(\"point_id\", F.monotonically_increasing_id())\n",
    "    .drop(\"geometry\")\n",
    ")\n",
    "\n",
    "df_points.show(4)\n"
   ]
  },
  {
   "cell_type": "code",
   "execution_count": null,
   "id": "76c3a6c8-78b7-4f49-8656-eb064c4af39b",
   "metadata": {},
   "outputs": [],
   "source": []
  },
  {
   "cell_type": "markdown",
   "id": "2cf5c88d-574a-4f98-8b3f-cf45a92bf506",
   "metadata": {},
   "source": [
    "## pixel coordinates"
   ]
  },
  {
   "cell_type": "code",
   "execution_count": null,
   "id": "b7e4f8cd-ffca-43d7-94e4-8bbd31399801",
   "metadata": {},
   "outputs": [],
   "source": []
  },
  {
   "cell_type": "code",
   "execution_count": 143,
   "id": "cd4139af-0496-4a69-81cf-d651ae2dec44",
   "metadata": {},
   "outputs": [],
   "source": [
    "TILES_BASIC = \"/Users/tamiratatsemegiorgis/project/MapTilesViewer/basic/{z}/{x}/{y}.png\"\n",
    "TILES_HILLSHADE =\"/Users/tamiratatsemegiorgis/project/TILES_hillshade/{z}/{x}/{y}.png\"\n",
    "\n",
    "@F.udf(returnType=T.ArrayType(T.ArrayType(T.LongType())))\n",
    "def load_image_data(tile, pixel_data, tiles):\n",
    "    \"\"\"\n",
    "    tiles: folder with tiles\n",
    "    \"\"\"\n",
    "    (z, tx, ty) = tile\n",
    "    fname = tiles.format(z=z, x=tx, y=ty)\n",
    "    im = Image.open(fname)\n",
    "    arr_img= np.array(im)\n",
    "\n",
    "    data = []\n",
    "    for i, j, pid in pixel_data:\n",
    "        if arr_img.shape[-1] == 3:\n",
    "            # color image\n",
    "            r, g, b = arr_img[i, j] # 3 dim array, ?\n",
    "            data.append([int(r), int(g), int(b), pid])\n",
    "        else:\n",
    "            # grayscale image\n",
    "            gray, alpha = arr_img[i, j]\n",
    "            data.append([int(gray), pid])\n",
    "    \n",
    "    return data\n"
   ]
  },
  {
   "cell_type": "code",
   "execution_count": 144,
   "id": "fe1baa19-d7d8-4a45-bfb8-5005b1684521",
   "metadata": {},
   "outputs": [
    {
     "name": "stdout",
     "output_type": "stream",
     "text": [
      "+-------------+--------------------+--------------------+\n",
      "|         tile|     pixel_data_list|          data_basic|\n",
      "+-------------+--------------------+--------------------+\n",
      "|[9, 288, 136]|[[250, 244, 459],...|[[75, 86, 56, 459...|\n",
      "|[9, 293, 132]|[[6, 2, 108], [4,...|[[127, 142, 109, ...|\n",
      "|[9, 292, 131]|[[176, 223, 98], ...|[[111, 118, 85, 9...|\n",
      "|[9, 289, 136]|[[164, 93, 393], ...|[[93, 104, 74, 39...|\n",
      "+-------------+--------------------+--------------------+\n",
      "only showing top 4 rows\n",
      "\n"
     ]
    }
   ],
   "source": [
    "df_basic_raw = (\n",
    "    df_points\n",
    "    .select(\n",
    "        \"point_id\", \n",
    "        \"pixel\", \n",
    "        \"tile\"\n",
    "    )\n",
    "    .withColumn(\"pixel_i\", F.col(\"pixel\")[0])\n",
    "    .withColumn(\"pixel_j\", F.col(\"pixel\")[1])\n",
    "    .withColumn(\"pixel_data\", F.array(F.col(\"pixel_i\"), F.col(\"pixel_j\"), F.col(\"point_id\")))\n",
    "\n",
    "    # processing\n",
    "    .groupby(\"tile\")\n",
    "    .agg(\n",
    "        F.collect_list(\"pixel_data\").alias(\"pixel_data_list\"),\n",
    "    )\n",
    "    .withColumn(\"data_basic\", load_image_data(F.col(\"tile\"), F.col(\"pixel_data_list\"), F.lit(TILES_BASIC)))\n",
    "    \n",
    ")\n",
    "\n",
    "df_basic_raw.show(4)"
   ]
  },
  {
   "cell_type": "code",
   "execution_count": null,
   "id": "83b0eb6e-582b-46dd-bf69-30c468739966",
   "metadata": {},
   "outputs": [],
   "source": []
  },
  {
   "cell_type": "code",
   "execution_count": 202,
   "id": "74476bf6-6044-4202-a3dd-c6d69b41a662",
   "metadata": {},
   "outputs": [
    {
     "name": "stdout",
     "output_type": "stream",
     "text": [
      "+--------+-------+-------+-------+-----+\n",
      "|point_id|basic_r|basic_g|basic_b|CLASS|\n",
      "+--------+-------+-------+-------+-----+\n",
      "|      26|    118|    111|     95|    1|\n",
      "|      29|    107|    102|     82|    1|\n",
      "|     474|     53|     75|     39|    1|\n",
      "|      65|     86|    108|     70|    1|\n",
      "+--------+-------+-------+-------+-----+\n",
      "only showing top 4 rows\n",
      "\n"
     ]
    }
   ],
   "source": [
    "df_basic = (\n",
    "    df_basic_raw\n",
    "    .select(F.explode(\"data_basic\").alias(\"data\"))\n",
    "    .select(\n",
    "        F.col(\"data\")[0].alias(\"basic_r\"),\n",
    "        F.col(\"data\")[1].alias(\"basic_g\"),\n",
    "        F.col(\"data\")[2].alias(\"basic_b\"),\n",
    "        F.col(\"data\")[3].alias(\"point_id\"),\n",
    "    )\n",
    "    \n",
    "    # put back points class\n",
    "    .join(\n",
    "        df_points.select(\"CLASS\", \"point_id\"),\n",
    "        on=\"point_id\",\n",
    "    \n",
    "    )\n",
    "    .withColumn(\"CLASS\", (F.col(\"CLASS\") == \"ASS\").astype(\"int\").alias(\"class\"),)\n",
    "    \n",
    "    \n",
    ")\n",
    "\n",
    "df_basic.show(4)"
   ]
  },
  {
   "cell_type": "code",
   "execution_count": null,
   "id": "5d12d07b-51ab-4351-b7c5-22a0e65354aa",
   "metadata": {},
   "outputs": [],
   "source": []
  },
  {
   "cell_type": "code",
   "execution_count": 203,
   "id": "c0c3aa42-96c6-45c4-982f-cdc71ce29b3e",
   "metadata": {},
   "outputs": [
    {
     "name": "stdout",
     "output_type": "stream",
     "text": [
      "+--------+-------+-------+-------+-----+-------------------+\n",
      "|point_id|basic_r|basic_g|basic_b|CLASS|           features|\n",
      "+--------+-------+-------+-------+-----+-------------------+\n",
      "|      26|    118|    111|     95|    1| [118.0,111.0,95.0]|\n",
      "|      29|    107|    102|     82|    1| [107.0,102.0,82.0]|\n",
      "|     474|     53|     75|     39|    1|   [53.0,75.0,39.0]|\n",
      "|      65|     86|    108|     70|    1|  [86.0,108.0,70.0]|\n",
      "|     191|     80|     86|     58|    1|   [80.0,86.0,58.0]|\n",
      "|     418|     70|     61|     30|    1|   [70.0,61.0,30.0]|\n",
      "|     541|     50|     60|     33|    1|   [50.0,60.0,33.0]|\n",
      "|     558|     51|     59|     36|    1|   [51.0,59.0,36.0]|\n",
      "|     222|    142|    150|    113|    1|[142.0,150.0,113.0]|\n",
      "|     270|    108|    120|     84|    1| [108.0,120.0,84.0]|\n",
      "|     293|     92|     95|     64|    1|   [92.0,95.0,64.0]|\n",
      "|     243|    142|    146|    111|    1|[142.0,146.0,111.0]|\n",
      "|     278|    160|    130|    102|    1|[160.0,130.0,102.0]|\n",
      "|     367|     28|     39|     23|    1|   [28.0,39.0,23.0]|\n",
      "|     442|     96|    100|     73|    1|  [96.0,100.0,73.0]|\n",
      "|     705|     51|     71|     34|    1|   [51.0,71.0,34.0]|\n",
      "|     720|     61|     79|     53|    1|   [61.0,79.0,53.0]|\n",
      "|      19|     63|     59|     34|    1|   [63.0,59.0,34.0]|\n",
      "|      54|    145|    156|    124|    1|[145.0,156.0,124.0]|\n",
      "|     296|     62|     65|     38|    1|   [62.0,65.0,38.0]|\n",
      "+--------+-------+-------+-------+-----+-------------------+\n",
      "only showing top 20 rows\n",
      "\n"
     ]
    }
   ],
   "source": [
    "from pyspark.ml.feature import VectorAssembler\n",
    "\n",
    "data_columns = [col for col in df_basic.columns if col != \"CLASS\" and col != \"point_id\"]\n",
    "assembler = VectorAssembler(inputCols=data_columns, outputCol=\"features\")\n",
    "df_basic = assembler.transform(df_basic)\n",
    "df_basic.show()"
   ]
  },
  {
   "cell_type": "code",
   "execution_count": null,
   "id": "4bc9825f-b25c-4515-8bed-78f9fbde0f23",
   "metadata": {},
   "outputs": [],
   "source": []
  },
  {
   "cell_type": "code",
   "execution_count": 156,
   "id": "0bb473f1-9fa7-43c4-86bb-e50be6bea6a3",
   "metadata": {},
   "outputs": [
    {
     "name": "stdout",
     "output_type": "stream",
     "text": [
      "root\n",
      " |-- point_id: long (nullable = true)\n",
      " |-- basic_r: long (nullable = true)\n",
      " |-- basic_g: long (nullable = true)\n",
      " |-- basic_b: long (nullable = true)\n",
      " |-- CLASS: integer (nullable = true)\n",
      " |-- features: vector (nullable = true)\n",
      "\n"
     ]
    }
   ],
   "source": [
    "df_basic.printSchema()"
   ]
  },
  {
   "cell_type": "code",
   "execution_count": 157,
   "id": "83b4df1d-0976-43f7-9373-6fa712f7f47d",
   "metadata": {},
   "outputs": [
    {
     "name": "stdout",
     "output_type": "stream",
     "text": [
      "+-----+-----+\n",
      "|CLASS|count|\n",
      "+-----+-----+\n",
      "|    1| 3490|\n",
      "|    0| 2334|\n",
      "+-----+-----+\n",
      "\n"
     ]
    }
   ],
   "source": [
    "df_basic.groupby('CLASS').count().show()"
   ]
  },
  {
   "cell_type": "code",
   "execution_count": null,
   "id": "85cb3147-ddd3-46a9-b88f-6eedb90b1545",
   "metadata": {},
   "outputs": [],
   "source": []
  },
  {
   "cell_type": "code",
   "execution_count": 204,
   "id": "7e32c6d6-3610-4940-b38e-209e30aea2f8",
   "metadata": {},
   "outputs": [
    {
     "name": "stderr",
     "output_type": "stream",
     "text": [
      "                                                                                \r"
     ]
    },
    {
     "name": "stdout",
     "output_type": "stream",
     "text": [
      "Training Dataset Count: 4062\n",
      "Test Dataset Count: 1762\n"
     ]
    }
   ],
   "source": [
    "#split into train and test data\n",
    "train, test = df_basic.randomSplit([0.7, 0.3])\n",
    "print(\"Training Dataset Count: \" + str(train.count()))\n",
    "print(\"Test Dataset Count: \" + str(test.count()))"
   ]
  },
  {
   "cell_type": "code",
   "execution_count": null,
   "id": "15c9bdde-02dc-46d9-8ddb-b6e7e14b16d5",
   "metadata": {},
   "outputs": [],
   "source": []
  },
  {
   "cell_type": "markdown",
   "id": "d3ee4876-bd51-4fb1-958b-f59b99d2ef0c",
   "metadata": {},
   "source": [
    "## Testing using RandomForestClassifier"
   ]
  },
  {
   "cell_type": "code",
   "execution_count": null,
   "id": "1812a273-af7f-4c79-af97-35aedc65e740",
   "metadata": {},
   "outputs": [],
   "source": []
  },
  {
   "cell_type": "code",
   "execution_count": 205,
   "id": "ad43b7cf-0624-4f34-9100-a5fb79ca05f4",
   "metadata": {},
   "outputs": [
    {
     "name": "stdout",
     "output_type": "stream",
     "text": [
      "+-----+-----------------+--------------------+----------+--------------------+\n",
      "|CLASS|         features|       rawPrediction|prediction|         probability|\n",
      "+-----+-----------------+--------------------+----------+--------------------+\n",
      "|    1|[91.0,101.0,64.0]|[8.33715108866889...|       1.0|[0.41685755443344...|\n",
      "|    1| [96.0,92.0,63.0]|[8.04297578747341...|       1.0|[0.40214878937367...|\n",
      "|    1| [70.0,75.0,43.0]|[8.95949481266392...|       1.0|[0.44797474063319...|\n",
      "|    1| [69.0,73.0,48.0]|[7.55576701950746...|       1.0|[0.37778835097537...|\n",
      "+-----+-----------------+--------------------+----------+--------------------+\n",
      "only showing top 4 rows\n",
      "\n"
     ]
    }
   ],
   "source": [
    "from pyspark.ml.classification import RandomForestClassifier\n",
    "\n",
    "rf = RandomForestClassifier(featuresCol = 'features', labelCol = 'CLASS')\n",
    "rfModel = rf.fit(train)\n",
    "predictions = rfModel.transform(test)\n",
    "predictions.select('CLASS', 'features',  'rawPrediction', 'prediction', 'probability').show(4)\n",
    "\n"
   ]
  },
  {
   "cell_type": "code",
   "execution_count": null,
   "id": "78650444-336e-41a3-9d4f-3ba53256771d",
   "metadata": {},
   "outputs": [],
   "source": []
  },
  {
   "cell_type": "code",
   "execution_count": 171,
   "id": "dc37e860-a836-4cdb-a7be-3f700d400dd3",
   "metadata": {
    "tags": []
   },
   "outputs": [
    {
     "data": {
      "image/png": "[encoded data removed]",
      "text/plain": [
       "<Figure size 432x288 with 1 Axes>"
      ]
     },
     "metadata": {
      "needs_background": "light"
     },
     "output_type": "display_data"
    },
    {
     "name": "stdout",
     "output_type": "stream",
     "text": [
      "Training set areaUnderROC: 0.626287871641873\n"
     ]
    }
   ],
   "source": [
    "import matplotlib.pyplot as plt\n",
    "import seaborn as sns\n",
    "\n",
    "trainingSummary = rfModel.summary\n",
    "roc = trainingSummary.roc.toPandas()\n",
    "plt.plot(roc['FPR'],roc['TPR'])\n",
    "plt.ylabel('False Positive Rate')\n",
    "plt.xlabel('True Positive Rate')\n",
    "plt.title('ROC Curve')\n",
    "plt.show()\n",
    "print('Training set areaUnderROC: ' + str(trainingSummary.areaUnderROC))"
   ]
  },
  {
   "cell_type": "markdown",
   "id": "501246c5-2ba3-490a-ab54-141a0368f21b",
   "metadata": {},
   "source": [
    "### Evaluate our Random Forest Classifier"
   ]
  },
  {
   "cell_type": "code",
   "execution_count": null,
   "id": "dc80ff45-3c52-4bd8-b11e-92bb483cbf4e",
   "metadata": {},
   "outputs": [],
   "source": []
  },
  {
   "cell_type": "code",
   "execution_count": 200,
   "id": "bfed78be-cd24-4c3e-ac9e-ff05f7c46446",
   "metadata": {},
   "outputs": [
    {
     "name": "stderr",
     "output_type": "stream",
     "text": [
      "[Stage 1582:>                                                       (0 + 8) / 8]\r"
     ]
    },
    {
     "name": "stdout",
     "output_type": "stream",
     "text": [
      "Accuracy = 0.519292653672366\n",
      "Test Error = 0.480707346327634\n"
     ]
    },
    {
     "name": "stderr",
     "output_type": "stream",
     "text": [
      "                                                                                \r"
     ]
    }
   ],
   "source": [
    "accuracy = evaluator.evaluate(predictions)\n",
    "print(\"Accuracy = %s\" % (accuracy))\n",
    "print(\"Test Error = %s\" % (1.0 - accuracy))\n"
   ]
  },
  {
   "cell_type": "code",
   "execution_count": null,
   "id": "d99e51ad-6b84-449c-a67b-be5c370cfb2d",
   "metadata": {},
   "outputs": [],
   "source": []
  },
  {
   "cell_type": "code",
   "execution_count": null,
   "id": "89ab6a14-a964-4bf6-a708-cfb84de0e4b7",
   "metadata": {},
   "outputs": [],
   "source": []
  },
  {
   "cell_type": "code",
   "execution_count": null,
   "id": "d088aa17-d04d-49d7-a6da-59aac059447e",
   "metadata": {},
   "outputs": [],
   "source": []
  },
  {
   "cell_type": "code",
   "execution_count": null,
   "id": "ef5cfff1-92c3-45f5-8c42-c1e4f317406d",
   "metadata": {},
   "outputs": [],
   "source": []
  }
 ],
 "metadata": {
  "kernelspec": {
   "display_name": "Python 3 (ipykernel)",
   "language": "python",
   "name": "python3"
  },
  "language_info": {
   "codemirror_mode": {
    "name": "ipython",
    "version": 3
   },
   "file_extension": ".py",
   "mimetype": "text/x-python",
   "name": "python",
   "nbconvert_exporter": "python",
   "pygments_lexer": "ipython3",
   "version": "3.9.12"
  }
 },
 "nbformat": 4,
 "nbformat_minor": 5
}
